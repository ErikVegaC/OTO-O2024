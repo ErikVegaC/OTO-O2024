{
  "metadata": {
    "kernelspec": {
      "name": "python",
      "display_name": "Python (Pyodide)",
      "language": "python"
    },
    "language_info": {
      "codemirror_mode": {
        "name": "python",
        "version": 3
      },
      "file_extension": ".py",
      "mimetype": "text/x-python",
      "name": "python",
      "nbconvert_exporter": "python",
      "pygments_lexer": "ipython3",
      "version": "3.8"
    },
    "colab": {
      "collapsed_sections": [],
      "name": "Funciones escalares.ipynb",
      "provenance": []
    }
  },
  "nbformat_minor": 4,
  "nbformat": 4,
  "cells": [
    {
      "cell_type": "markdown",
      "source": "# Optimización de funciones escalares diferenciables con `SymPy`\n\n<img style=\"float: right; margin: 0px 0px 15px 15px;\" src=\"https://upload.wikimedia.org/wikipedia/commons/thumb/b/b6/Extrema_example_es.svg/1200px-Extrema_example_es.svg.png\" width=\"300px\" height=\"100px\" />\n\n- Mediante optimización se obtienen soluciones elegantes tanto en teoría como en ciertas aplicaciones. \n- La teoría de optimización usa elementos comenzando con cálculo elemental y álgebra lineal básica, y luego se extiende con análisis funcional y convexo.\n- Las aplicaciones en optimización involucran ciencia, ingeniería, economía, finanzas e industria.\n- El amplio y creciente uso de la optimización lo hace escencial para estudiantes y profesionales de cualquier rama de la ciencia y la tecnología.\n\n**Referencia:**\n- http://www.math.uwaterloo.ca/~hwolkowi//henry/reports/talks.d/t06talks.d/06msribirs.d/optimportance.shtml\n\n",
      "metadata": {
        "colab_type": "text",
        "id": "8vITRYq-Tdwq"
      }
    },
    {
      "cell_type": "markdown",
      "source": "<img style=\"float: right; margin: 0px 0px 15px 15px;\" src=\"https://upload.wikimedia.org/wikipedia/commons/thumb/e/e7/OpenStreetMap_routing_service.png/300px-OpenStreetMap_routing_service.png\" width=\"300px\" height=\"100px\" />\n\n### Algunas aplicaciones son:\n\n1. **Ingeniería:**\n - Encontrar la composición de equilibrio de una mezcla de diferentes átomos.\n - Planeación de ruta para un robot (o vehículo aéreo no tripulado).\n - Planeación de la mano de obra óptima en una construcción o planta de producción.\n - Análisis conformacional - Isomería conformacional en modelado molecular\n - Desempeño en fermentación de productos.\n - Estimación de parámetros en bioquímica e ingeniería metabólica.\n \n \n2. **Distribución óptima de recursos:**\n - Distribución de rutas de vuelo.\n - Encontrar una dieta óptima.\n - Planeación de ruta óptima.\n \n \n3. **Optimización financiera:**\n - Administración de riesgos.\n - Portafolios de inversión.\n - Problema de maximización de la utilidad.\n - la calibración de modelos de precios de opciones para datos de mercado\n - la optimización de la función de utilidad de un agente",
      "metadata": {
        "colab_type": "text",
        "id": "gTdZipcKTdwz"
      }
    },
    {
      "cell_type": "markdown",
      "source": "### <p style=\"color:green;\">En esta clase veremos aspectos básicos de optimización. Específicamente, veremos cómo obtener máximos y mínimos de una función escalar de una variable (como en cálculo diferencial).</p>\n\n<img style=\"float: center\" src=\"https://matematicasies.com/local/cache-vignettes/L337xH278/extremos-77d0a.png\" width=\"400px\" height=\"100px\" />",
      "metadata": {
        "colab_type": "text",
        "id": "iwfHYBvETdw5"
      }
    },
    {
      "cell_type": "markdown",
      "source": "Mínimo local",
      "metadata": {}
    },
    {
      "cell_type": "markdown",
      "source": "$$ f(c) < f(c \\pm a)   $$",
      "metadata": {}
    },
    {
      "cell_type": "markdown",
      "source": "Mínimo global",
      "metadata": {}
    },
    {
      "cell_type": "markdown",
      "source": "$$ f(c) < f(c \\pm a)   $$",
      "metadata": {}
    },
    {
      "cell_type": "markdown",
      "source": "___\n## 0. Librerías que usaremos\n<img style=\"float: center\" src=\"https://upload.wikimedia.org/wikipedia/commons/thumb/4/4a/Python3-powered_hello-world.svg/1000px-Python3-powered_hello-world.svg.png\" width=\"300px\" height=\"100px\" />\n",
      "metadata": {
        "colab_type": "text",
        "id": "7uLPJbcWTdxA"
      }
    },
    {
      "cell_type": "markdown",
      "source": "### 0.1 `NumPy`\n\n<img style=\"float: right; margin: 0px 0px 15px 15px;\" src=\"https://numpy.org/images/logos/numpy.svg\" width=\"300px\" height=\"100px\" />\n\n`NumPy` (Numerical Python) es la librería fundamental para computación científica (numérica) con `Python`. Contiene, entre otras cosas:\n- un objeto tipo arreglo N-dimensional muy poderoso\n- funciones sofisticadas\n- funciones de álgebra lineal, transformada de Fourier y números aleatorios.\n\nPor lo anterior, `NumPy` es de amplio uso entre la comunidad científica e ingenieril (por su manejo de cantidades vectoriales). De la misma manera, se usa para guardar datos. Para nuestros propósitos, se puede usar libremente.\n\n**Referencia:**\n- http://www.numpy.org/",
      "metadata": {
        "colab_type": "text",
        "id": "Ik4wEfofTdxF"
      }
    },
    {
      "cell_type": "markdown",
      "source": "`NumPy` ya viene incluido en la instalación estándar de Anaconda por defecto. Para comenzar a usarlo, solo debemos de importarlo:",
      "metadata": {
        "colab_type": "text",
        "id": "9O6a9kpVTdxK"
      }
    },
    {
      "cell_type": "markdown",
      "source": "### 0.2 `SymPy`\n\n<img style=\"float: right; margin: 0px 0px 15px 15px;\" src=\"http://www.sympy.org/static/images/logo.png\" width=\"300px\" height=\"100px\" />\n\n`SymPy` (Symbolic Python) es una librería de `Python` para matemáticas simbólicas. Su objetivo es convertirse en un sistema de álgebra computacional con las mejores características, manteniendo el código lo más simple posible para que sea comprensible.\n\n**Referencia:**\n- http://www.sympy.org/en/index.html",
      "metadata": {
        "colab_type": "text",
        "id": "6Ccg3wKhTdxg"
      }
    },
    {
      "cell_type": "markdown",
      "source": "`SymPy` ya viene incluido en la instalación estándar de Anaconda por defecto. Para comenzar a usarlo, solo debemos de importarlo:",
      "metadata": {
        "colab_type": "text",
        "id": "T5bDWTY_Tdxl"
      }
    },
    {
      "cell_type": "code",
      "source": "import sympy as sp\n\nsp.var(\"x\")\nsp.var(\"y\")\nsp.var(\"z\")\n\n(x**2 + 3*x) * (2*y - z) * (z**2 - x)",
      "metadata": {
        "trusted": true
      },
      "outputs": [
        {
          "execution_count": 28,
          "output_type": "execute_result",
          "data": {
            "text/plain": "(-x + z**2)*(x**2 + 3*x)*(2*y - z)",
            "text/latex": "$\\displaystyle \\left(- x + z^{2}\\right) \\left(x^{2} + 3 x\\right) \\left(2 y - z\\right)$"
          },
          "metadata": {}
        }
      ],
      "execution_count": 28
    },
    {
      "cell_type": "code",
      "source": "type(x)",
      "metadata": {
        "trusted": true
      },
      "outputs": [
        {
          "execution_count": 29,
          "output_type": "execute_result",
          "data": {
            "text/plain": "sympy.core.symbol.Symbol"
          },
          "metadata": {}
        }
      ],
      "execution_count": 29
    },
    {
      "cell_type": "code",
      "source": "sp.sin(x) * sp.exp(y) + sp.log(x)\n",
      "metadata": {
        "trusted": true
      },
      "outputs": [
        {
          "execution_count": 30,
          "output_type": "execute_result",
          "data": {
            "text/plain": "exp(y)*sin(x) + log(x)",
            "text/latex": "$\\displaystyle e^{y} \\sin{\\left(x \\right)} + \\log{\\left(x \\right)}$"
          },
          "metadata": {}
        }
      ],
      "execution_count": 30
    },
    {
      "cell_type": "code",
      "source": "x = input(float)",
      "metadata": {
        "trusted": true
      },
      "outputs": [],
      "execution_count": 31
    },
    {
      "cell_type": "markdown",
      "source": "",
      "metadata": {}
    },
    {
      "cell_type": "code",
      "source": "",
      "metadata": {
        "trusted": true
      },
      "outputs": [],
      "execution_count": null
    },
    {
      "cell_type": "code",
      "source": "",
      "metadata": {
        "trusted": true
      },
      "outputs": [],
      "execution_count": null
    },
    {
      "cell_type": "code",
      "source": "",
      "metadata": {
        "trusted": true
      },
      "outputs": [],
      "execution_count": null
    },
    {
      "cell_type": "code",
      "source": "",
      "metadata": {
        "trusted": true
      },
      "outputs": [],
      "execution_count": null
    },
    {
      "cell_type": "markdown",
      "source": "# Simbólicos",
      "metadata": {}
    },
    {
      "cell_type": "markdown",
      "source": "La funcionalidad de imprimir en formato LaTex que nos da `SymPy` mediante el proyecto `mathjax` hace de `SymPy` una herramienta muy atractiva...",
      "metadata": {
        "colab_type": "text",
        "id": "gjOLQEXhTdx5"
      }
    },
    {
      "cell_type": "code",
      "source": "import sympy as sp\n\nsp.var(\"x\")\nsp.var(\"y\")\nsp.var(\"z\")\n\n(x**2 + 3*x) * (2*y - z) * (z**2 - x)\n",
      "metadata": {
        "trusted": true
      },
      "outputs": [
        {
          "execution_count": 26,
          "output_type": "execute_result",
          "data": {
            "text/plain": "(-x + z**2)*(x**2 + 3*x)*(2*y - z)",
            "text/latex": "$\\displaystyle \\left(- x + z^{2}\\right) \\left(x^{2} + 3 x\\right) \\left(2 y - z\\right)$"
          },
          "metadata": {}
        }
      ],
      "execution_count": 26
    },
    {
      "cell_type": "code",
      "source": "sp.sin(x) * sp.exp(y) + sp.log(x)\n",
      "metadata": {
        "trusted": true
      },
      "outputs": [
        {
          "execution_count": 27,
          "output_type": "execute_result",
          "data": {
            "text/plain": "exp(y)*sin(x) + log(x)",
            "text/latex": "$\\displaystyle e^{y} \\sin{\\left(x \\right)} + \\log{\\left(x \\right)}$"
          },
          "metadata": {}
        }
      ],
      "execution_count": 27
    },
    {
      "cell_type": "code",
      "source": "",
      "metadata": {},
      "outputs": [],
      "execution_count": null
    },
    {
      "cell_type": "markdown",
      "source": "Notar que en `SymPy` y en `NumPy` existen funciones con el mismo nombre, pero reciben tipos de datos diferentes...",
      "metadata": {
        "colab_type": "text",
        "id": "UrAXbps6Tdx-"
      }
    },
    {
      "cell_type": "code",
      "source": "# Numpy numeros \n# Sympy simbolos ",
      "metadata": {
        "trusted": true
      },
      "outputs": [],
      "execution_count": null
    },
    {
      "cell_type": "markdown",
      "source": "Explicar el uso de la sintaxis `from numpy import *` y sus peligros (**no recomendable**).",
      "metadata": {
        "colab_type": "text",
        "id": "KeFOROWHTdyj"
      }
    },
    {
      "cell_type": "code",
      "source": " ## from numpy import * \n",
      "metadata": {
        "trusted": true
      },
      "outputs": [],
      "execution_count": 25
    },
    {
      "cell_type": "markdown",
      "source": "### 0.3 `PyPlot` de `matplotlib`\n\n<img style=\"float: right; margin: 0px 0px 15px 15px;\" src=\"https://matplotlib.org/_static/logo2.svg\" width=\"300px\" height=\"100px\" />\n\nEl módulo `PyPlot` de la librería `matplotlib` contiene funciones que nos permite generar una gran cantidad de gráficas rápidamente. Las funciones de este módulo están escritas con el mismo nombre que las funciones para graficar en `Matlab`.\n\n**Referencia:**\n- https://matplotlib.org/api/pyplot_summary.html",
      "metadata": {
        "colab_type": "text",
        "id": "PApadjXXTdy1"
      }
    },
    {
      "cell_type": "code",
      "source": "import matplotlib.pyplot as plt \nimport numpy as np \n\n\nx = np.linspace(-5,5,1000) \n\n\ny = x**2 \n\nplt.grid()\nplt.plot(x,y) ",
      "metadata": {
        "trusted": true
      },
      "outputs": [
        {
          "execution_count": 32,
          "output_type": "execute_result",
          "data": {
            "text/plain": "[<matplotlib.lines.Line2D at 0x62cbde0>]"
          },
          "metadata": {}
        },
        {
          "output_type": "display_data",
          "data": {
            "text/plain": "<Figure size 640x480 with 1 Axes>",
            "image/png": "[encoded data removed]"
          },
          "metadata": {}
        }
      ],
      "execution_count": 32
    },
    {
      "cell_type": "code",
      "source": "",
      "metadata": {},
      "outputs": [],
      "execution_count": null
    },
    {
      "cell_type": "code",
      "source": "",
      "metadata": {},
      "outputs": [],
      "execution_count": null
    },
    {
      "cell_type": "markdown",
      "source": "## 1. Teorema de Fermat (análisis)\n\nSi una función $f(x)$ alcanza un máximo o mínimo local en $x=c$, y si la derivada $f'(c)$ existe en el punto $c$, entonces $f'(c) = 0$.",
      "metadata": {
        "colab_type": "text",
        "id": "O8veHX8PTdzJ"
      }
    },
    {
      "cell_type": "markdown",
      "source": "### Ejemplo\n\n$$ f(x) = -x^2 - 2 $$",
      "metadata": {}
    },
    {
      "cell_type": "markdown",
      "source": "$$ f'(x) = -2x $$",
      "metadata": {}
    },
    {
      "cell_type": "markdown",
      "source": "$$ f'(x) = 0 $$",
      "metadata": {}
    },
    {
      "cell_type": "markdown",
      "source": "$$ -2x = 0 $$",
      "metadata": {}
    },
    {
      "cell_type": "markdown",
      "source": "$$ x = 0 $$",
      "metadata": {}
    },
    {
      "cell_type": "code",
      "source": "import numpy as np \nimport matplotlib.pyplot as plt\n\nx= np.linspace(-3,3,1000) \n\ny = -x**2 - 2 \n\nplt.grid()\nplt.plot(x,y)",
      "metadata": {
        "trusted": true
      },
      "outputs": [
        {
          "execution_count": 24,
          "output_type": "execute_result",
          "data": {
            "text/plain": "[<matplotlib.lines.Line2D at 0x63aab38>]"
          },
          "metadata": {}
        },
        {
          "output_type": "display_data",
          "data": {
            "text/plain": "<Figure size 640x480 with 1 Axes>",
            "image/png": "[encoded data removed]"
          },
          "metadata": {}
        }
      ],
      "execution_count": 24
    },
    {
      "cell_type": "code",
      "source": "",
      "metadata": {
        "trusted": true
      },
      "outputs": [],
      "execution_count": null
    },
    {
      "cell_type": "code",
      "source": "",
      "metadata": {
        "trusted": true
      },
      "outputs": [],
      "execution_count": null
    },
    {
      "cell_type": "code",
      "source": "",
      "metadata": {
        "trusted": true
      },
      "outputs": [],
      "execution_count": null
    },
    {
      "cell_type": "markdown",
      "source": "### Ejemplo\n\nSabemos que la función $f(x)=(x-2)^2$ tiene un mínimo global en $x=2$, pues\n\n$$f(x)=(x-2)^2\\geq0,\\qquad\\text{y}\\qquad f(x)=(x-2)^2=0 \\qquad\\text{si y solo si}\\qquad x=2.$$",
      "metadata": {
        "colab_type": "text",
        "id": "ZEUcqZoPTdzO"
      }
    },
    {
      "cell_type": "code",
      "source": "\nx = np.linspace(-1,5,1000) \n\ny = (x-2)**2 \n\nplt.plot(x,y)\nplt.grid()",
      "metadata": {
        "trusted": true
      },
      "outputs": [
        {
          "output_type": "display_data",
          "data": {
            "text/plain": "<Figure size 640x480 with 1 Axes>",
            "image/png": "[encoded data removed]"
          },
          "metadata": {}
        }
      ],
      "execution_count": 34
    },
    {
      "cell_type": "code",
      "source": "import sympy as sp \n\nsp.var(\"x\")\ny = (x-2)**2 \n\ndy = sp.diff(y,x)  # Deriva \"y\" respecto a \"x\" \n\nsp.solve(dy,x) # Resuelve la ecuación llamda ´dy´ respecto a ´x´ ",
      "metadata": {
        "trusted": true
      },
      "outputs": [
        {
          "execution_count": 37,
          "output_type": "execute_result",
          "data": {
            "text/plain": "[2]"
          },
          "metadata": {}
        }
      ],
      "execution_count": 37
    },
    {
      "cell_type": "code",
      "source": "pc = sp.solve((x**2 - 3*x -8),x)\n\npc[1]",
      "metadata": {
        "trusted": true
      },
      "outputs": [
        {
          "execution_count": 50,
          "output_type": "execute_result",
          "data": {
            "text/plain": "3/2 + sqrt(41)/2",
            "text/latex": "$\\displaystyle \\frac{3}{2} + \\frac{\\sqrt{41}}{2}$"
          },
          "metadata": {}
        }
      ],
      "execution_count": 50
    },
    {
      "cell_type": "code",
      "source": "",
      "metadata": {
        "trusted": true
      },
      "outputs": [],
      "execution_count": null
    },
    {
      "cell_type": "code",
      "source": "",
      "metadata": {
        "trusted": true
      },
      "outputs": [],
      "execution_count": null
    },
    {
      "cell_type": "code",
      "source": "",
      "metadata": {
        "trusted": true
      },
      "outputs": [],
      "execution_count": null
    },
    {
      "cell_type": "code",
      "source": "",
      "metadata": {
        "trusted": true
      },
      "outputs": [],
      "execution_count": null
    },
    {
      "cell_type": "code",
      "source": "",
      "metadata": {
        "trusted": true
      },
      "outputs": [],
      "execution_count": null
    },
    {
      "cell_type": "markdown",
      "source": "### **Otra manera de hacer lo anterior**\n\nRevisemos el concepto de función en `Python`",
      "metadata": {
        "colab_type": "text",
        "id": "67SkgnjhTd1g"
      }
    },
    {
      "cell_type": "code",
      "source": "def f(x) : \n    return (x-2)**2 \n",
      "metadata": {
        "trusted": true
      },
      "outputs": [],
      "execution_count": 51
    },
    {
      "cell_type": "code",
      "source": "sp.var(\"x\")\n\nf(x)",
      "metadata": {
        "trusted": true
      },
      "outputs": [
        {
          "execution_count": 53,
          "output_type": "execute_result",
          "data": {
            "text/plain": "(x - 2)**2",
            "text/latex": "$\\displaystyle \\left(x - 2\\right)^{2}$"
          },
          "metadata": {}
        }
      ],
      "execution_count": 53
    },
    {
      "cell_type": "code",
      "source": "x = np.linspace(0,1,10)\nf(x) ",
      "metadata": {
        "trusted": true
      },
      "outputs": [
        {
          "execution_count": 54,
          "output_type": "execute_result",
          "data": {
            "text/plain": "array([4.        , 3.56790123, 3.16049383, 2.77777778, 2.41975309,\n       2.08641975, 1.77777778, 1.49382716, 1.2345679 , 1.        ])"
          },
          "metadata": {}
        }
      ],
      "execution_count": 54
    },
    {
      "cell_type": "markdown",
      "source": "**El converso del teorema anterior no es cierto.**\n\n### Actividad\nConsidere $g(x)=(x-2)^3$. \n- Usando `sympy`, muestre que $g'(2)=0$.\n- Sin embargo, descartar que $x=2$ es un extremo de $g(x)$ viendo su **gráfica**.",
      "metadata": {
        "colab_type": "text",
        "id": "nJKkfvTVTd2y"
      }
    },
    {
      "cell_type": "code",
      "source": "sp.var(\"x\") \n\ny1 = (x-2)**3\n\nsp.solve(sp.diff(y1,x),x)\n\nprint(\"La pendiente es \" +str(sp.solve(sp.diff(y1,x),x)))",
      "metadata": {
        "trusted": true
      },
      "outputs": [
        {
          "name": "stdout",
          "text": "La pendiente es [2]\n",
          "output_type": "stream"
        }
      ],
      "execution_count": 69
    },
    {
      "cell_type": "code",
      "source": "x = np.linspace(-15,15,1000) \ny1 = (x-2)**3 \nplt.plot(x,y1) \nplt.grid()",
      "metadata": {
        "trusted": true
      },
      "outputs": [
        {
          "output_type": "display_data",
          "data": {
            "text/plain": "<Figure size 640x480 with 1 Axes>",
            "image/png": "[encoded data removed]"
          },
          "metadata": {}
        }
      ],
      "execution_count": 65
    },
    {
      "cell_type": "code",
      "source": "",
      "metadata": {},
      "outputs": [],
      "execution_count": null
    },
    {
      "cell_type": "markdown",
      "source": "## 2. Criterio de la segunda derivada\n\nSea $f(x)$ una función tal que $f’(c)=0$ y cuya segunda derivada existe en un intervalo abierto que contiene a $c$.\n- Si $f’’(c)>0$, entonces $f(c)$ es un mínimo relativo.\n- Si $f’’(c)<0$, entonces $f(c)$ es un máximo relativo.\n- Si $f’’(c)=0$, entonces el criterio no decide. ",
      "metadata": {
        "colab_type": "text",
        "id": "5cHqWJmcTd3A"
      }
    },
    {
      "cell_type": "markdown",
      "source": "### Ejemplo\n\nMostrar, usando `sympy`, que la función $f(x)=(x-2)^2$ tiene un mínimo relativo en $x=2$.\n\nYa vimos que $f'(2)=0$. Notemos que:",
      "metadata": {
        "colab_type": "text",
        "id": "l4NcYjskTd3G"
      }
    },
    {
      "cell_type": "code",
      "source": "def f(x) : \n    return (x-2)**2 \ndf = sp.diff(f(x),x)\nd2f = sp.diff(df,x) \n\npc = sp.solve(d2f,x)\npc2 = sp.solve(df,x) \n\npc\npc2",
      "metadata": {
        "trusted": true
      },
      "outputs": [
        {
          "execution_count": 79,
          "output_type": "execute_result",
          "data": {
            "text/plain": "[2]"
          },
          "metadata": {}
        }
      ],
      "execution_count": 79
    },
    {
      "cell_type": "code",
      "source": "",
      "metadata": {
        "trusted": true
      },
      "outputs": [],
      "execution_count": null
    },
    {
      "cell_type": "code",
      "source": "",
      "metadata": {
        "trusted": true
      },
      "outputs": [],
      "execution_count": null
    },
    {
      "cell_type": "code",
      "source": "",
      "metadata": {
        "trusted": true
      },
      "outputs": [],
      "execution_count": null
    },
    {
      "cell_type": "code",
      "source": "",
      "metadata": {
        "trusted": true
      },
      "outputs": [],
      "execution_count": null
    },
    {
      "cell_type": "code",
      "source": "",
      "metadata": {
        "trusted": true
      },
      "outputs": [],
      "execution_count": null
    },
    {
      "cell_type": "markdown",
      "source": "",
      "metadata": {}
    },
    {
      "cell_type": "markdown",
      "source": "Por tanto, por el criterio de la segunda derivada, $f(2)=0$ es un mínimo relativo (en efecto, el mínimo global).",
      "metadata": {
        "colab_type": "text",
        "id": "IMiFjnaMTd32"
      }
    },
    {
      "cell_type": "markdown",
      "source": "### Ejemplo\n¿Qué pasa con $g(x)=(x-2)^3$ al intentar utilizar el criterio de la segunda derivada? (usar `sympy`).",
      "metadata": {
        "colab_type": "text",
        "id": "LRddFOZBTd36"
      }
    },
    {
      "cell_type": "markdown",
      "source": "Como $g''(2)=0$ entonces el criterio de la segunda derivada no concluye.",
      "metadata": {
        "colab_type": "text",
        "id": "rQXsRXMZTd4k"
      }
    },
    {
      "cell_type": "code",
      "source": "def f(x) : \n    return (x-2)**3 \ndf = sp.diff(f(x),x)\nd2f = sp.diff(df,x) \n\npc = sp.solve(d2f,x)\npc2 = sp.solve(df,x) \n\n",
      "metadata": {
        "trusted": true
      },
      "outputs": [],
      "execution_count": 80
    },
    {
      "cell_type": "code",
      "source": "pc2",
      "metadata": {
        "trusted": true
      },
      "outputs": [
        {
          "execution_count": 82,
          "output_type": "execute_result",
          "data": {
            "text/plain": "[2]"
          },
          "metadata": {}
        }
      ],
      "execution_count": 82
    },
    {
      "cell_type": "code",
      "source": "d2f.subs(x,2)  \n",
      "metadata": {
        "trusted": true
      },
      "outputs": [
        {
          "execution_count": 83,
          "output_type": "execute_result",
          "data": {
            "text/plain": "0",
            "text/latex": "$\\displaystyle 0$"
          },
          "metadata": {}
        }
      ],
      "execution_count": 83
    },
    {
      "cell_type": "code",
      "source": "sp.var(\"x\")\nd2f.subs(x,2) # Sustituye todos las ´x´ por el valor \"2\" ",
      "metadata": {
        "trusted": true
      },
      "outputs": [
        {
          "execution_count": 85,
          "output_type": "execute_result",
          "data": {
            "text/plain": "0",
            "text/latex": "$\\displaystyle 0$"
          },
          "metadata": {}
        }
      ],
      "execution_count": 85
    },
    {
      "cell_type": "code",
      "source": "",
      "metadata": {
        "trusted": true
      },
      "outputs": [],
      "execution_count": null
    },
    {
      "cell_type": "code",
      "source": "",
      "metadata": {
        "trusted": true
      },
      "outputs": [],
      "execution_count": null
    },
    {
      "cell_type": "code",
      "source": "",
      "metadata": {
        "trusted": true
      },
      "outputs": [],
      "execution_count": null
    },
    {
      "cell_type": "markdown",
      "source": "### Ejemplo de sistema de ecuaciones",
      "metadata": {}
    },
    {
      "cell_type": "markdown",
      "source": "$$ x + y = 4 $$\n\n$$ x - 3y = 7 $$",
      "metadata": {}
    },
    {
      "cell_type": "code",
      "source": "sp.var(\"x\") \nsp.var(\"y\") \n\n# Defina ecuaciones \n\neq1 = x+ y - 4 \neq2 = x-3*y - 7 \n\n# Reuselve una variavle en una ecuacion\nx_eq1 = sp.solve(eq1,x)[0]\n\n# Sustituya en segunda ecuacion \ny_eq2 = eq2.subs(x,x_eq1)\n\n#Resuelva segunda ecuación\n\ny_sol = sp.solve(y_eq2,y)[0]\n\n# Sustituya valor de \"y\" para enconctrar valor de \"x\" \n\nx_sol = x_eq1.subs(y,",
      "metadata": {
        "trusted": true
      },
      "outputs": [
        {
          "execution_count": 87,
          "output_type": "execute_result",
          "data": {
            "text/plain": "-4*y - 3",
            "text/latex": "$\\displaystyle - 4 y - 3$"
          },
          "metadata": {}
        }
      ],
      "execution_count": 87
    },
    {
      "cell_type": "code",
      "source": "",
      "metadata": {},
      "outputs": [],
      "execution_count": null
    },
    {
      "cell_type": "code",
      "source": "",
      "metadata": {},
      "outputs": [],
      "execution_count": null
    },
    {
      "cell_type": "markdown",
      "source": "### Actividad\n\n¿Qué pasa con $h(x)=(x-2)^4$ al intentar utilizar el criterio de la segunda derivada?.",
      "metadata": {
        "colab_type": "text",
        "id": "EtrhIC04Td4n"
      }
    },
    {
      "cell_type": "code",
      "source": "",
      "metadata": {},
      "outputs": [],
      "execution_count": null
    },
    {
      "cell_type": "code",
      "source": "",
      "metadata": {},
      "outputs": [],
      "execution_count": null
    },
    {
      "cell_type": "code",
      "source": "",
      "metadata": {},
      "outputs": [],
      "execution_count": null
    },
    {
      "cell_type": "markdown",
      "source": "## 3. Método para determinar extremos absolutos de una función continua y=f(x) en [a,b] \n\n- Determinar todos los valores críticos $c_1, c_2, c_3, \\dots, c_n$ en $(a,b)$.\n- Evaluar $f$ en todos los valores críticos y en los extremos $x=a$ y $x=b$.\n- El más grande y el más pequeño de los valores de la lista $f(a), f(b), f(c_1), f(c_2), \\dots, f(c_n)$ son el máximo absoluto y el mínimo absoluto, respectivamente, de $f$ en el intervalo $[a,b]$.",
      "metadata": {
        "colab_type": "text",
        "id": "ADXxt3lLTd43"
      }
    },
    {
      "cell_type": "markdown",
      "source": "### Ejemplo\n\nDeterminar los extremos absolutos de $f(x)=x^2-2x+5$ en $\\left[0,3\\right]$.\n\nObtenemos los puntos críticos de $f$ en $\\left[0,3\\right]$:",
      "metadata": {
        "colab_type": "text",
        "collapsed": true,
        "id": "HiedyU4lTd5B",
        "jupyter": {
          "outputs_hidden": true
        }
      }
    },
    {
      "cell_type": "code",
      "source": "",
      "metadata": {},
      "outputs": [],
      "execution_count": null
    },
    {
      "cell_type": "markdown",
      "source": "Evaluamos $f$ en los extremos y en los puntos críticos:",
      "metadata": {
        "colab_type": "text",
        "id": "wDmIoTF7Td5h"
      }
    },
    {
      "cell_type": "code",
      "source": "",
      "metadata": {},
      "outputs": [],
      "execution_count": null
    },
    {
      "cell_type": "markdown",
      "source": "### Actividad\nDeterminar los valores extremos absolutos de  $f(x) = (x-3)^2(x+3)^2$ en el intervalo $[-4,\\,4]$, usando `sympy`. Mostrar en una gráfica.",
      "metadata": {
        "colab_type": "text",
        "id": "iVZJEjM3Td6Q"
      }
    },
    {
      "cell_type": "code",
      "source": "",
      "metadata": {},
      "outputs": [],
      "execution_count": null
    },
    {
      "cell_type": "code",
      "source": "",
      "metadata": {},
      "outputs": [],
      "execution_count": null
    },
    {
      "cell_type": "code",
      "source": "",
      "metadata": {},
      "outputs": [],
      "execution_count": null
    },
    {
      "cell_type": "markdown",
      "source": "---\n1. **Resistencia de una viga**  Una viga de madera tiene una sección transversal rectangular de altura $h$ y ancho $w$. La resistencia $S$ de la viga es directamente proporcional al ancho y al cuadrado de su altura ($S=kwh^2$, donde $k$ es una constante de proporcionalidad). ¿Cuáles son las dimensiones de la viga más fuerte que puede cortarse a partir de un leño redondo de $24$ pulgadas de diámetro?",
      "metadata": {}
    },
    {
      "cell_type": "code",
      "source": "import numpy as np\nimport matplotlib.pyplot as plt\nimport matplotlib.patches as patches\n\nC = patches.Circle((0, 0),12, fill=False,color='brown',lw=4)\nS = patches.Rectangle((-9,-8),18,16,fill=False,color='k')\nax = plt.gca()\nax.add_artist(S)\nax.add_artist(C)\n\nplt.text(0,8.5,'$w$')\nplt.text(9.5,0,'$h$')\n\nplt.plot([-9,9],[-8,8],'r--')\nplt.text(0,2,'$24$')\n\nplt.axis('equal')\nplt.ylim([-15,15])\nplt.axis('off')\nplt.show()",
      "metadata": {},
      "outputs": [
        {
          "data": {
            "image/png": "[encoded data removed]",
            "text/plain": [
              "<Figure size 640x480 with 1 Axes>"
            ]
          },
          "metadata": {},
          "output_type": "display_data"
        }
      ],
      "execution_count": 2
    },
    {
      "cell_type": "markdown",
      "source": "---\n2. **Iluminación**  Una fuente luminosa se localiza sobre el centro de una mesa circular de $4 pies$ de diámetro. Encontrar la altura $h$ de la fuente luminosa de modo tal que la iluminación $I$ en el perímetro de la mesa sea máxima si $I=k(\\sin \\alpha)/s^2$, donde $s$ es la altura oblicua, $\\alpha$ es el ángulo al cual la luz incide sobre la mesa y $k$ es una constante (El valor de esta última constante es irrelevante para el problema, ya que no se pide el valor de la iluminación).",
      "metadata": {}
    },
    {
      "cell_type": "code",
      "source": "E = patches.Ellipse((0, 0),10, 3,fc='white',ec='brown')\nC = patches.Circle((0,10.5),0.5,color='y')\na = patches.Arc((-5,0),2,2,theta2=60)\np1 = patches.Rectangle((-5, -2),0.5, 2, fill=False,color='brown')\np2 = patches.Rectangle((4.5, -2),0.5, 2, fill=False,color='brown')\np3 = patches.Rectangle((-0.25, -3),0.5, 2, fill=False,color='brown')\nax = plt.gca()\nax.add_artist(p1)\nax.add_artist(p2)\nax.add_artist(p3)\nax.add_artist(E)\nax.add_artist(C)\nax.add_artist(a)\n\nplt.text(2,5,'$s$')\nplt.text(0,3,'$h$')\nplt.text(-4,0.5,r'$\\alpha$')\nplt.text(-0.5,-1,'$4$ pies')\n\nplt.plot([-5,0,5],[0,10,0],'y--')\nplt.plot([-5,5],[0,0],'k--')\nplt.plot([0,0],[0,10],'k--')\n\n\nplt.axis('equal')\nplt.ylim([-3.1,12])\nplt.axis('off')\nplt.show()",
      "metadata": {},
      "outputs": [
        {
          "data": {
            "image/png": "[encoded data removed]",
            "text/plain": [
              "<Figure size 640x480 with 1 Axes>"
            ]
          },
          "metadata": {},
          "output_type": "display_data"
        }
      ],
      "execution_count": 3
    },
    {
      "cell_type": "code",
      "source": "",
      "metadata": {},
      "outputs": [],
      "execution_count": null
    },
    {
      "cell_type": "markdown",
      "source": "3. **Fuerza mínima**  Se diseña un componente para deslizar un bloque de acero con peso $W=10 N$ a través de una mesa y sobre una canaleta. Se opone al movimiento del bloque una fuerza de fricción proporcional a su peso aparente (sea $k=0.1$ la constante de proporcionalidad). Determinar la fuerza mínima $f$ necesaria para deslizar el bloque y encontrar el valor correspondiente de $\\theta$.\n\nAyudín: $f\\cos \\theta$ es la fuerza de dirección del movimiento, y $f\\sin\\theta$ es la fuerza que tiende a levantar el bloque. De tal modo, el peso aparente del bloque es $W-f\\sin\\theta$.",
      "metadata": {}
    },
    {
      "cell_type": "code",
      "source": "W = patches.Rectangle((0, 2),0.8, 0.5, fill=False,color='k')\na = patches.Arrow(0.8,2.25,1,0.5,width=0.1,color='k')\narc = patches.Arc((0.8,2.25),1,1,theta2=30)\nax = plt.gca()\nax.add_artist(W)\nax.add_artist(a)\nax.add_artist(arc)\n\nplt.text(0.2,2.6,'$W$')\nplt.text(1.8,3,'$f$')\nplt.text(1.35,2.305,r'$\\theta$')\n\nplt.plot([1.8,2.8],[2.75,3.25],'k')\nplt.plot([0.8,2],[2.25,2.25],'k--')\nplt.plot([-1,-1,2,2],[0,2,2,0],'k')\n\n\nplt.axis('equal')\nplt.ylim([0,4])\nplt.axis('off')\nplt.show()",
      "metadata": {},
      "outputs": [
        {
          "data": {
            "image/png": "[encoded data removed]",
            "text/plain": [
              "<Figure size 640x480 with 1 Axes>"
            ]
          },
          "metadata": {},
          "output_type": "display_data"
        }
      ],
      "execution_count": 4
    },
    {
      "cell_type": "markdown",
      "source": "$$ f \\cos{\\theta} = k(W - f \\sin{\\theta})$$",
      "metadata": {}
    },
    {
      "cell_type": "markdown",
      "source": "$$ f \\cos{\\theta} = k(W - f \\sin{\\theta})$$",
      "metadata": {}
    },
    {
      "cell_type": "markdown",
      "source": "$$ f \\cos{\\theta} = kW - kf \\sin{\\theta}$$",
      "metadata": {}
    },
    {
      "cell_type": "markdown",
      "source": "$$ f \\cos{\\theta} + kf \\sin{\\theta}= kW $$",
      "metadata": {}
    },
    {
      "cell_type": "markdown",
      "source": "$$ f ( \\cos{\\theta} + k \\sin{\\theta}) = kW$$",
      "metadata": {}
    },
    {
      "cell_type": "markdown",
      "source": "$$ f = \\frac{kW}{ \\cos{\\theta} + k \\sin{\\theta}}$$",
      "metadata": {}
    },
    {
      "cell_type": "code",
      "source": "",
      "metadata": {},
      "outputs": [],
      "execution_count": null
    },
    {
      "cell_type": "code",
      "source": "",
      "metadata": {},
      "outputs": [],
      "execution_count": null
    },
    {
      "cell_type": "code",
      "source": "",
      "metadata": {},
      "outputs": [],
      "execution_count": null
    },
    {
      "cell_type": "markdown",
      "source": "### En varias variables...\n\nEl procedimiento es análogo. \n\nSi una función $f:\\mathbb{R}^n\\to\\mathbb{R}$ alcanza un máximo o mínimo local en $\\boldsymbol{x}=\\boldsymbol{c}\\in\\mathbb{R}^n$, y $f$ es diferenciable en el punto $\\boldsymbol{x}=\\boldsymbol{c}$, entonces $\\left.\\frac{\\partial f}{\\partial \\boldsymbol{x}}\\right|_{\\boldsymbol{x}=\\boldsymbol{c}}=\\boldsymbol{0}$ (todas las derivadas parciales en el punto $\\boldsymbol{x}=\\boldsymbol{c}$ son cero).\n\n**Criterio de la segunda derivada:** para ver si es máximo o mínimo, se toma la segunda derivada (matriz Hessiana) y se verifica definición negativa o positiva, respectivamente.\n\nSi se restringe a cierta región, hay ciertas técnicas. La más general, pero también la más compleja es la de **multiplicadores de Lagrange**.",
      "metadata": {
        "colab_type": "text",
        "id": "e0CgigELTd6-"
      }
    },
    {
      "cell_type": "markdown",
      "source": "**Ejemplo:** Determinar los valores extremo de $z(x,y)= (x-3)^2 + (y+5)^2$ usando el criterio de la segunda derivada y corroborarlo con la gráfica.",
      "metadata": {
        "colab_type": "text",
        "id": "Gm1hrxEXTd7B"
      }
    },
    {
      "cell_type": "code",
      "source": "",
      "metadata": {
        "trusted": true
      },
      "outputs": [],
      "execution_count": null
    },
    {
      "cell_type": "code",
      "source": "",
      "metadata": {
        "trusted": true
      },
      "outputs": [],
      "execution_count": null
    },
    {
      "cell_type": "code",
      "source": "",
      "metadata": {
        "trusted": true
      },
      "outputs": [],
      "execution_count": null
    },
    {
      "cell_type": "code",
      "source": "",
      "metadata": {
        "trusted": true
      },
      "outputs": [],
      "execution_count": null
    }
  ]
}