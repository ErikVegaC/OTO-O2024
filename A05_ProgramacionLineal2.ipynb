{
  "nbformat": 4,
  "nbformat_minor": 0,
  "metadata": {
    "colab": {
      "provenance": [],
      "authorship_tag": "ABX9TyOQkoEIxjk0ZmdwYqMR5zlz",
      "include_colab_link": true
    },
    "kernelspec": {
      "name": "python3",
      "display_name": "Python 3"
    },
    "language_info": {
      "name": "python"
    }
  },
  "cells": [
    {
      "cell_type": "markdown",
      "metadata": {
        "id": "view-in-github",
        "colab_type": "text"
      },
      "source": [
        "<a href=\"https://colab.research.google.com/github/ErikVegaC/OTO-O2024/blob/main/A05_ProgramacionLineal2.ipynb\" target=\"_parent\"><img src=\"https://colab.research.google.com/assets/colab-badge.svg\" alt=\"Open In Colab\"/></a>"
      ]
    },
    {
      "cell_type": "markdown",
      "source": [
        "# Simulación matemática - A05_Programación_Lineal"
      ],
      "metadata": {
        "id": "zdJ-EPW34fcI"
      }
    },
    {
      "cell_type": "markdown",
      "source": [
        "### Erik Gabriel Vega Cervantes a 09 de septiembre de 2024"
      ],
      "metadata": {
        "id": "3t1-HWhL4fxP"
      }
    },
    {
      "cell_type": "markdown",
      "source": [
        "\n",
        "Usa los 5 pasos vistos en clase para plantear adecuadamente el siguiente ejercicio. Después, utiliza linprog para resolverlo.\n",
        "\n",
        "Ejercicio 1.\n",
        "\n",
        "Una carpintería local fabrica sillas, mesas, libreros y bases de cama. Hay dos empleados en esta carpintería: un empleado experimentado y un aprendiz. El aprendiz tarda aproximadamente 50% más tiempo que el carpintero experimentado en construir cualquier cosa, además de que tiene un desperdicio de alrededor de 20% de material. Los materiales y tiempos necesarios para construir algo se desglozan en la siguiente tabla:\n",
        "\n",
        "![imagen.png](data:image/png;base64,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)\n",
        "\n",
        "Las mesas se venden en  9000  , las sillas en  3000  , los libreros en    10000  , y las bases de cama en  9000  . Suponiendo una jornada de 40 horas a la semana y que tienen 100 unidades de madera, ¿qué les conviene construir durante una semana para maximizar su ganancia?\n",
        "\n",
        "- ¿Cuántas horas trabaja cada quién?\n",
        "- ¿Cuánto material se usa?\n",
        "- ¿Cuál se el ingreso total si se vende todo lo  fabricado?\n",
        "\n",
        "2. La carpintería recibió una orden por 3 combos de mesa + 6 sillas.\n",
        "\n",
        "- ¿Se puede cumplir la orden?\n",
        "- Si sí, ¿qué es lo que tienen que fabricar en el resto del tiempo y con el resto del material para maximizar su ganancia?\n",
        "- ¿Cuántas horas trabaja cada quién?\n",
        "- ¿Cuánto material se usa?\n",
        "- ¿Cuál es el nuevo ingreso total?\n",
        "\n",
        "\n"
      ],
      "metadata": {
        "id": "FeObU14R4f0X"
      }
    },
    {
      "cell_type": "markdown",
      "source": [
        "1 . Identificar optimización (min/max)\n",
        " - Maximizar ganancia\n",
        " - Producto que conviene construir durante una semana\n",
        "\n",
        "2. Variables de control\n",
        " - Empleado experimentado $ em_e $\n",
        "    - $ em_em $\n",
        "    - $ em_es $\n",
        "    - $ em_el $\n",
        "    - $ em_eb $\n",
        "  - Empleado aprendiz $ em_a $\n",
        "    - $ em_am $\n",
        "    - $ em_as $\n",
        "    - $ em_al $\n",
        "    - $ em_ab $\n",
        "3. Función de costo\n",
        "\n",
        "$$ f(em_em, em_es, em_el, em_eb, em_am, em_as,em_al,em_ab) = 9000(em_em) + 9000(em_am) + 3000(em_es) + 3000(em_as) + 10000(em_el) + 10000(em_al) + 9000(em_eb) + 9000(em_ab)   $$\n",
        "\n",
        "4. Información adicional\n",
        "\n",
        "$$ 3em_eb + 4em_el + 1em_es + 3em_em  \\leq 40  $$\n",
        "$$ 3*1.5em_ab + 4*1.5em_al + 1*1.5em_as + 3*1.5*em_am \\leq 40  $$  \n",
        "$$   6em_em + 6*1.2*em_am + 2em_es + 2*1.2em_as + 5em_el + 5*1.2em_al + 5em_eb +  5*1.2em_ab  \\leq 100  $$\n",
        "\n"
      ],
      "metadata": {
        "id": "4r3QLMegG7Y1"
      }
    },
    {
      "cell_type": "code",
      "source": [
        "import scipy.optimize as opt\n",
        "\n",
        "import numpy as np\n",
        "\n",
        "c = np.array([\n",
        "    -9000,\n",
        "    -3000,\n",
        "    -10000,\n",
        "    -9000,\n",
        "    -9000,\n",
        "    -3000,\n",
        "    -10000,\n",
        "    -9000\n",
        "\n",
        "])\n",
        "\n",
        "\n",
        "A1_ub = np.array([\n",
        "    [  3,  1,  4,  3,    0,    0,  0,    0],\n",
        "    [  0,  0,  0,  0,  4.5,  1.5,  6,  4.5],\n",
        "    [  6,  2,  5,  5,  7.2,  2.4,  6,    6]\n",
        "\n",
        "])\n",
        "\n",
        "\n",
        "B1_ub = np.array([\n",
        "    40,\n",
        "    40,\n",
        "    100\n",
        "])\n",
        "\n",
        "\n",
        "solve1 = opt.linprog(c,A1_ub,B1_ub,integrality=1)\n",
        "\n",
        "h_trab_e_a = A1_ub @ solve1.x\n",
        "\n",
        "p_max_gan = (solve1.x[solve1.x.argmax()])\n",
        "\n",
        "print(f\"Producto que conviene fabricar para maximizar la ganancia son los libreros\")\n",
        "print(f\"Las horas trabajadas del empleado experimentado son: {int(h_trab_e_a[0])} horas\")\n",
        "print(f\"Las horas trabajadas del empleado aprendiz son: {int(h_trab_e_a[1])} horas\")\n",
        "print(f\"Los tablones utilizados fueron {int(h_trab_e_a[2])}\")\n",
        "print(f\"El ingreso total por lo fabricado es ${int(abs(solve1.fun))}\")\n",
        "p_max_gan\n"
      ],
      "metadata": {
        "id": "vSEFcqM6F-uf",
        "colab": {
          "base_uri": "https://localhost:8080/"
        },
        "outputId": "847bccc2-c8ba-4030-dcd7-031fded7d6e6"
      },
      "execution_count": null,
      "outputs": [
        {
          "output_type": "stream",
          "name": "stdout",
          "text": [
            "Producto que conviene fabricar para maximizar la ganancia son los libreros\n",
            "Las horas trabajadas del empleado experimentado son: 40 horas\n",
            "Las horas trabajadas del empleado aprendiz son: 39 horas\n",
            "Los tablones utilizados fueron 100\n",
            "El ingreso total por lo fabricado es $176000\n"
          ]
        },
        {
          "output_type": "execute_result",
          "data": {
            "text/plain": [
              "9.000000000000002"
            ]
          },
          "metadata": {},
          "execution_count": 63
        }
      ]
    },
    {
      "cell_type": "code",
      "source": [],
      "metadata": {
        "id": "LPdfUqDga1EM"
      },
      "execution_count": null,
      "outputs": []
    }
  ]
}