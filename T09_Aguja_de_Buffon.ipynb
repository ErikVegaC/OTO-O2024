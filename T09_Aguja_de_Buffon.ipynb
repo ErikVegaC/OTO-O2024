{
  "nbformat": 4,
  "nbformat_minor": 0,
  "metadata": {
    "colab": {
      "provenance": [],
      "authorship_tag": "ABX9TyNlw2aRtST0s44/Y3DRgyv2",
      "include_colab_link": true
    },
    "kernelspec": {
      "name": "python3",
      "display_name": "Python 3"
    },
    "language_info": {
      "name": "python"
    }
  },
  "cells": [
    {
      "cell_type": "markdown",
      "metadata": {
        "id": "view-in-github",
        "colab_type": "text"
      },
      "source": [
        "<a href=\"https://colab.research.google.com/github/ErikVegaC/OTO-O2024/blob/main/T09_Aguja_de_Buffon.ipynb\" target=\"_parent\"><img src=\"https://colab.research.google.com/assets/colab-badge.svg\" alt=\"Open In Colab\"/></a>"
      ]
    },
    {
      "cell_type": "markdown",
      "source": [
        "# T09 - Aguja de Buffon"
      ],
      "metadata": {
        "id": "rEm_3_uwBogi"
      }
    },
    {
      "cell_type": "markdown",
      "source": [
        "### Erik Gabriel Vega Cervantes 745264\n",
        "\n",
        "### A 04 de noviembre de 2024"
      ],
      "metadata": {
        "id": "VSlXqjlrBoiv"
      }
    },
    {
      "cell_type": "markdown",
      "source": [
        "## Investiga el problema de la aguja de Buffon.\n"
      ],
      "metadata": {
        "id": "OQwKjBzhBopP"
      }
    },
    {
      "cell_type": "markdown",
      "source": [
        "1.1 ¿De qué trata?"
      ],
      "metadata": {
        "id": "ZeC6PtZGBord"
      }
    },
    {
      "cell_type": "markdown",
      "source": [
        "El problema de la aguja de Buffon es un experimento clásico de probabilidad geométrica propuesto por el matemático Georges-Louis Leclerc, conocido como el conde de Buffon. Este problema se plantea como sigue:\n",
        "\n",
        "Imagina que tienes un suelo con líneas paralelas separadas por una distancia $d$ , y arrojas una aguja de longitud $l$ al suelo. Se pregunta cuál es la probabilidad de que la aguja toque alguna de las líneas."
      ],
      "metadata": {
        "id": "bz1uyhVuCa0z"
      }
    },
    {
      "cell_type": "markdown",
      "source": [
        "1.2 Explica la solución con cálculo integral usando tus palabras."
      ],
      "metadata": {
        "id": "lT_KnVFMCHKG"
      }
    },
    {
      "cell_type": "markdown",
      "source": [
        "La solución a este problema se basa en integrar sobre todas las posibles posiciones y ángulos que puede adoptar la aguja cuando cae.\n",
        "\n",
        "La probabilidad de que la aguja toque una línea se calcula considerando las posibles posiciones en las que la misma se posicione sobre la dirección perpendicular a las líneas, y que esta mayor que la distancia del centro de la aguja a la línea más cercana.\n",
        "\n",
        "La distancia desde el centro de la aguja hasta la línea más cercana, que varía entre $0$ y $ d /2$.\n",
        "\n",
        "El ángulo $ \\theta $ que forma la aguja con las líneas paralelas, que varía de $0$ a $\\pi$."
      ],
      "metadata": {
        "id": "yxE-FAXACbVj"
      }
    },
    {
      "cell_type": "markdown",
      "source": [
        "1.3 Explica la solución sin cálculo integral usando tus palabras"
      ],
      "metadata": {
        "id": "8Zxdu9b8CKNq"
      }
    },
    {
      "cell_type": "markdown",
      "source": [
        "Cuando la aguja cae al azar, su centro puede estar en cualquier punto dentro del intervalo entre dos líneas paralelas.\n",
        "\n",
        "Además, la aguja puede caer en cualquier orientación (ángulo) entre 0 y 180 grados.\n",
        "\n",
        "Si la longitud proyectada de la aguja sobre la línea perpendicular a las líneas paralelas es mayor que la distancia del centro de la aguja a la línea más cercana, la aguja cruzará una línea.\n",
        "\n",
        "Visualizando todos los posibles casos y considerando el hecho de que hay un número finito de formas en que la aguja puede caer y cruzar las líneas, se obtiene una relación probabilística que depende de la longitud de la aguja $l$, la distancia $d$, y el número $ \\pi $ debido a la distribución uniforme de ángulos."
      ],
      "metadata": {
        "id": "d34sPtSlCb-x"
      }
    },
    {
      "cell_type": "markdown",
      "source": [
        "Investigando la formula:\n",
        "\n",
        "$$ P = \\frac{2l}{\\pi d}  $$"
      ],
      "metadata": {
        "id": "RiOUL1o7ENxh"
      }
    },
    {
      "cell_type": "markdown",
      "source": [
        "2.0 Crea una simulación con numpy donde se arrojen $n$ agujas de longitud $l$ dado que se tiene una distancia $d$ entre cada línea paralela."
      ],
      "metadata": {
        "id": "y1aUJtWvCNHJ"
      }
    },
    {
      "cell_type": "code",
      "source": [
        "import numpy as np\n",
        "\n",
        "def buffon_simulation(n, l, d):\n",
        "    distancia = np.random.uniform(0, d / 2, n)\n",
        "    angulo = np.random.uniform(0, np.pi, n)\n",
        "\n",
        "    cruces = np.sum(distancia <= (l / 2) * np.sin(angulo))\n",
        "\n",
        "    pi_aprox = (2 * l * n) / (d * cruces)\n",
        "\n",
        "    return  pi_aprox\n",
        "\n",
        "n = 10000000\n",
        "l = 1.0\n",
        "d = 2.0\n",
        "\n",
        "\n",
        "pi_aprox = buffon_simulation(n, l, d)\n",
        "print(f\"Estimación de pi: {pi_aprox}\")\n"
      ],
      "metadata": {
        "colab": {
          "base_uri": "https://localhost:8080/"
        },
        "id": "_YVrPuUnCc6K",
        "outputId": "b78974ac-893f-4b79-f967-935361044a49"
      },
      "execution_count": 4,
      "outputs": [
        {
          "output_type": "stream",
          "name": "stdout",
          "text": [
            "Estimación de pi: 3.1413191529998343\n"
          ]
        }
      ]
    },
    {
      "cell_type": "markdown",
      "source": [
        "2.1 ¿Qué variables aleatorias hay en este caso?"
      ],
      "metadata": {
        "id": "9DAWJ91VCQaH"
      }
    },
    {
      "cell_type": "markdown",
      "source": [
        "La distancia desde el centro de la aguja hasta la línea más cercana.\n",
        "\n",
        "El ángulo de la aguja respecto a las líneas paralelas."
      ],
      "metadata": {
        "id": "p5QNTd3oEfm5"
      }
    },
    {
      "cell_type": "markdown",
      "source": [
        "2.2 ¿Qué distribución siguen?"
      ],
      "metadata": {
        "id": "cH8hqHV3CRrN"
      }
    },
    {
      "cell_type": "markdown",
      "source": [
        "La distancia es una variable aleatoria uniforme en el intervalo $[0,d/2][0,d/2]$.\n",
        "\n",
        "\n",
        "El ángulo es una variable aleatoria uniforme en el intervalo $[0,\\pi][0,\\pi]$."
      ],
      "metadata": {
        "id": "zGi6w2LZEkLJ"
      }
    },
    {
      "cell_type": "markdown",
      "source": [
        "2.3 ¿Cómo evoluciona el resultado contra la cantidad de agujas que se usa?"
      ],
      "metadata": {
        "id": "QKki8S5HCVSk"
      }
    },
    {
      "cell_type": "markdown",
      "source": [
        "A medida que aumentamos el número de agujas lanzadas, el resultado de la estimación de la probabilidad se aproxima mejor al valor teórico"
      ],
      "metadata": {
        "id": "qsmm6Ic7Eunl"
      }
    }
  ]
}