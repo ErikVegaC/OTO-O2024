{
  "metadata": {
    "kernelspec": {
      "name": "python",
      "display_name": "Python (Pyodide)",
      "language": "python"
    },
    "language_info": {
      "codemirror_mode": {
        "name": "python",
        "version": 3
      },
      "file_extension": ".py",
      "mimetype": "text/x-python",
      "name": "python",
      "nbconvert_exporter": "python",
      "pygments_lexer": "ipython3",
      "version": "3.8"
    }
  },
  "nbformat_minor": 4,
  "nbformat": 4,
  "cells": [
    {
      "cell_type": "markdown",
      "source": "# **Simulación Matemática - Erik Gabriel Vega Cervantes** ",
      "metadata": {}
    },
    {
      "cell_type": "markdown",
      "source": "## T01 - Markdown ",
      "metadata": {}
    },
    {
      "cell_type": "markdown",
      "source": "### Teoría del esfuerzo normal \n",
      "metadata": {}
    },
    {
      "cell_type": "markdown",
      "source": "Para empezar a entender lo que es un esfuerzo normal, tenemos que definirla como un aplastamiento o un tensionamiento, lo cual lo vemos en la vida cotidiana cuando tensionamos un cable, cuando aplicamos fuerza al cuchillo para cortar una verdura o simplemente cuando estamos caminando.  ",
      "metadata": {}
    },
    {
      "cell_type": "markdown",
      "source": "Esta teoría aplica para todo lo que está en equilibrio y lo que está en movimiento, se define como una fuerza sobre una área en la que tiene efecto. \n\n*\"Fuerza por unidad de superficie que soporta ó se aplica sobre un cuerpo, es decir es la relación entre la fuerza aplicada y la superficie en la cual se aplica\" - Egor Popov*",
      "metadata": {}
    },
    {
      "cell_type": "markdown",
      "source": "Se representa con la siguiente ecuación: \n",
      "metadata": {}
    },
    {
      "cell_type": "markdown",
      "source": "$$ Esfuerzo = \\frac{Fuerza}{Área} $$ ",
      "metadata": {}
    },
    {
      "cell_type": "markdown",
      "source": "![](https://www.researchgate.net/profile/Santander-Leon/publication/325229715/figure/fig2/AS:627746791256064@1526677906804/Figura-3-formula-de-esfuerzo-normal-sometido-a-una-fuerza-P-con-un-area-transversal-A.png )  ",
      "metadata": {}
    },
    {
      "cell_type": "markdown",
      "source": "Podemos enlistar los usos de esta fórmula tales como: \n\n    1. Equilibrio de vigas\n    2. Diseño de estructuras de concreto y acero \n    3. Prueba de especímenes para determinar la calidad de un concreto \n    4. Calidad de cables de acero que se someten a tensión en una grúa \n\nDonde no aplica esta fórmula se consideran casos anormales debido a su rara aparición en la construcción, tales como: \n\n    * Perfiles de sección variable \n    * Análisis de movimento de tierra trepidatorio (3 ejes)\n    * Elementos que se someten gravemente a flujo de cortante",
      "metadata": {}
    },
    {
      "cell_type": "markdown",
      "source": "En el ámbito de la ingenieria civil esta teoría es usada el 95% de los casos para diseñar estructuras en las cuales estas se sometene a esfuerzos normales, ya sea de tensión o de compresión, en cambio, en el resto de los casos se llegan a usar programas en el cual se usan sistemas de matrices o elemento finito para aproximar un resultado debido a perfiles de sección variable principalmente\n. ",
      "metadata": {}
    },
    {
      "cell_type": "markdown",
      "source": "**A 15 de agosto de 2024**",
      "metadata": {}
    },
    {
      "cell_type": "code",
      "source": "",
      "metadata": {
        "trusted": true
      },
      "outputs": [],
      "execution_count": null
    }
  ]
}