{
  "nbformat": 4,
  "nbformat_minor": 0,
  "metadata": {
    "colab": {
      "provenance": []
    },
    "kernelspec": {
      "name": "python3",
      "display_name": "Python 3"
    },
    "language_info": {
      "name": "python"
    }
  },
  "cells": [
    {
      "cell_type": "markdown",
      "source": [
        "# Simulación matemática - A04_SYMPY"
      ],
      "metadata": {
        "id": "oMvJVWzzjQo5"
      }
    },
    {
      "cell_type": "markdown",
      "source": [
        "### Erik Gabriel Vega Cervantes a 29 de agosto de 2023"
      ],
      "metadata": {
        "id": "Q9yxoyWYjX7j"
      }
    },
    {
      "cell_type": "markdown",
      "source": [
        "#### Resuelve los siguientes ejercicios:\n",
        "\n",
        "1. Utiliza sympy y encuentra los valores de las incógnitas que hagan que los siguientes sistemas de ecuaciones sean verdaderos"
      ],
      "metadata": {
        "id": "tZCP-Jy7jgJk"
      }
    },
    {
      "cell_type": "markdown",
      "source": [
        "$$ x + y = 10 $$\n",
        "$$ x - y = 2 $$\n",
        "\n"
      ],
      "metadata": {
        "id": "3I095IpyjqlR"
      }
    },
    {
      "cell_type": "markdown",
      "source": [
        "![11.png](data:image/png;base64,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)"
      ],
      "metadata": {
        "id": "Vd9qb-F7kTpC"
      }
    },
    {
      "cell_type": "code",
      "execution_count": 23,
      "metadata": {
        "colab": {
          "base_uri": "https://localhost:8080/"
        },
        "id": "JWYKlkX-TGbU",
        "outputId": "a142cf6e-1558-4af1-a0c1-f49e76c83b0c"
      },
      "outputs": [
        {
          "output_type": "stream",
          "name": "stdout",
          "text": [
            "X es igual a 6\n",
            "Y es igual a 4\n"
          ]
        }
      ],
      "source": [
        "# Primer sistema de ecuaciones\n",
        "\n",
        "import sympy as sp\n",
        "\n",
        "sp.var(\"x\")\n",
        "sp.var(\"y\")\n",
        "\n",
        "eq1 = x + y - 10\n",
        "eq2 = x - y - 2\n",
        "\n",
        "x_eq1 = sp.solve(eq1,x)[0]\n",
        "\n",
        "y_eq2 = eq2.subs(x,x_eq1)\n",
        "\n",
        "y_sol = sp.solve(y_eq2,y)[0]\n",
        "\n",
        "x_sol = x_eq1.subs(y,y_sol)\n",
        "\n",
        "print(\"X es igual a \" +str(x_sol))\n",
        "print(\"Y es igual a \" +str(y_sol))"
      ]
    },
    {
      "cell_type": "code",
      "source": [
        "# Segundo sistema de ecuaciones\n",
        "\n",
        "import sympy as sp\n",
        "sp.var(\"x\")\n",
        "sp.var(\"y\")\n",
        "\n",
        "eq1_2 = (((3*x)-(2*y))/3) + (4*y) - (13/3)\n",
        "eq2_2 = ((2*((-2*y)+ x))/3) - ((3*x)/2) + (13/6)\n",
        "\n",
        "x_eq1_2 = sp.solve(eq1_2,x)[0]\n",
        "y_eq2_2 = eq2_2.subs(x,x_eq1_2)\n",
        "\n",
        "y_sol_2 = sp.solve(y_eq2_2,y)[0]\n",
        "x_sol_2 = x_eq1_2.subs(y,y_sol_2)\n",
        "\n",
        "print(\"X es igual a \" +str(x_sol_2))\n",
        "print(\"Y es igual a \" +str(y_sol_2))\n",
        "\n",
        "\n",
        "\n"
      ],
      "metadata": {
        "colab": {
          "base_uri": "https://localhost:8080/"
        },
        "id": "rjWpjoDYTWeZ",
        "outputId": "e6087505-56b0-4929-8850-ede6c6010157"
      },
      "execution_count": 30,
      "outputs": [
        {
          "output_type": "stream",
          "name": "stdout",
          "text": [
            "X es igual a 1.00000000000000\n",
            "Y es igual a 1.00000000000000\n"
          ]
        }
      ]
    },
    {
      "cell_type": "code",
      "source": [
        "# Tercer sistema de ecuaciones\n",
        "\n",
        "import sympy as sp\n",
        "\n",
        "sp.var(\"x\")\n",
        "sp.var(\"y\")\n",
        "\n",
        "eq1_3_0 = x**2 - 2*y - 16\n",
        "eq2_3_0 = x - y - 3\n",
        "\n",
        "# SOLVE X[0]\n",
        "\n",
        "x_eq1_3_0 = sp.solve(eq1_3_0,x)[0]\n",
        "y_eq2_3_0 = eq2_3_0.subs(x,x_eq1_3_0)\n",
        "\n",
        "y_sol_3_0 = sp.solve(y_eq2_3_0,y)[0]\n",
        "x_sol_3_0 = x_eq1_3_0.subs(y,y_sol_3_0)\n",
        "\n",
        "print(\"X es igual a \" +str(x_sol_3_0))\n",
        "print(\"Y es igual a \" +str(y_sol_3_0))\n",
        "\n",
        "# SOLVE X[1]\n",
        "\n",
        "\n",
        "eq1_3_1 = (x**2) - (2*y) - 16\n",
        "eq2_3_1 = (x - y - 3)\n",
        "\n",
        "x_eq1_3_1 = sp.solve(eq1_3_1,x)[1]\n",
        "y_eq2_3_1 = eq2_3_1.subs(x,x_eq1_3_1)\n",
        "\n",
        "y_sol_3_1 = sp.solve(y_eq2_3_1,y)[0]\n",
        "x_sol_3_1 = x_eq1_3_1.subs(y,y_sol_3_1)\n",
        "\n",
        "print(\"X es igual a \" +str(x_sol_3_1))\n",
        "print(\"Y es igual a \" +str(y_sol_3_1))\n"
      ],
      "metadata": {
        "colab": {
          "base_uri": "https://localhost:8080/"
        },
        "id": "ITNPf0zOTbfc",
        "outputId": "71d34e83-02a6-494c-b02d-d2c669802719"
      },
      "execution_count": 62,
      "outputs": [
        {
          "output_type": "stream",
          "name": "stdout",
          "text": [
            "X es igual a -sqrt(12 - 2*sqrt(11))\n",
            "Y es igual a -sqrt(11) - 2\n",
            "X es igual a sqrt(2*sqrt(11) + 12)\n",
            "Y es igual a -2 + sqrt(11)\n"
          ]
        }
      ]
    },
    {
      "cell_type": "code",
      "source": [
        "# Cuarto sistema de ecuaciones\n",
        "\n",
        "import sympy as sp\n",
        "\n",
        "sp.var(\"x\")\n",
        "sp.var(\"y\")\n",
        "sp.var(\"z\")\n",
        "\n",
        "\n",
        "eq1_4 = x + y - z -10\n",
        "eq2_4 = x - y -  2\n",
        "eq3_4 = y + z + 2\n",
        "\n",
        "x_eq2_4 = sp.solve(eq2_4,x)[0]\n",
        "x_eq1_4 = eq1_4.subs(x,x_eq2_4)\n",
        "z_solve = x_eq1_4.subs(y,y_eq3_4)\n",
        "\n",
        "val_z = sp.solve(z_solve,z)[0]\n",
        "\n",
        "y_solve = eq3_4.subs(z,val_z)\n",
        "\n",
        "val_y = sp.solve(y_solve,y)[0]\n",
        "\n",
        "\n",
        "x_solve_1 = eq1_4.subs(y,val_y)\n",
        "x_solve_2 = x_solve_1.subs(z,val_z)\n",
        "\n",
        "val_x = sp.solve(x_solve_2,x)[0]\n",
        "\n",
        "print(\"X es igual a \" +str(val_x))\n",
        "print(\"Y es igual a \" +str(val_y))\n",
        "print(\"Z es igual a \" +str(val_z))\n",
        "\n",
        "\n"
      ],
      "metadata": {
        "colab": {
          "base_uri": "https://localhost:8080/"
        },
        "id": "1HKkjR4PdZeM",
        "outputId": "5ac71fb8-44f9-4a34-d9bb-004ca337bf27"
      },
      "execution_count": 153,
      "outputs": [
        {
          "output_type": "stream",
          "name": "stdout",
          "text": [
            "X es igual a 4\n",
            "Y es igual a 2\n",
            "Z es igual a -4\n"
          ]
        }
      ]
    },
    {
      "cell_type": "code",
      "source": [],
      "metadata": {
        "id": "gTP-Xcb4YC19"
      },
      "execution_count": 157,
      "outputs": []
    },
    {
      "cell_type": "code",
      "source": [],
      "metadata": {
        "id": "RMG_GR7bYtum"
      },
      "execution_count": 157,
      "outputs": []
    },
    {
      "cell_type": "code",
      "source": [],
      "metadata": {
        "id": "q3W3e1ogZJss"
      },
      "execution_count": 157,
      "outputs": []
    },
    {
      "cell_type": "code",
      "source": [
        "\n"
      ],
      "metadata": {
        "id": "MmdAAwqubyf9"
      },
      "execution_count": 157,
      "outputs": []
    },
    {
      "cell_type": "code",
      "source": [],
      "metadata": {
        "id": "AzZn3mjjhEvn"
      },
      "execution_count": 157,
      "outputs": []
    },
    {
      "cell_type": "code",
      "source": [],
      "metadata": {
        "id": "wZ6LRe5EhOAC"
      },
      "execution_count": 157,
      "outputs": []
    },
    {
      "cell_type": "code",
      "source": [],
      "metadata": {
        "id": "MnxkGO5-h3oY"
      },
      "execution_count": 157,
      "outputs": []
    }
  ]
}