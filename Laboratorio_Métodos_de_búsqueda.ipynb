{
  "cells": [
    {
      "cell_type": "markdown",
      "metadata": {
        "id": "view-in-github",
        "colab_type": "text"
      },
      "source": [
        "<a href=\"https://colab.research.google.com/github/ErikVegaC/OTO-O2024/blob/main/Laboratorio_M%C3%A9todos_de_b%C3%BAsqueda.ipynb\" target=\"_parent\"><img src=\"https://colab.research.google.com/assets/colab-badge.svg\" alt=\"Open In Colab\"/></a>"
      ]
    },
    {
      "cell_type": "markdown",
      "id": "28086fca-2cdd-41ac-b7bf-bc1af9f759a2",
      "metadata": {
        "id": "28086fca-2cdd-41ac-b7bf-bc1af9f759a2"
      },
      "source": [
        "# Laboratorio: Métodos de búsqueda"
      ]
    },
    {
      "cell_type": "markdown",
      "id": "9e19abc1-82f0-4f28-9493-468e4227c14f",
      "metadata": {
        "id": "9e19abc1-82f0-4f28-9493-468e4227c14f"
      },
      "source": [
        "En las clases anteriores creaste códigos para realizar búsquedas aleatorias (Simulated Annealing) y búsquedas dirigidas (Optimización Bayesiana). Estos métodos de búsqueda se utilizan para facilitar el proceso de optimización de funciones objetivos compleja y costosas de computar."
      ]
    },
    {
      "cell_type": "markdown",
      "id": "038474ce-6e2f-4d45-895a-bb17f7c8871d",
      "metadata": {
        "id": "038474ce-6e2f-4d45-895a-bb17f7c8871d"
      },
      "source": [
        "En este laboratorio usaremos el dataset de los diferentes tipos de iris, y sus longitudes y anchos de pétalos y sépalos. Utilizaremos un RandomForest para crear un modelo de clasificación y el métrico F1 para decidir cuál es el mejor modelo de acuerdo a lo que tenemos disponible."
      ]
    },
    {
      "cell_type": "markdown",
      "id": "c04956ea-14f4-419e-adf8-add3b81da443",
      "metadata": {
        "id": "c04956ea-14f4-419e-adf8-add3b81da443"
      },
      "source": [
        "1. Carga el dataset de Iris"
      ]
    },
    {
      "cell_type": "code",
      "execution_count": 1,
      "id": "aad912f2-1359-437e-af68-3c8cca8d1b03",
      "metadata": {
        "id": "aad912f2-1359-437e-af68-3c8cca8d1b03"
      },
      "outputs": [],
      "source": [
        "from sklearn import datasets\n",
        "X, y = datasets.load_iris(return_X_y=True)"
      ]
    },
    {
      "cell_type": "markdown",
      "id": "9b97ad91-d82b-491c-ac5d-be6f872c5334",
      "metadata": {
        "id": "9b97ad91-d82b-491c-ac5d-be6f872c5334"
      },
      "source": [
        "2. Importa el archivo `Bosque.py`.\n",
        "\n",
        "Este archivo contiene la función `RegresionBosque`, que recibe:\n",
        "- X: las características independientes\n",
        "- y: la variable de respuesta\n",
        "- árboles: cantidad total de árboles\n",
        "- profundidad de bosque: niveles de profundidad del bosque\n",
        "\n",
        "Su salida es:\n",
        "- modelo: El objeto con el modelo ajustado\n",
        "- f1: El métrico que califica qué tan bueno es el modelo que se ajustó.\n"
      ]
    },
    {
      "cell_type": "code",
      "execution_count": 2,
      "id": "23f875f1-a72a-4a57-8355-16d6bb9fb33a",
      "metadata": {
        "colab": {
          "base_uri": "https://localhost:8080/"
        },
        "id": "23f875f1-a72a-4a57-8355-16d6bb9fb33a",
        "outputId": "e33327aa-6366-4229-e48d-217fcadc7733"
      },
      "outputs": [
        {
          "output_type": "execute_result",
          "data": {
            "text/plain": [
              "0.9666666666666667"
            ]
          },
          "metadata": {},
          "execution_count": 2
        }
      ],
      "source": [
        "import Bosque\n",
        "modelo, f1 = Bosque.RegresionBosque(X, y, 10, 3)\n",
        "f1"
      ]
    },
    {
      "cell_type": "markdown",
      "id": "15ac2825-33ac-4919-9ccb-8324701ce99f",
      "metadata": {
        "id": "15ac2825-33ac-4919-9ccb-8324701ce99f"
      },
      "source": [
        "### Actividad 1:"
      ]
    },
    {
      "cell_type": "markdown",
      "id": "a8eb265f-9ccf-4fb4-b8c0-8fe221ea534c",
      "metadata": {
        "id": "a8eb265f-9ccf-4fb4-b8c0-8fe221ea534c"
      },
      "source": [
        "Inicializa un espacio con 5 muestras en nuestro dominio de variables independientes:\n",
        "- árboles: números enteros entre 5 y 50.\n",
        "- profundidad: números enteros entre 2 y 10"
      ]
    },
    {
      "cell_type": "markdown",
      "id": "1ed7c396-af97-49a6-828e-c5d63c1b6999",
      "metadata": {
        "id": "1ed7c396-af97-49a6-828e-c5d63c1b6999"
      },
      "source": [
        "Utiliza optimización Bayesiana para encontrar la combinación de árboles y profundidad que **maximice** el métrico F1."
      ]
    },
    {
      "cell_type": "code",
      "execution_count": 104,
      "id": "1e563392-4509-4d70-9cb6-adca944d2406",
      "metadata": {
        "id": "1e563392-4509-4d70-9cb6-adca944d2406"
      },
      "outputs": [],
      "source": [
        "import numpy as np\n",
        "from sklearn.gaussian_process import GaussianProcessRegressor\n",
        "from sklearn.gaussian_process.kernels import RBF\n",
        "from sklearn import datasets\n",
        "import Bosque\n",
        "\n",
        "\n",
        "X, y = datasets.load_iris(return_X_y=True)\n",
        "\n",
        "n = 5\n",
        "\n",
        "arboles = np.random.randint(5, 51, n)\n",
        "profundidad = np.random.randint(2, 11, n)\n",
        "\n",
        "\n",
        "espacio = np.column_stack((arboles, profundidad))\n",
        "\n",
        "lista_f1 = []\n",
        "\n",
        "def objetivo(params):\n",
        "    arboles, profundidad = params\n",
        "    modelo, f1 = Bosque.RegresionBosque(X, y, arboles, profundidad)\n",
        "    lista_f1.append(f1)\n",
        "    return f1\n",
        "\n",
        "for params in espacio:\n",
        "    objetivo(params)\n",
        "\n",
        "kernel = 1 * RBF(length_scale=1)\n",
        "\n",
        "\n",
        "gp = GaussianProcessRegressor(kernel=kernel, n_restarts_optimizer=10).fit(espacio, lista_f1)\n",
        "\n",
        "\n",
        "\n",
        "x_arboles = np.linspace(5, 50, 1000).reshape([-1, 1])\n",
        "x_profundidad = np.linspace(2, 10, 1000).reshape([-1, 1])\n",
        "\n",
        "\n",
        "X_pred = np.hstack((x_arboles, x_profundidad))\n",
        "\n",
        "y_pred, y_std = gp.predict(X_pred, return_std=True)\n",
        "y_pred_low = y_pred - 1.96 * y_std\n",
        "y_pred_high = y_pred + 1.96 * y_std\n",
        "\n",
        "i_next = np.argmax(y_pred_high)\n",
        "X_next = X_pred[i_next]\n",
        "\n",
        "def F1_opt(X_next):\n",
        "  for i in range(n):\n",
        "    b, p = X_next\n",
        "    modelo,f1 = Bosque.RegresionBosque(X, y, b, p)\n",
        "  return f1\n",
        "\n",
        "\n"
      ]
    },
    {
      "cell_type": "markdown",
      "source": [],
      "metadata": {
        "id": "Vij4j16-FM4U"
      },
      "id": "Vij4j16-FM4U"
    },
    {
      "cell_type": "code",
      "source": [
        "X_next"
      ],
      "metadata": {
        "colab": {
          "base_uri": "https://localhost:8080/"
        },
        "id": "2dEdCOUUDUJF",
        "outputId": "6def8715-abbc-4c7e-ede7-564b754ed463"
      },
      "id": "2dEdCOUUDUJF",
      "execution_count": 95,
      "outputs": [
        {
          "output_type": "execute_result",
          "data": {
            "text/plain": [
              "array([5., 2.])"
            ]
          },
          "metadata": {},
          "execution_count": 95
        }
      ]
    },
    {
      "cell_type": "code",
      "source": [
        "int(X_next[0]), int(X_next[1])"
      ],
      "metadata": {
        "colab": {
          "base_uri": "https://localhost:8080/"
        },
        "id": "wWRjBljGDo7U",
        "outputId": "952ee059-bb91-45ca-d19d-11b7bb80fc5c"
      },
      "id": "wWRjBljGDo7U",
      "execution_count": 96,
      "outputs": [
        {
          "output_type": "execute_result",
          "data": {
            "text/plain": [
              "(5, 2)"
            ]
          },
          "metadata": {},
          "execution_count": 96
        }
      ]
    },
    {
      "cell_type": "code",
      "source": [
        "Bosque.RegresionBosque(X, y, 5, 2)"
      ],
      "metadata": {
        "colab": {
          "base_uri": "https://localhost:8080/"
        },
        "id": "vFA2XM-kEM-Y",
        "outputId": "6b5ecc01-a834-4aa3-f746-48082dc95955"
      },
      "id": "vFA2XM-kEM-Y",
      "execution_count": 99,
      "outputs": [
        {
          "output_type": "execute_result",
          "data": {
            "text/plain": [
              "(RandomForestClassifier(max_depth=2, n_estimators=5), 0.9333333333333333)"
            ]
          },
          "metadata": {},
          "execution_count": 99
        }
      ]
    },
    {
      "cell_type": "code",
      "source": [],
      "metadata": {
        "id": "PbsqCz11FB4s"
      },
      "id": "PbsqCz11FB4s",
      "execution_count": null,
      "outputs": []
    },
    {
      "cell_type": "markdown",
      "id": "5e083a3c-fa68-4942-b5d3-f1f7130b4fbb",
      "metadata": {
        "id": "5e083a3c-fa68-4942-b5d3-f1f7130b4fbb"
      },
      "source": [
        "### Actividad 2:"
      ]
    },
    {
      "cell_type": "markdown",
      "id": "2817a47c-0081-4376-b222-c65735f4ab9d",
      "metadata": {
        "id": "2817a47c-0081-4376-b222-c65735f4ab9d"
      },
      "source": [
        "Inicializa 2 vectores con posibles valores para las variables independientes:\n",
        "- árboles: números enteros entre 5 y 50\n",
        "- profundidad: números enteros entre 2 y 10\n",
        "\n",
        "Utiliza el algoritmo de Simulated Annealing que siga el siguiente orden:\n",
        "- Elige un punto de partida para las variables.\n",
        "- Selecciona al azar una de las dos para modificarlas.\n",
        "- Selecciona un elemento al azar de la lista que contiene los posibles valores de esa variable.\n",
        "- Sigue el algoritmo ($p$ y $q$) para decidir si usas esa combinación nueva o si mantienes la anterior."
      ]
    },
    {
      "cell_type": "code",
      "execution_count": null,
      "id": "e6286fe8-ec56-4871-9c31-8d4d3ca4c0ae",
      "metadata": {
        "id": "e6286fe8-ec56-4871-9c31-8d4d3ca4c0ae"
      },
      "outputs": [],
      "source": []
    },
    {
      "cell_type": "code",
      "execution_count": null,
      "id": "239fa243-bd6d-4ec4-860a-2eae65cea710",
      "metadata": {
        "id": "239fa243-bd6d-4ec4-860a-2eae65cea710"
      },
      "outputs": [],
      "source": []
    },
    {
      "cell_type": "code",
      "source": [],
      "metadata": {
        "id": "ovthKkzC63V0"
      },
      "id": "ovthKkzC63V0",
      "execution_count": 34,
      "outputs": []
    },
    {
      "cell_type": "code",
      "source": [],
      "metadata": {
        "id": "Cznnx7y97bRj"
      },
      "id": "Cznnx7y97bRj",
      "execution_count": null,
      "outputs": []
    }
  ],
  "metadata": {
    "kernelspec": {
      "display_name": "Python 3 (ipykernel)",
      "language": "python",
      "name": "python3"
    },
    "language_info": {
      "codemirror_mode": {
        "name": "ipython",
        "version": 3
      },
      "file_extension": ".py",
      "mimetype": "text/x-python",
      "name": "python",
      "nbconvert_exporter": "python",
      "pygments_lexer": "ipython3",
      "version": "3.12.3"
    },
    "colab": {
      "provenance": [],
      "include_colab_link": true
    }
  },
  "nbformat": 4,
  "nbformat_minor": 5
}