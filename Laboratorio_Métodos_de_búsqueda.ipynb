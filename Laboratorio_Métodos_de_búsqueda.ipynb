{
  "cells": [
    {
      "cell_type": "markdown",
      "metadata": {
        "id": "view-in-github",
        "colab_type": "text"
      },
      "source": [
        "<a href=\"https://colab.research.google.com/github/ErikVegaC/OTO-O2024/blob/main/Laboratorio_M%C3%A9todos_de_b%C3%BAsqueda.ipynb\" target=\"_parent\"><img src=\"https://colab.research.google.com/assets/colab-badge.svg\" alt=\"Open In Colab\"/></a>"
      ]
    },
    {
      "cell_type": "markdown",
      "id": "28086fca-2cdd-41ac-b7bf-bc1af9f759a2",
      "metadata": {
        "id": "28086fca-2cdd-41ac-b7bf-bc1af9f759a2"
      },
      "source": [
        "# Laboratorio: Métodos de búsqueda"
      ]
    },
    {
      "cell_type": "markdown",
      "id": "9e19abc1-82f0-4f28-9493-468e4227c14f",
      "metadata": {
        "id": "9e19abc1-82f0-4f28-9493-468e4227c14f"
      },
      "source": [
        "En las clases anteriores creaste códigos para realizar búsquedas aleatorias (Simulated Annealing) y búsquedas dirigidas (Optimización Bayesiana). Estos métodos de búsqueda se utilizan para facilitar el proceso de optimización de funciones objetivos compleja y costosas de computar."
      ]
    },
    {
      "cell_type": "markdown",
      "id": "038474ce-6e2f-4d45-895a-bb17f7c8871d",
      "metadata": {
        "id": "038474ce-6e2f-4d45-895a-bb17f7c8871d"
      },
      "source": [
        "En este laboratorio usaremos el dataset de los diferentes tipos de iris, y sus longitudes y anchos de pétalos y sépalos. Utilizaremos un RandomForest para crear un modelo de clasificación y el métrico F1 para decidir cuál es el mejor modelo de acuerdo a lo que tenemos disponible."
      ]
    },
    {
      "cell_type": "markdown",
      "id": "c04956ea-14f4-419e-adf8-add3b81da443",
      "metadata": {
        "id": "c04956ea-14f4-419e-adf8-add3b81da443"
      },
      "source": [
        "1. Carga el dataset de Iris"
      ]
    },
    {
      "cell_type": "code",
      "execution_count": 2,
      "id": "aad912f2-1359-437e-af68-3c8cca8d1b03",
      "metadata": {
        "id": "aad912f2-1359-437e-af68-3c8cca8d1b03"
      },
      "outputs": [],
      "source": [
        "from sklearn import datasets\n",
        "X, y = datasets.load_iris(return_X_y=True)"
      ]
    },
    {
      "cell_type": "markdown",
      "id": "9b97ad91-d82b-491c-ac5d-be6f872c5334",
      "metadata": {
        "id": "9b97ad91-d82b-491c-ac5d-be6f872c5334"
      },
      "source": [
        "2. Importa el archivo `Bosque.py`.\n",
        "\n",
        "Este archivo contiene la función `RegresionBosque`, que recibe:\n",
        "- X: las características independientes\n",
        "- y: la variable de respuesta\n",
        "- árboles: cantidad total de árboles\n",
        "- profundidad de bosque: niveles de profundidad del bosque\n",
        "\n",
        "Su salida es:\n",
        "- modelo: El objeto con el modelo ajustado\n",
        "- f1: El métrico que califica qué tan bueno es el modelo que se ajustó.\n"
      ]
    },
    {
      "cell_type": "code",
      "execution_count": 3,
      "id": "23f875f1-a72a-4a57-8355-16d6bb9fb33a",
      "metadata": {
        "colab": {
          "base_uri": "https://localhost:8080/"
        },
        "id": "23f875f1-a72a-4a57-8355-16d6bb9fb33a",
        "outputId": "a9e13e4e-9899-4bbe-e335-1bb0f1c05929"
      },
      "outputs": [
        {
          "output_type": "execute_result",
          "data": {
            "text/plain": [
              "0.9666666666666667"
            ]
          },
          "metadata": {},
          "execution_count": 3
        }
      ],
      "source": [
        "import Bosque\n",
        "modelo, f1 = Bosque.RegresionBosque(X, y, 10, 3)\n",
        "f1"
      ]
    },
    {
      "cell_type": "markdown",
      "id": "15ac2825-33ac-4919-9ccb-8324701ce99f",
      "metadata": {
        "id": "15ac2825-33ac-4919-9ccb-8324701ce99f"
      },
      "source": [
        "### Actividad 1:"
      ]
    },
    {
      "cell_type": "markdown",
      "id": "a8eb265f-9ccf-4fb4-b8c0-8fe221ea534c",
      "metadata": {
        "id": "a8eb265f-9ccf-4fb4-b8c0-8fe221ea534c"
      },
      "source": [
        "Inicializa un espacio con 5 muestras en nuestro dominio de variables independientes:\n",
        "- árboles: números enteros entre 5 y 50.\n",
        "- profundidad: números enteros entre 2 y 10"
      ]
    },
    {
      "cell_type": "markdown",
      "id": "1ed7c396-af97-49a6-828e-c5d63c1b6999",
      "metadata": {
        "id": "1ed7c396-af97-49a6-828e-c5d63c1b6999"
      },
      "source": [
        "Utiliza optimización Bayesiana para encontrar la combinación de árboles y profundidad que **maximice** el métrico F1."
      ]
    },
    {
      "cell_type": "code",
      "execution_count": 25,
      "id": "1e563392-4509-4d70-9cb6-adca944d2406",
      "metadata": {
        "id": "1e563392-4509-4d70-9cb6-adca944d2406"
      },
      "outputs": [],
      "source": [
        "import numpy as np\n",
        "from sklearn.gaussian_process import GaussianProcessRegressor\n",
        "from sklearn.gaussian_process.kernels import RBF\n",
        "from sklearn import datasets\n",
        "import Bosque\n",
        "\n",
        "\n",
        "X, y = datasets.load_iris(return_X_y=True)\n",
        "\n",
        "n = 5\n",
        "\n",
        "arboles = np.random.randint(5, 51, n)\n",
        "profundidad = np.random.randint(2, 11, n)\n",
        "\n",
        "\n",
        "espacio = np.column_stack((arboles, profundidad))\n",
        "\n",
        "lista_f1 = []\n",
        "\n",
        "def objetivo(params):\n",
        "    arboles, profundidad = params\n",
        "    modelo, f1 = Bosque.RegresionBosque(X, y, arboles, profundidad)\n",
        "    lista_f1.append(f1)\n",
        "    return f1\n",
        "\n",
        "for params in espacio:\n",
        "    objetivo(params)\n",
        "\n",
        "kernel = 1 * RBF(length_scale=1)\n",
        "\n",
        "\n",
        "gp = GaussianProcessRegressor(kernel=kernel, n_restarts_optimizer=10).fit(espacio, lista_f1)\n",
        "\n",
        "\n",
        "\n",
        "x_arboles = np.linspace(5, 50, 1000).reshape([-1, 1])\n",
        "x_profundidad = np.linspace(2, 10, 1000).reshape([-1, 1])\n",
        "\n",
        "\n",
        "X_pred = np.hstack((x_arboles, x_profundidad))\n",
        "\n",
        "y_pred, y_std = gp.predict(X_pred, return_std=True)\n",
        "y_pred_low = y_pred - 1.96 * y_std\n",
        "y_pred_high = y_pred + 1.96 * y_std\n",
        "\n",
        "i_next = np.argmax(y_pred_high)\n",
        "X_next = X_pred[i_next]\n",
        "\n",
        "def F1_opt(X_next):\n",
        "  for i in range(n):\n",
        "    b, p = X_next\n",
        "    modelo,f1 = Bosque.RegresionBosque(X, y, b, p)\n",
        "  return f1\n",
        "\n",
        "\n"
      ]
    },
    {
      "cell_type": "code",
      "source": [],
      "metadata": {
        "id": "c4ug5ikYJxbt"
      },
      "id": "c4ug5ikYJxbt",
      "execution_count": null,
      "outputs": []
    },
    {
      "cell_type": "markdown",
      "source": [],
      "metadata": {
        "id": "Vij4j16-FM4U"
      },
      "id": "Vij4j16-FM4U"
    },
    {
      "cell_type": "code",
      "source": [
        "X_next"
      ],
      "metadata": {
        "colab": {
          "base_uri": "https://localhost:8080/"
        },
        "id": "2dEdCOUUDUJF",
        "outputId": "7a3ddd37-fd2e-438e-b7ef-0733cb4e15dd"
      },
      "id": "2dEdCOUUDUJF",
      "execution_count": 26,
      "outputs": [
        {
          "output_type": "execute_result",
          "data": {
            "text/plain": [
              "array([50., 10.])"
            ]
          },
          "metadata": {},
          "execution_count": 26
        }
      ]
    },
    {
      "cell_type": "code",
      "source": [],
      "metadata": {
        "id": "oIeypB8XGT0X"
      },
      "id": "oIeypB8XGT0X",
      "execution_count": null,
      "outputs": []
    },
    {
      "cell_type": "code",
      "source": [
        "x11 = int(X_next[0]), int(X_next[1])"
      ],
      "metadata": {
        "id": "wWRjBljGDo7U"
      },
      "id": "wWRjBljGDo7U",
      "execution_count": 34,
      "outputs": []
    },
    {
      "cell_type": "code",
      "source": [
        "Bosque.RegresionBosque(X, y, 5, 2)"
      ],
      "metadata": {
        "colab": {
          "base_uri": "https://localhost:8080/"
        },
        "id": "vFA2XM-kEM-Y",
        "outputId": "e901e812-99e5-4b71-eff0-5ddd3c11100f"
      },
      "id": "vFA2XM-kEM-Y",
      "execution_count": 28,
      "outputs": [
        {
          "output_type": "execute_result",
          "data": {
            "text/plain": [
              "(RandomForestClassifier(max_depth=2, n_estimators=5), 0.9333333333333333)"
            ]
          },
          "metadata": {},
          "execution_count": 28
        }
      ]
    },
    {
      "cell_type": "code",
      "source": [
        "F1_opt(x11)"
      ],
      "metadata": {
        "id": "PbsqCz11FB4s",
        "colab": {
          "base_uri": "https://localhost:8080/"
        },
        "outputId": "fc2c3038-4c5c-43e5-ae77-2bf75ae18629"
      },
      "id": "PbsqCz11FB4s",
      "execution_count": 35,
      "outputs": [
        {
          "output_type": "execute_result",
          "data": {
            "text/plain": [
              "0.9555555555555556"
            ]
          },
          "metadata": {},
          "execution_count": 35
        }
      ]
    },
    {
      "cell_type": "markdown",
      "id": "5e083a3c-fa68-4942-b5d3-f1f7130b4fbb",
      "metadata": {
        "id": "5e083a3c-fa68-4942-b5d3-f1f7130b4fbb"
      },
      "source": [
        "### Actividad 2:"
      ]
    },
    {
      "cell_type": "markdown",
      "id": "2817a47c-0081-4376-b222-c65735f4ab9d",
      "metadata": {
        "id": "2817a47c-0081-4376-b222-c65735f4ab9d"
      },
      "source": [
        "Inicializa 2 vectores con posibles valores para las variables independientes:\n",
        "- árboles: números enteros entre 5 y 50\n",
        "- profundidad: números enteros entre 2 y 10\n",
        "\n",
        "Utiliza el algoritmo de Simulated Annealing que siga el siguiente orden:\n",
        "- Elige un punto de partida para las variables.\n",
        "- Selecciona al azar una de las dos para modificarlas.\n",
        "- Selecciona un elemento al azar de la lista que contiene los posibles valores de esa variable.\n",
        "- Sigue el algoritmo ($p$ y $q$) para decidir si usas esa combinación nueva o si mantienes la anterior."
      ]
    },
    {
      "cell_type": "code",
      "execution_count": 107,
      "id": "e6286fe8-ec56-4871-9c31-8d4d3ca4c0ae",
      "metadata": {
        "id": "e6286fe8-ec56-4871-9c31-8d4d3ca4c0ae"
      },
      "outputs": [],
      "source": [
        "import numpy as np\n",
        "from sklearn.gaussian_process import GaussianProcessRegressor\n",
        "from sklearn.gaussian_process.kernels import RBF\n",
        "from sklearn import datasets\n",
        "import Bosque\n",
        "\n",
        "\n",
        "X, y = datasets.load_iris(return_X_y=True)\n",
        "\n",
        "\n",
        "arboles = np.random.randint(5, 51)\n",
        "profundidad = np.random.randint(2, 11)\n",
        "\n",
        "lista_f1 = []\n",
        "\n",
        "def calcular_f1(params):\n",
        "    n_arboles, profundidad = params\n",
        "    modelo, f1 = Bosque.RegresionBosque(X, y, n_arboles, profundidad)\n",
        "    return f1\n",
        "\n",
        "def simulated_annealing(t_inicial, t_minima, n):\n",
        "    n_arboles_actual = np.random.choice(arboles)\n",
        "    profundidad_actual = np.random.choice(profundidad)\n",
        "    mejor_solucion = [n_arboles_actual, profundidad_actual]\n",
        "    mejor_f1 = calcular_f1(mejor_solucion)\n",
        "\n",
        "    T = t_inicial\n",
        "\n",
        "    while T > t_minima:\n",
        "        for i in range(10):\n",
        "            if np.random.random() < 0.5:\n",
        "                nueva_solucion = [np.random.choice(arboles), mejor_solucion[1]]\n",
        "            else:\n",
        "                nueva_solucion = [mejor_solucion[0], np.random.choice(profundidad)]\n",
        "\n",
        "            nuevo_f1 = calcular_f1(nueva_solucion)\n",
        "\n",
        "            delta_f1 = nuevo_f1 - mejor_f1\n",
        "            if delta_f1 > 0 or np.exp(delta_f1 / T) > np.random.random():\n",
        "                mejor_solucion = nueva_solucion\n",
        "                mejor_f1 = nuevo_f1\n",
        "\n",
        "        T *= 0.1\n",
        "\n",
        "    return mejor_solucion, mejor_f1\n",
        "\n",
        "\n"
      ]
    },
    {
      "cell_type": "code",
      "execution_count": 104,
      "id": "239fa243-bd6d-4ec4-860a-2eae65cea710",
      "metadata": {
        "id": "239fa243-bd6d-4ec4-860a-2eae65cea710"
      },
      "outputs": [],
      "source": [
        "mejores_parametros, mejor_f1 = simulated_annealing(10, 10, 6)"
      ]
    },
    {
      "cell_type": "code",
      "source": [
        "mejores_parametros"
      ],
      "metadata": {
        "colab": {
          "base_uri": "https://localhost:8080/"
        },
        "id": "hEqx7yBLYdei",
        "outputId": "430ada5f-b0e4-4897-e73f-8ea06ff4d6cf"
      },
      "id": "hEqx7yBLYdei",
      "execution_count": 105,
      "outputs": [
        {
          "output_type": "execute_result",
          "data": {
            "text/plain": [
              "[11, 2]"
            ]
          },
          "metadata": {},
          "execution_count": 105
        }
      ]
    },
    {
      "cell_type": "code",
      "source": [
        "mejor_f1"
      ],
      "metadata": {
        "colab": {
          "base_uri": "https://localhost:8080/"
        },
        "id": "78pr4f6jYmCy",
        "outputId": "b915bf72-a12a-4bf7-d52b-93edc18d9511"
      },
      "id": "78pr4f6jYmCy",
      "execution_count": 106,
      "outputs": [
        {
          "output_type": "execute_result",
          "data": {
            "text/plain": [
              "0.9333333333333333"
            ]
          },
          "metadata": {},
          "execution_count": 106
        }
      ]
    },
    {
      "cell_type": "code",
      "source": [],
      "metadata": {
        "id": "9vkiissoYoyJ"
      },
      "id": "9vkiissoYoyJ",
      "execution_count": 106,
      "outputs": []
    },
    {
      "cell_type": "code",
      "source": [],
      "metadata": {
        "id": "25kk5uYVY7qU"
      },
      "id": "25kk5uYVY7qU",
      "execution_count": 91,
      "outputs": []
    }
  ],
  "metadata": {
    "kernelspec": {
      "display_name": "Python 3 (ipykernel)",
      "language": "python",
      "name": "python3"
    },
    "language_info": {
      "codemirror_mode": {
        "name": "ipython",
        "version": 3
      },
      "file_extension": ".py",
      "mimetype": "text/x-python",
      "name": "python",
      "nbconvert_exporter": "python",
      "pygments_lexer": "ipython3",
      "version": "3.12.3"
    },
    "colab": {
      "provenance": [],
      "include_colab_link": true
    }
  },
  "nbformat": 4,
  "nbformat_minor": 5
}