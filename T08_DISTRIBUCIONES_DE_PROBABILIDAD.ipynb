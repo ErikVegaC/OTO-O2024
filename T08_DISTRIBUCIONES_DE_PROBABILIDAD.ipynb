{
  "nbformat": 4,
  "nbformat_minor": 0,
  "metadata": {
    "colab": {
      "provenance": [],
      "authorship_tag": "ABX9TyOzmtifzSaVekS8JcyM30ET",
      "include_colab_link": true
    },
    "kernelspec": {
      "name": "python3",
      "display_name": "Python 3"
    },
    "language_info": {
      "name": "python"
    }
  },
  "cells": [
    {
      "cell_type": "markdown",
      "metadata": {
        "id": "view-in-github",
        "colab_type": "text"
      },
      "source": [
        "<a href=\"https://colab.research.google.com/github/ErikVegaC/OTO-O2024/blob/main/T08_DISTRIBUCIONES_DE_PROBABILIDAD.ipynb\" target=\"_parent\"><img src=\"https://colab.research.google.com/assets/colab-badge.svg\" alt=\"Open In Colab\"/></a>"
      ]
    },
    {
      "cell_type": "markdown",
      "source": [
        "# **T08 -   Distribuciones de probabilidad**"
      ],
      "metadata": {
        "id": "m3P6U___iaEy"
      }
    },
    {
      "cell_type": "markdown",
      "source": [
        "### Erik Gabriel Vega Cervantes\n",
        "### Expediente 745264\n",
        "### A 23 de octubre de 2024"
      ],
      "metadata": {
        "id": "xVngommBioIw"
      }
    },
    {
      "cell_type": "markdown",
      "source": [
        "1. Un proyecto de construcción está por comenzar. Se hace la compra de los materiales y el proveedor dice que en promedio tardan una semana con una desviación de 3 días en llegar. Una vez llegados los materiales se tarda entre 3 y 5 semanas en construir (uniforme). Después de la construcción se deben esperar 3 días antes de empezar a pintar, y toma 6 días en promedio con 2 días de desviación estándar hacerlo."
      ],
      "metadata": {
        "id": "tVDSPJ3viykD"
      }
    },
    {
      "cell_type": "markdown",
      "source": [
        "a) Describe en una celda qué distribución usarías para cada paso del proceso\n",
        "\n"
      ],
      "metadata": {
        "id": "Q2f3MROui4mq"
      }
    },
    {
      "cell_type": "markdown",
      "source": [
        "$a_1$ para estimar el tiempo de entrega usaría una distribucion normal considerando los datos dados, ya que habla de una estimación de tiempo y que puede variar debido a la concentracion de datos con la desviación.\n",
        "\n",
        "$a_2$ para estimar el tiempo de construcción usaría una distribución uniforme, ya que no menciona alguna variación u concentración de datos, es decir, tienen la misma probabilidad.\n",
        "\n",
        "$a_3$ para estimar el tiempo de pintura nuevamente usaría la distribución normal considerando los dias promedio(media) y usando la desviación para determinar la concentracion de los datos.\n",
        "\n"
      ],
      "metadata": {
        "id": "MKypvAE298n5"
      }
    },
    {
      "cell_type": "markdown",
      "source": [
        "b) Simula cada paso en el proceso un millón de veces\n",
        "\n"
      ],
      "metadata": {
        "id": "OWyXk_Mwi6_t"
      }
    },
    {
      "cell_type": "code",
      "source": [
        "entrega_m = 7\n",
        "entrega_dev = 3\n",
        "\n",
        "const_t_min = 21\n",
        "const_t_max = 35\n",
        "\n",
        "\n",
        "pintura_m = 6\n",
        "pintura_dev = 2\n",
        "\n",
        "\n",
        "n = 1000000\n",
        "\n",
        "t_entrega = np.random.normal(entrega_m, entrega_dev,n)\n",
        "t_construccion = np.random.uniform(const_t_min, const_t_max,n)\n",
        "t_pintura = np.random.normal(pintura_m,pintura_dev,n)\n",
        "\n",
        "\n",
        "t_entrega,t_construccion, t_pintura"
      ],
      "metadata": {
        "colab": {
          "base_uri": "https://localhost:8080/"
        },
        "id": "w1ijvcBMkiS4",
        "outputId": "1c1b6d55-0c94-4983-9b32-c23f0e241c06"
      },
      "execution_count": 29,
      "outputs": [
        {
          "output_type": "execute_result",
          "data": {
            "text/plain": [
              "(array([ 1.73779923, 10.1471205 ,  3.81301522, ...,  7.20299104,\n",
              "         5.03500968,  0.19988177]),\n",
              " array([24.64394932, 28.98450101, 26.56737277, ..., 25.97808156,\n",
              "        34.83538093, 28.16638152]),\n",
              " array([5.88475557, 4.87208781, 8.78968736, ..., 5.04971308, 5.16256102,\n",
              "        5.56435514]))"
            ]
          },
          "metadata": {},
          "execution_count": 29
        }
      ]
    },
    {
      "cell_type": "markdown",
      "source": [
        "c) Agrupa las simulaciones de cada paso para tener la simulación del proceso completo\n"
      ],
      "metadata": {
        "id": "gAe0voy5i8X4"
      }
    },
    {
      "cell_type": "code",
      "source": [
        "import numpy as np\n",
        "\n",
        "entrega_m = 7\n",
        "entrega_dev = 3\n",
        "\n",
        "const_t_min = 21\n",
        "const_t_max = 35\n",
        "\n",
        "pintura_t = 3\n",
        "\n",
        "pintura_m = 6\n",
        "pintura_dev = 2\n",
        "\n",
        "n = 1000000\n",
        "\n",
        "t_entrega = np.random.normal(entrega_m, entrega_dev,n)\n",
        "t_construccion = np.random.uniform(const_t_min, const_t_max,n)\n",
        "t_pintura = np.random.normal(pintura_m,pintura_dev,n)\n",
        "\n",
        "\n",
        "total_t = t_entrega + t_construccion + t_pintura + pintura_t\n",
        "total_t"
      ],
      "metadata": {
        "colab": {
          "base_uri": "https://localhost:8080/"
        },
        "id": "aleoL6sWjF2s",
        "outputId": "dfc831e8-6639-4231-fc26-cd738e10257a"
      },
      "execution_count": 30,
      "outputs": [
        {
          "output_type": "execute_result",
          "data": {
            "text/plain": [
              "array([35.5957969 , 45.2988292 , 39.31764316, ..., 37.85644972,\n",
              "       46.74811832, 40.79631918])"
            ]
          },
          "metadata": {},
          "execution_count": 30
        }
      ]
    },
    {
      "cell_type": "markdown",
      "source": [
        "\n",
        "d) ¿Cuál es el tiempo promedio para de inicio-fin del proyecto?\n"
      ],
      "metadata": {
        "id": "maM1PFbZi92n"
      }
    },
    {
      "cell_type": "code",
      "source": [
        "print(f\"El tiempo promedio de inicio-fin de el proyecto son: {np.ceil((total_t.mean()))} días\")"
      ],
      "metadata": {
        "colab": {
          "base_uri": "https://localhost:8080/"
        },
        "id": "tlVouCaCjGN0",
        "outputId": "c39392c7-ccb6-4cc3-c3a2-44506620a044"
      },
      "execution_count": 23,
      "outputs": [
        {
          "output_type": "stream",
          "name": "stdout",
          "text": [
            "El tiempo promedio de inicio-fin de el proyecto son: 44.0 días\n"
          ]
        }
      ]
    },
    {
      "cell_type": "markdown",
      "source": [
        "\n",
        "e) De acuerdo a tus simulaciones, ¿cuál es el peor caso? ¿cuál es el mejor caso?\n",
        "\n"
      ],
      "metadata": {
        "id": "1R8cdCDTi_cq"
      }
    },
    {
      "cell_type": "code",
      "source": [
        "print(f\"El peor caso de el tiempo total de la construcción son {int(np.ceil((np.min(total_t))))} días\")\n",
        "print(f\"El mejor caso de el tiempo total de la construcción son {int(np.ceil((np.max(total_t))))} días\")"
      ],
      "metadata": {
        "colab": {
          "base_uri": "https://localhost:8080/"
        },
        "id": "XGWwO3vmjGmX",
        "outputId": "7a230c08-1d35-443a-b4af-bf6d2334827d"
      },
      "execution_count": 27,
      "outputs": [
        {
          "output_type": "stream",
          "name": "stdout",
          "text": [
            "El peor caso de el tiempo total de la construcción son 23 días\n",
            "El mejor caso de el tiempo total de la construcción son 67 días\n"
          ]
        }
      ]
    },
    {
      "cell_type": "markdown",
      "source": [
        "f) Si el proyecto se tiene que entregar a más tardar en 50 días o se tiene que pagar una compensación al cliente, ¿cuál es la probabilidad de que el proyecto se entregue a tiempo?\n",
        "\n"
      ],
      "metadata": {
        "id": "rfzw8zOvjBhf"
      }
    },
    {
      "cell_type": "code",
      "source": [
        "p_1 = np.mean(total_t <= 50) * 100\n",
        "\n",
        "print(f\"La probabilidad de que el proyecto se entregue a mas tardar en 50 dias es del {int(p)}%\")"
      ],
      "metadata": {
        "colab": {
          "base_uri": "https://localhost:8080/"
        },
        "id": "BzYsKpBpjG8i",
        "outputId": "522de265-b43d-46c1-be92-76b4d3bda34a"
      },
      "execution_count": 37,
      "outputs": [
        {
          "output_type": "stream",
          "name": "stdout",
          "text": [
            "La probabilidad de que el proyecto se entregue a mas tardar en 50 dias es del 85%\n"
          ]
        }
      ]
    },
    {
      "cell_type": "markdown",
      "source": [
        "g) ¿Cuál es la probabilidad de que el proyecto tome entre 20 y 40 días?"
      ],
      "metadata": {
        "id": "Kk3yShCtjC_6"
      }
    },
    {
      "cell_type": "code",
      "source": [
        "p_2 = np.mean((total_t >= 20) & (total_t <= 40) )\n",
        "print(f\"La probabilidad de que el proyecto se entregue entre 20 y 40 dias es del {int(p_2*100)}%\")"
      ],
      "metadata": {
        "colab": {
          "base_uri": "https://localhost:8080/"
        },
        "id": "lk9QWBJZjHv-",
        "outputId": "4dc9ac38-38a8-41bd-dd69-656f1aae1751"
      },
      "execution_count": 41,
      "outputs": [
        {
          "output_type": "stream",
          "name": "stdout",
          "text": [
            "La probabilidad de que el proyecto se entregue entre 20 y 40 dias es del 24%\n"
          ]
        }
      ]
    },
    {
      "cell_type": "markdown",
      "source": [
        "2. Hay un elevador pequeño en una plaza donde se espera que entren máximo 4 personas a la vez, y su capacidad de peso para poder operar es de 300 kg. En el último censo se encontró que habían 378350 personas en la zona:\n",
        "\n",
        "    - 185392 mujeres\n",
        "    - 162690 hombres\n",
        "    - 30268 personas que o prefirieron no dar la información o se identificaron como no binarias\n",
        "    \n",
        "El peso promedio medido en mujeres es de 70 kg con una desviación estándar de 11 kg. En los hombres se midió un peso promedio de 80 kg y una desviación estándar de 16 kg. En el tercer grupo se midió un peso promedio de 73 kg con una desviación estándar de 12 kg."
      ],
      "metadata": {
        "id": "ZxTy2wxZrzAy"
      }
    },
    {
      "cell_type": "markdown",
      "source": [
        "a) Si el elevador se llenara 10,000 veces, ¿cuántas de esas veces se excedería el peso permitido?"
      ],
      "metadata": {
        "id": "hFmhCSbXr99N"
      }
    },
    {
      "cell_type": "code",
      "source": [
        "import numpy as np\n",
        "\n",
        "peso_mujeres_prom = 70\n",
        "peso_mujeres_std = 11\n",
        "\n",
        "peso_hombres_prom = 80\n",
        "peso_hombres_std = 16\n",
        "\n",
        "peso_nobinarios_prom = 73\n",
        "peso_nobinarios_std = 12\n",
        "\n",
        "\n",
        "total_personas = 185392 + 162690 + 30268\n",
        "prob_mujeres = 185392 / total_personas\n",
        "prob_hombres = 162690 / total_personas\n",
        "prob_nobinarios = 30268 / total_personas\n",
        "\n",
        "\n",
        "n_viajes = 10000\n",
        "capacidad_maxima = 300\n",
        "\n",
        "excesos = 0\n",
        "\n",
        "for _ in range(n_viajes):\n",
        "    pesos = []\n",
        "    for _ in range(4):\n",
        "        grupo = np.random.choice(['mujer', 'hombre', 'nobinario'], p=[prob_mujeres, prob_hombres, prob_nobinarios])\n",
        "        if grupo == 'mujer':\n",
        "            peso = np.random.normal(peso_mujeres_prom, peso_mujeres_std)\n",
        "        elif grupo == 'hombre':\n",
        "            peso = np.random.normal(peso_hombres_prom, peso_hombres_std)\n",
        "        else:\n",
        "            peso = np.random.normal(peso_nobinarios_prom, peso_nobinarios_std)\n",
        "        pesos.append(peso)\n",
        "\n",
        "\n",
        "    if sum(pesos) > capacidad_maxima:\n",
        "        excesos += 1\n",
        "\n",
        "print(f\"Se excedió del peso {excesos} de las 10,000 veces\")\n"
      ],
      "metadata": {
        "colab": {
          "base_uri": "https://localhost:8080/"
        },
        "id": "vgSsOJugnhE7",
        "outputId": "e84d243e-4921-44ab-eafe-b397892c9586"
      },
      "execution_count": 73,
      "outputs": [
        {
          "output_type": "stream",
          "name": "stdout",
          "text": [
            "Se excedió del peso 4758 de las 10,000 veces\n"
          ]
        }
      ]
    },
    {
      "cell_type": "markdown",
      "source": [
        "b) ¿Qué peso total tendría que soportar el elevador si se quiere que el 95% de las veces que se llene no se exceda el peso permitido?"
      ],
      "metadata": {
        "id": "JTWqNWbjsB7R"
      }
    },
    {
      "cell_type": "code",
      "source": [
        "\n",
        "pesos_totales = []\n",
        "\n",
        "for i in range(n_viajes):\n",
        "    pesos = []\n",
        "    for i in range(4):\n",
        "        grupo = np.random.choice(['mujer', 'hombre', 'nobinario'], p = [prob_mujeres,prob_hombres,prob_nobinarios])\n",
        "        if grupo == 'mujer':\n",
        "            peso = np.random.normal(peso_mujeres_prom, peso_mujeres_std)\n",
        "        elif grupo == 'hombre':\n",
        "            peso = np.random.normal(peso_hombres_prom, peso_hombres_std)\n",
        "        else:\n",
        "            peso = np.random.normal(peso_nobinarios_prom, peso_nobinarios_std)\n",
        "        pesos.append(peso)\n",
        "\n",
        "    pesos_totales.append(sum(pesos))\n",
        "\n",
        "pesos_totales = np.array(pesos_totales)\n",
        "\n",
        "percentil_95 = np.percentile(pesos_totales, 95)\n",
        "print(f\"El peso total que el elevador debería soportar para no excederse en el 95% de los casos es: {percentil_95} kg\")\n"
      ],
      "metadata": {
        "colab": {
          "base_uri": "https://localhost:8080/"
        },
        "id": "IKqEOLXdpP1R",
        "outputId": "239e4c6d-02d3-4669-bcd6-2c5280150c39"
      },
      "execution_count": 75,
      "outputs": [
        {
          "output_type": "stream",
          "name": "stdout",
          "text": [
            "El peso total que el elevador debería soportar para no excederse en el 95% de los casos es: 346.30871888749436 kg\n"
          ]
        }
      ]
    },
    {
      "cell_type": "markdown",
      "source": [
        "3. Tienes diez dados justos. Si arrojas todos al mismo tiempo, ¿cuál es la probabilidad de que la suma de los dados sea múltiplo de 6?"
      ],
      "metadata": {
        "id": "tdS-fo2jsG47"
      }
    },
    {
      "cell_type": "code",
      "source": [
        "dados = 10\n",
        "n = 1000000\n",
        "d = np.random.choice([1,2,3,4,5,6],(n,dados),p=[1/6,1/6,1/6,1/6,1/6,1/6])\n",
        "sumas_lanzamiento = np.sum(d,1)\n",
        "\n",
        "multiplo_6 = (sumas_lanzamiento % 6) == 0\n",
        "\n",
        "print(f\"La probabilidad de que la suma de los dados sea multiplo de 6 es del {multiplo_6.mean()*100}%\")"
      ],
      "metadata": {
        "colab": {
          "base_uri": "https://localhost:8080/"
        },
        "id": "JBqFd5v3sH_W",
        "outputId": "5f605b5a-caa6-4188-a45f-92e944184480"
      },
      "execution_count": 124,
      "outputs": [
        {
          "output_type": "stream",
          "name": "stdout",
          "text": [
            "La probabilidad de que la suma de los dados sea multiplo de 6 es del 16.5969%\n"
          ]
        }
      ]
    },
    {
      "cell_type": "code",
      "source": [],
      "metadata": {
        "id": "gvuV38NM6kj3"
      },
      "execution_count": 125,
      "outputs": []
    },
    {
      "cell_type": "markdown",
      "source": [
        "4.  A y B juegan al siguiente juego: un número k del 1 al 6 es elegido, y A y B avientan el dado por turnos hasta que alguien consiga que el dado caiga en k. El ganador recibe $100."
      ],
      "metadata": {
        "id": "KJYzaYAXsPAh"
      }
    },
    {
      "cell_type": "code",
      "source": [
        "\n",
        "\n",
        "import numpy as np\n",
        "\n",
        "\n",
        "n = 100000\n",
        "k = np.random.randint(1,7)\n",
        "\n",
        "\n",
        "victorias_A = 0\n",
        "victorias_B = 0\n",
        "\n",
        "premio = 100\n",
        "\n",
        "for i in range(n):\n",
        "    while True:\n",
        "        if np.random.randint(1, 7) == k:\n",
        "            victorias_A += 1\n",
        "            break\n",
        "        if np.random.randint(1, 7) == k:\n",
        "            victorias_B += 1\n",
        "            break\n",
        "\n",
        "\n",
        "prob_A_gana = victorias_A/n\n",
        "prob_B_gana = victorias_B/n\n",
        "\n",
        "\n",
        "valor_esperado_A= premio * prob_A_gana\n",
        "\n",
        "\n"
      ],
      "metadata": {
        "id": "fUQb_mn6sP4w"
      },
      "execution_count": 142,
      "outputs": []
    },
    {
      "cell_type": "markdown",
      "source": [
        "a) ¿Cuál es la probabilidad de que el primer jugador gane?\n",
        "\n"
      ],
      "metadata": {
        "id": "90N60IbAsSC7"
      }
    },
    {
      "cell_type": "code",
      "source": [
        "print(f\"La probabilidad de que el primer jugador gane es del {int(np.ceil(prob_A_gana*100))}%\")"
      ],
      "metadata": {
        "colab": {
          "base_uri": "https://localhost:8080/"
        },
        "id": "MNViNHp8sTy5",
        "outputId": "1210b829-a205-4d3c-f5f2-2ce29b4faceb"
      },
      "execution_count": 144,
      "outputs": [
        {
          "output_type": "stream",
          "name": "stdout",
          "text": [
            "La probabilidad de que el primer jugador gane es del 55%\n"
          ]
        }
      ]
    },
    {
      "cell_type": "markdown",
      "source": [
        "b) ¿Cuál es la probabilidad de que el segundo jugador gane?\n",
        "\n"
      ],
      "metadata": {
        "id": "wfH00sD2sUTk"
      }
    },
    {
      "cell_type": "code",
      "source": [
        "print(f\"La probabilidad de que el segundo jugador gane es del {int(np.ceil(prob_B_gana*100))}%\")"
      ],
      "metadata": {
        "colab": {
          "base_uri": "https://localhost:8080/"
        },
        "id": "qlDynCLksY0w",
        "outputId": "454c2fed-0f93-4c16-e364-eb9e4e133f56"
      },
      "execution_count": 145,
      "outputs": [
        {
          "output_type": "stream",
          "name": "stdout",
          "text": [
            "La probabilidad de que el segundo jugador gane es del 46%\n"
          ]
        }
      ]
    },
    {
      "cell_type": "markdown",
      "source": [
        "c) ¿Cuánto vale la pena pagar para ir primero?"
      ],
      "metadata": {
        "id": "RNRUqpD_sZNZ"
      }
    },
    {
      "cell_type": "code",
      "source": [
        "print(f\"Vale la pena pagar ${int(valor_esperado_A)}\")"
      ],
      "metadata": {
        "colab": {
          "base_uri": "https://localhost:8080/"
        },
        "id": "3PO0STCXsaaf",
        "outputId": "741ad450-b34c-41c2-d86a-d9a2d332831e"
      },
      "execution_count": 147,
      "outputs": [
        {
          "output_type": "stream",
          "name": "stdout",
          "text": [
            "Vale la pena pagar $54\n"
          ]
        }
      ]
    },
    {
      "cell_type": "code",
      "source": [],
      "metadata": {
        "id": "pufqqkm9EYBs"
      },
      "execution_count": null,
      "outputs": []
    }
  ]
}