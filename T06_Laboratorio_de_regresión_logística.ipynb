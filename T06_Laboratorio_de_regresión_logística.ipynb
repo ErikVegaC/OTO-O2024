{
  "cells": [
    {
      "cell_type": "markdown",
      "metadata": {
        "id": "view-in-github",
        "colab_type": "text"
      },
      "source": [
        "<a href=\"https://colab.research.google.com/github/ErikVegaC/OTO-O2024/blob/main/T06_Laboratorio_de_regresi%C3%B3n_log%C3%ADstica.ipynb\" target=\"_parent\"><img src=\"https://colab.research.google.com/assets/colab-badge.svg\" alt=\"Open In Colab\"/></a>"
      ]
    },
    {
      "cell_type": "markdown",
      "id": "c191c972-2c85-4284-a555-7db618ba5b26",
      "metadata": {
        "id": "c191c972-2c85-4284-a555-7db618ba5b26"
      },
      "source": [
        "# Laboratorio de regresión logística"
      ]
    },
    {
      "cell_type": "markdown",
      "id": "e11c177c-1848-44b0-8c6b-b35537b5ae2f",
      "metadata": {
        "id": "e11c177c-1848-44b0-8c6b-b35537b5ae2f"
      },
      "source": [
        "|                |   |\n",
        ":----------------|---|\n",
        "| **Nombre**     |Erik Gabriel Vega Cervantes   |\n",
        "| **Fecha**      |26 de septiembre de 2024     |\n",
        "| **Expediente** | 745264  |"
      ]
    },
    {
      "cell_type": "markdown",
      "id": "c4f75ddf-058d-4e10-8a53-bf1b4874e1fa",
      "metadata": {
        "id": "c4f75ddf-058d-4e10-8a53-bf1b4874e1fa"
      },
      "source": [
        "La regresión logística es una herramienta utilizada para predecir respuestas cualitativas. Al igual que la regresión lineal, es un método sencillo que sirve como un punto de partida para técnicas más avanzadas. Por ejemplo, lo que se conoce como *redes neuronales* o *red de perceptrones multicapa* no es más que una estructura de regresiones logísticas que se alimentan entre sí."
      ]
    },
    {
      "cell_type": "markdown",
      "id": "7aca8491-9d65-4f36-86c5-60b58282c56b",
      "metadata": {
        "id": "7aca8491-9d65-4f36-86c5-60b58282c56b"
      },
      "source": [
        "1. Descarga el archivo de créditos y carga los datos (Default.csv). Utiliza `pandas`."
      ]
    },
    {
      "cell_type": "code",
      "execution_count": 2,
      "id": "cf337cda-782d-41e3-9a27-15abe95121ad",
      "metadata": {
        "id": "cf337cda-782d-41e3-9a27-15abe95121ad",
        "colab": {
          "base_uri": "https://localhost:8080/",
          "height": 424
        },
        "outputId": "e83b3b9e-fa31-4f60-dce8-fa5fca7b5d36"
      },
      "outputs": [
        {
          "output_type": "execute_result",
          "data": {
            "text/plain": [
              "     default student      balance        income\n",
              "0         No      No   729.526495  44361.625074\n",
              "1         No     Yes   817.180407  12106.134700\n",
              "2         No      No  1073.549164  31767.138950\n",
              "3         No      No   529.250605  35704.493940\n",
              "4         No      No   785.655883  38463.495880\n",
              "...      ...     ...          ...           ...\n",
              "9995      No      No   711.555020  52992.378910\n",
              "9996      No      No   757.962918  19660.721770\n",
              "9997      No      No   845.411989  58636.156980\n",
              "9998      No      No  1569.009053  36669.112360\n",
              "9999      No     Yes   200.922183  16862.952320\n",
              "\n",
              "[10000 rows x 4 columns]"
            ],
            "text/html": [
              "\n",
              "  <div id=\"df-790c043a-6db4-4f24-be2c-72f9d8f6d1c7\" class=\"colab-df-container\">\n",
              "    <div>\n",
              "<style scoped>\n",
              "    .dataframe tbody tr th:only-of-type {\n",
              "        vertical-align: middle;\n",
              "    }\n",
              "\n",
              "    .dataframe tbody tr th {\n",
              "        vertical-align: top;\n",
              "    }\n",
              "\n",
              "    .dataframe thead th {\n",
              "        text-align: right;\n",
              "    }\n",
              "</style>\n",
              "<table border=\"1\" class=\"dataframe\">\n",
              "  <thead>\n",
              "    <tr style=\"text-align: right;\">\n",
              "      <th></th>\n",
              "      <th>default</th>\n",
              "      <th>student</th>\n",
              "      <th>balance</th>\n",
              "      <th>income</th>\n",
              "    </tr>\n",
              "  </thead>\n",
              "  <tbody>\n",
              "    <tr>\n",
              "      <th>0</th>\n",
              "      <td>No</td>\n",
              "      <td>No</td>\n",
              "      <td>729.526495</td>\n",
              "      <td>44361.625074</td>\n",
              "    </tr>\n",
              "    <tr>\n",
              "      <th>1</th>\n",
              "      <td>No</td>\n",
              "      <td>Yes</td>\n",
              "      <td>817.180407</td>\n",
              "      <td>12106.134700</td>\n",
              "    </tr>\n",
              "    <tr>\n",
              "      <th>2</th>\n",
              "      <td>No</td>\n",
              "      <td>No</td>\n",
              "      <td>1073.549164</td>\n",
              "      <td>31767.138950</td>\n",
              "    </tr>\n",
              "    <tr>\n",
              "      <th>3</th>\n",
              "      <td>No</td>\n",
              "      <td>No</td>\n",
              "      <td>529.250605</td>\n",
              "      <td>35704.493940</td>\n",
              "    </tr>\n",
              "    <tr>\n",
              "      <th>4</th>\n",
              "      <td>No</td>\n",
              "      <td>No</td>\n",
              "      <td>785.655883</td>\n",
              "      <td>38463.495880</td>\n",
              "    </tr>\n",
              "    <tr>\n",
              "      <th>...</th>\n",
              "      <td>...</td>\n",
              "      <td>...</td>\n",
              "      <td>...</td>\n",
              "      <td>...</td>\n",
              "    </tr>\n",
              "    <tr>\n",
              "      <th>9995</th>\n",
              "      <td>No</td>\n",
              "      <td>No</td>\n",
              "      <td>711.555020</td>\n",
              "      <td>52992.378910</td>\n",
              "    </tr>\n",
              "    <tr>\n",
              "      <th>9996</th>\n",
              "      <td>No</td>\n",
              "      <td>No</td>\n",
              "      <td>757.962918</td>\n",
              "      <td>19660.721770</td>\n",
              "    </tr>\n",
              "    <tr>\n",
              "      <th>9997</th>\n",
              "      <td>No</td>\n",
              "      <td>No</td>\n",
              "      <td>845.411989</td>\n",
              "      <td>58636.156980</td>\n",
              "    </tr>\n",
              "    <tr>\n",
              "      <th>9998</th>\n",
              "      <td>No</td>\n",
              "      <td>No</td>\n",
              "      <td>1569.009053</td>\n",
              "      <td>36669.112360</td>\n",
              "    </tr>\n",
              "    <tr>\n",
              "      <th>9999</th>\n",
              "      <td>No</td>\n",
              "      <td>Yes</td>\n",
              "      <td>200.922183</td>\n",
              "      <td>16862.952320</td>\n",
              "    </tr>\n",
              "  </tbody>\n",
              "</table>\n",
              "<p>10000 rows × 4 columns</p>\n",
              "</div>\n",
              "    <div class=\"colab-df-buttons\">\n",
              "\n",
              "  <div class=\"colab-df-container\">\n",
              "    <button class=\"colab-df-convert\" onclick=\"convertToInteractive('df-790c043a-6db4-4f24-be2c-72f9d8f6d1c7')\"\n",
              "            title=\"Convert this dataframe to an interactive table.\"\n",
              "            style=\"display:none;\">\n",
              "\n",
              "  <svg xmlns=\"http://www.w3.org/2000/svg\" height=\"24px\" viewBox=\"0 -960 960 960\">\n",
              "    <path d=\"M120-120v-720h720v720H120Zm60-500h600v-160H180v160Zm220 220h160v-160H400v160Zm0 220h160v-160H400v160ZM180-400h160v-160H180v160Zm440 0h160v-160H620v160ZM180-180h160v-160H180v160Zm440 0h160v-160H620v160Z\"/>\n",
              "  </svg>\n",
              "    </button>\n",
              "\n",
              "  <style>\n",
              "    .colab-df-container {\n",
              "      display:flex;\n",
              "      gap: 12px;\n",
              "    }\n",
              "\n",
              "    .colab-df-convert {\n",
              "      background-color: #E8F0FE;\n",
              "      border: none;\n",
              "      border-radius: 50%;\n",
              "      cursor: pointer;\n",
              "      display: none;\n",
              "      fill: #1967D2;\n",
              "      height: 32px;\n",
              "      padding: 0 0 0 0;\n",
              "      width: 32px;\n",
              "    }\n",
              "\n",
              "    .colab-df-convert:hover {\n",
              "      background-color: #E2EBFA;\n",
              "      box-shadow: 0px 1px 2px rgba(60, 64, 67, 0.3), 0px 1px 3px 1px rgba(60, 64, 67, 0.15);\n",
              "      fill: #174EA6;\n",
              "    }\n",
              "\n",
              "    .colab-df-buttons div {\n",
              "      margin-bottom: 4px;\n",
              "    }\n",
              "\n",
              "    [theme=dark] .colab-df-convert {\n",
              "      background-color: #3B4455;\n",
              "      fill: #D2E3FC;\n",
              "    }\n",
              "\n",
              "    [theme=dark] .colab-df-convert:hover {\n",
              "      background-color: #434B5C;\n",
              "      box-shadow: 0px 1px 3px 1px rgba(0, 0, 0, 0.15);\n",
              "      filter: drop-shadow(0px 1px 2px rgba(0, 0, 0, 0.3));\n",
              "      fill: #FFFFFF;\n",
              "    }\n",
              "  </style>\n",
              "\n",
              "    <script>\n",
              "      const buttonEl =\n",
              "        document.querySelector('#df-790c043a-6db4-4f24-be2c-72f9d8f6d1c7 button.colab-df-convert');\n",
              "      buttonEl.style.display =\n",
              "        google.colab.kernel.accessAllowed ? 'block' : 'none';\n",
              "\n",
              "      async function convertToInteractive(key) {\n",
              "        const element = document.querySelector('#df-790c043a-6db4-4f24-be2c-72f9d8f6d1c7');\n",
              "        const dataTable =\n",
              "          await google.colab.kernel.invokeFunction('convertToInteractive',\n",
              "                                                    [key], {});\n",
              "        if (!dataTable) return;\n",
              "\n",
              "        const docLinkHtml = 'Like what you see? Visit the ' +\n",
              "          '<a target=\"_blank\" href=https://colab.research.google.com/notebooks/data_table.ipynb>data table notebook</a>'\n",
              "          + ' to learn more about interactive tables.';\n",
              "        element.innerHTML = '';\n",
              "        dataTable['output_type'] = 'display_data';\n",
              "        await google.colab.output.renderOutput(dataTable, element);\n",
              "        const docLink = document.createElement('div');\n",
              "        docLink.innerHTML = docLinkHtml;\n",
              "        element.appendChild(docLink);\n",
              "      }\n",
              "    </script>\n",
              "  </div>\n",
              "\n",
              "\n",
              "<div id=\"df-b94a3255-91c4-437b-9460-96f5dd9d0ad4\">\n",
              "  <button class=\"colab-df-quickchart\" onclick=\"quickchart('df-b94a3255-91c4-437b-9460-96f5dd9d0ad4')\"\n",
              "            title=\"Suggest charts\"\n",
              "            style=\"display:none;\">\n",
              "\n",
              "<svg xmlns=\"http://www.w3.org/2000/svg\" height=\"24px\"viewBox=\"0 0 24 24\"\n",
              "     width=\"24px\">\n",
              "    <g>\n",
              "        <path d=\"M19 3H5c-1.1 0-2 .9-2 2v14c0 1.1.9 2 2 2h14c1.1 0 2-.9 2-2V5c0-1.1-.9-2-2-2zM9 17H7v-7h2v7zm4 0h-2V7h2v10zm4 0h-2v-4h2v4z\"/>\n",
              "    </g>\n",
              "</svg>\n",
              "  </button>\n",
              "\n",
              "<style>\n",
              "  .colab-df-quickchart {\n",
              "      --bg-color: #E8F0FE;\n",
              "      --fill-color: #1967D2;\n",
              "      --hover-bg-color: #E2EBFA;\n",
              "      --hover-fill-color: #174EA6;\n",
              "      --disabled-fill-color: #AAA;\n",
              "      --disabled-bg-color: #DDD;\n",
              "  }\n",
              "\n",
              "  [theme=dark] .colab-df-quickchart {\n",
              "      --bg-color: #3B4455;\n",
              "      --fill-color: #D2E3FC;\n",
              "      --hover-bg-color: #434B5C;\n",
              "      --hover-fill-color: #FFFFFF;\n",
              "      --disabled-bg-color: #3B4455;\n",
              "      --disabled-fill-color: #666;\n",
              "  }\n",
              "\n",
              "  .colab-df-quickchart {\n",
              "    background-color: var(--bg-color);\n",
              "    border: none;\n",
              "    border-radius: 50%;\n",
              "    cursor: pointer;\n",
              "    display: none;\n",
              "    fill: var(--fill-color);\n",
              "    height: 32px;\n",
              "    padding: 0;\n",
              "    width: 32px;\n",
              "  }\n",
              "\n",
              "  .colab-df-quickchart:hover {\n",
              "    background-color: var(--hover-bg-color);\n",
              "    box-shadow: 0 1px 2px rgba(60, 64, 67, 0.3), 0 1px 3px 1px rgba(60, 64, 67, 0.15);\n",
              "    fill: var(--button-hover-fill-color);\n",
              "  }\n",
              "\n",
              "  .colab-df-quickchart-complete:disabled,\n",
              "  .colab-df-quickchart-complete:disabled:hover {\n",
              "    background-color: var(--disabled-bg-color);\n",
              "    fill: var(--disabled-fill-color);\n",
              "    box-shadow: none;\n",
              "  }\n",
              "\n",
              "  .colab-df-spinner {\n",
              "    border: 2px solid var(--fill-color);\n",
              "    border-color: transparent;\n",
              "    border-bottom-color: var(--fill-color);\n",
              "    animation:\n",
              "      spin 1s steps(1) infinite;\n",
              "  }\n",
              "\n",
              "  @keyframes spin {\n",
              "    0% {\n",
              "      border-color: transparent;\n",
              "      border-bottom-color: var(--fill-color);\n",
              "      border-left-color: var(--fill-color);\n",
              "    }\n",
              "    20% {\n",
              "      border-color: transparent;\n",
              "      border-left-color: var(--fill-color);\n",
              "      border-top-color: var(--fill-color);\n",
              "    }\n",
              "    30% {\n",
              "      border-color: transparent;\n",
              "      border-left-color: var(--fill-color);\n",
              "      border-top-color: var(--fill-color);\n",
              "      border-right-color: var(--fill-color);\n",
              "    }\n",
              "    40% {\n",
              "      border-color: transparent;\n",
              "      border-right-color: var(--fill-color);\n",
              "      border-top-color: var(--fill-color);\n",
              "    }\n",
              "    60% {\n",
              "      border-color: transparent;\n",
              "      border-right-color: var(--fill-color);\n",
              "    }\n",
              "    80% {\n",
              "      border-color: transparent;\n",
              "      border-right-color: var(--fill-color);\n",
              "      border-bottom-color: var(--fill-color);\n",
              "    }\n",
              "    90% {\n",
              "      border-color: transparent;\n",
              "      border-bottom-color: var(--fill-color);\n",
              "    }\n",
              "  }\n",
              "</style>\n",
              "\n",
              "  <script>\n",
              "    async function quickchart(key) {\n",
              "      const quickchartButtonEl =\n",
              "        document.querySelector('#' + key + ' button');\n",
              "      quickchartButtonEl.disabled = true;  // To prevent multiple clicks.\n",
              "      quickchartButtonEl.classList.add('colab-df-spinner');\n",
              "      try {\n",
              "        const charts = await google.colab.kernel.invokeFunction(\n",
              "            'suggestCharts', [key], {});\n",
              "      } catch (error) {\n",
              "        console.error('Error during call to suggestCharts:', error);\n",
              "      }\n",
              "      quickchartButtonEl.classList.remove('colab-df-spinner');\n",
              "      quickchartButtonEl.classList.add('colab-df-quickchart-complete');\n",
              "    }\n",
              "    (() => {\n",
              "      let quickchartButtonEl =\n",
              "        document.querySelector('#df-b94a3255-91c4-437b-9460-96f5dd9d0ad4 button');\n",
              "      quickchartButtonEl.style.display =\n",
              "        google.colab.kernel.accessAllowed ? 'block' : 'none';\n",
              "    })();\n",
              "  </script>\n",
              "</div>\n",
              "\n",
              "  <div id=\"id_c75eb577-35ea-4e78-9afd-b791d6f92d87\">\n",
              "    <style>\n",
              "      .colab-df-generate {\n",
              "        background-color: #E8F0FE;\n",
              "        border: none;\n",
              "        border-radius: 50%;\n",
              "        cursor: pointer;\n",
              "        display: none;\n",
              "        fill: #1967D2;\n",
              "        height: 32px;\n",
              "        padding: 0 0 0 0;\n",
              "        width: 32px;\n",
              "      }\n",
              "\n",
              "      .colab-df-generate:hover {\n",
              "        background-color: #E2EBFA;\n",
              "        box-shadow: 0px 1px 2px rgba(60, 64, 67, 0.3), 0px 1px 3px 1px rgba(60, 64, 67, 0.15);\n",
              "        fill: #174EA6;\n",
              "      }\n",
              "\n",
              "      [theme=dark] .colab-df-generate {\n",
              "        background-color: #3B4455;\n",
              "        fill: #D2E3FC;\n",
              "      }\n",
              "\n",
              "      [theme=dark] .colab-df-generate:hover {\n",
              "        background-color: #434B5C;\n",
              "        box-shadow: 0px 1px 3px 1px rgba(0, 0, 0, 0.15);\n",
              "        filter: drop-shadow(0px 1px 2px rgba(0, 0, 0, 0.3));\n",
              "        fill: #FFFFFF;\n",
              "      }\n",
              "    </style>\n",
              "    <button class=\"colab-df-generate\" onclick=\"generateWithVariable('obj')\"\n",
              "            title=\"Generate code using this dataframe.\"\n",
              "            style=\"display:none;\">\n",
              "\n",
              "  <svg xmlns=\"http://www.w3.org/2000/svg\" height=\"24px\"viewBox=\"0 0 24 24\"\n",
              "       width=\"24px\">\n",
              "    <path d=\"M7,19H8.4L18.45,9,17,7.55,7,17.6ZM5,21V16.75L18.45,3.32a2,2,0,0,1,2.83,0l1.4,1.43a1.91,1.91,0,0,1,.58,1.4,1.91,1.91,0,0,1-.58,1.4L9.25,21ZM18.45,9,17,7.55Zm-12,3A5.31,5.31,0,0,0,4.9,8.1,5.31,5.31,0,0,0,1,6.5,5.31,5.31,0,0,0,4.9,4.9,5.31,5.31,0,0,0,6.5,1,5.31,5.31,0,0,0,8.1,4.9,5.31,5.31,0,0,0,12,6.5,5.46,5.46,0,0,0,6.5,12Z\"/>\n",
              "  </svg>\n",
              "    </button>\n",
              "    <script>\n",
              "      (() => {\n",
              "      const buttonEl =\n",
              "        document.querySelector('#id_c75eb577-35ea-4e78-9afd-b791d6f92d87 button.colab-df-generate');\n",
              "      buttonEl.style.display =\n",
              "        google.colab.kernel.accessAllowed ? 'block' : 'none';\n",
              "\n",
              "      buttonEl.onclick = () => {\n",
              "        google.colab.notebook.generateWithVariable('obj');\n",
              "      }\n",
              "      })();\n",
              "    </script>\n",
              "  </div>\n",
              "\n",
              "    </div>\n",
              "  </div>\n"
            ],
            "application/vnd.google.colaboratory.intrinsic+json": {
              "type": "dataframe",
              "variable_name": "obj",
              "summary": "{\n  \"name\": \"obj\",\n  \"rows\": 10000,\n  \"fields\": [\n    {\n      \"column\": \"default\",\n      \"properties\": {\n        \"dtype\": \"category\",\n        \"num_unique_values\": 2,\n        \"samples\": [\n          \"Yes\",\n          \"No\"\n        ],\n        \"semantic_type\": \"\",\n        \"description\": \"\"\n      }\n    },\n    {\n      \"column\": \"student\",\n      \"properties\": {\n        \"dtype\": \"category\",\n        \"num_unique_values\": 2,\n        \"samples\": [\n          \"Yes\",\n          \"No\"\n        ],\n        \"semantic_type\": \"\",\n        \"description\": \"\"\n      }\n    },\n    {\n      \"column\": \"balance\",\n      \"properties\": {\n        \"dtype\": \"number\",\n        \"std\": 483.7149852107759,\n        \"min\": 0.0,\n        \"max\": 2654.322576,\n        \"num_unique_values\": 9502,\n        \"samples\": [\n          245.3464925,\n          186.5235201\n        ],\n        \"semantic_type\": \"\",\n        \"description\": \"\"\n      }\n    },\n    {\n      \"column\": \"income\",\n      \"properties\": {\n        \"dtype\": \"number\",\n        \"std\": 13336.639562733584,\n        \"min\": 771.9677294,\n        \"max\": 73554.2335,\n        \"num_unique_values\": 10000,\n        \"samples\": [\n          31507.08928,\n          42139.07027\n        ],\n        \"semantic_type\": \"\",\n        \"description\": \"\"\n      }\n    }\n  ]\n}"
            }
          },
          "metadata": {},
          "execution_count": 2
        }
      ],
      "source": [
        "import pandas as pd\n",
        "\n",
        "obj = pd.read_csv(\"Default.csv\")\n",
        "\n",
        "obj"
      ]
    },
    {
      "cell_type": "code",
      "execution_count": 2,
      "id": "f9771c6b-1fcc-4413-9c75-f41fdd2cf892",
      "metadata": {
        "id": "f9771c6b-1fcc-4413-9c75-f41fdd2cf892"
      },
      "outputs": [],
      "source": []
    },
    {
      "cell_type": "code",
      "execution_count": 2,
      "id": "582dd548-3fd2-4421-b147-3c251dd5a201",
      "metadata": {
        "id": "582dd548-3fd2-4421-b147-3c251dd5a201"
      },
      "outputs": [],
      "source": []
    },
    {
      "cell_type": "markdown",
      "id": "65b9bbd4-2e26-44b3-8842-a992c7da7374",
      "metadata": {
        "id": "65b9bbd4-2e26-44b3-8842-a992c7da7374"
      },
      "source": [
        "2. Utiliza el comando `obj.head()`, donde `obj` es el nombre que le diste a los datos del archivo."
      ]
    },
    {
      "cell_type": "code",
      "execution_count": 3,
      "id": "523807f3-b35f-45f8-bf81-a1dd5f63e7a6",
      "metadata": {
        "id": "523807f3-b35f-45f8-bf81-a1dd5f63e7a6",
        "colab": {
          "base_uri": "https://localhost:8080/",
          "height": 206
        },
        "outputId": "dfd471ce-9e89-4a8b-cbe3-1fea6f0e6e80"
      },
      "outputs": [
        {
          "output_type": "execute_result",
          "data": {
            "text/plain": [
              "  default student      balance        income\n",
              "0      No      No   729.526495  44361.625074\n",
              "1      No     Yes   817.180407  12106.134700\n",
              "2      No      No  1073.549164  31767.138950\n",
              "3      No      No   529.250605  35704.493940\n",
              "4      No      No   785.655883  38463.495880"
            ],
            "text/html": [
              "\n",
              "  <div id=\"df-6449c715-d694-4fd4-827f-d30646835f67\" class=\"colab-df-container\">\n",
              "    <div>\n",
              "<style scoped>\n",
              "    .dataframe tbody tr th:only-of-type {\n",
              "        vertical-align: middle;\n",
              "    }\n",
              "\n",
              "    .dataframe tbody tr th {\n",
              "        vertical-align: top;\n",
              "    }\n",
              "\n",
              "    .dataframe thead th {\n",
              "        text-align: right;\n",
              "    }\n",
              "</style>\n",
              "<table border=\"1\" class=\"dataframe\">\n",
              "  <thead>\n",
              "    <tr style=\"text-align: right;\">\n",
              "      <th></th>\n",
              "      <th>default</th>\n",
              "      <th>student</th>\n",
              "      <th>balance</th>\n",
              "      <th>income</th>\n",
              "    </tr>\n",
              "  </thead>\n",
              "  <tbody>\n",
              "    <tr>\n",
              "      <th>0</th>\n",
              "      <td>No</td>\n",
              "      <td>No</td>\n",
              "      <td>729.526495</td>\n",
              "      <td>44361.625074</td>\n",
              "    </tr>\n",
              "    <tr>\n",
              "      <th>1</th>\n",
              "      <td>No</td>\n",
              "      <td>Yes</td>\n",
              "      <td>817.180407</td>\n",
              "      <td>12106.134700</td>\n",
              "    </tr>\n",
              "    <tr>\n",
              "      <th>2</th>\n",
              "      <td>No</td>\n",
              "      <td>No</td>\n",
              "      <td>1073.549164</td>\n",
              "      <td>31767.138950</td>\n",
              "    </tr>\n",
              "    <tr>\n",
              "      <th>3</th>\n",
              "      <td>No</td>\n",
              "      <td>No</td>\n",
              "      <td>529.250605</td>\n",
              "      <td>35704.493940</td>\n",
              "    </tr>\n",
              "    <tr>\n",
              "      <th>4</th>\n",
              "      <td>No</td>\n",
              "      <td>No</td>\n",
              "      <td>785.655883</td>\n",
              "      <td>38463.495880</td>\n",
              "    </tr>\n",
              "  </tbody>\n",
              "</table>\n",
              "</div>\n",
              "    <div class=\"colab-df-buttons\">\n",
              "\n",
              "  <div class=\"colab-df-container\">\n",
              "    <button class=\"colab-df-convert\" onclick=\"convertToInteractive('df-6449c715-d694-4fd4-827f-d30646835f67')\"\n",
              "            title=\"Convert this dataframe to an interactive table.\"\n",
              "            style=\"display:none;\">\n",
              "\n",
              "  <svg xmlns=\"http://www.w3.org/2000/svg\" height=\"24px\" viewBox=\"0 -960 960 960\">\n",
              "    <path d=\"M120-120v-720h720v720H120Zm60-500h600v-160H180v160Zm220 220h160v-160H400v160Zm0 220h160v-160H400v160ZM180-400h160v-160H180v160Zm440 0h160v-160H620v160ZM180-180h160v-160H180v160Zm440 0h160v-160H620v160Z\"/>\n",
              "  </svg>\n",
              "    </button>\n",
              "\n",
              "  <style>\n",
              "    .colab-df-container {\n",
              "      display:flex;\n",
              "      gap: 12px;\n",
              "    }\n",
              "\n",
              "    .colab-df-convert {\n",
              "      background-color: #E8F0FE;\n",
              "      border: none;\n",
              "      border-radius: 50%;\n",
              "      cursor: pointer;\n",
              "      display: none;\n",
              "      fill: #1967D2;\n",
              "      height: 32px;\n",
              "      padding: 0 0 0 0;\n",
              "      width: 32px;\n",
              "    }\n",
              "\n",
              "    .colab-df-convert:hover {\n",
              "      background-color: #E2EBFA;\n",
              "      box-shadow: 0px 1px 2px rgba(60, 64, 67, 0.3), 0px 1px 3px 1px rgba(60, 64, 67, 0.15);\n",
              "      fill: #174EA6;\n",
              "    }\n",
              "\n",
              "    .colab-df-buttons div {\n",
              "      margin-bottom: 4px;\n",
              "    }\n",
              "\n",
              "    [theme=dark] .colab-df-convert {\n",
              "      background-color: #3B4455;\n",
              "      fill: #D2E3FC;\n",
              "    }\n",
              "\n",
              "    [theme=dark] .colab-df-convert:hover {\n",
              "      background-color: #434B5C;\n",
              "      box-shadow: 0px 1px 3px 1px rgba(0, 0, 0, 0.15);\n",
              "      filter: drop-shadow(0px 1px 2px rgba(0, 0, 0, 0.3));\n",
              "      fill: #FFFFFF;\n",
              "    }\n",
              "  </style>\n",
              "\n",
              "    <script>\n",
              "      const buttonEl =\n",
              "        document.querySelector('#df-6449c715-d694-4fd4-827f-d30646835f67 button.colab-df-convert');\n",
              "      buttonEl.style.display =\n",
              "        google.colab.kernel.accessAllowed ? 'block' : 'none';\n",
              "\n",
              "      async function convertToInteractive(key) {\n",
              "        const element = document.querySelector('#df-6449c715-d694-4fd4-827f-d30646835f67');\n",
              "        const dataTable =\n",
              "          await google.colab.kernel.invokeFunction('convertToInteractive',\n",
              "                                                    [key], {});\n",
              "        if (!dataTable) return;\n",
              "\n",
              "        const docLinkHtml = 'Like what you see? Visit the ' +\n",
              "          '<a target=\"_blank\" href=https://colab.research.google.com/notebooks/data_table.ipynb>data table notebook</a>'\n",
              "          + ' to learn more about interactive tables.';\n",
              "        element.innerHTML = '';\n",
              "        dataTable['output_type'] = 'display_data';\n",
              "        await google.colab.output.renderOutput(dataTable, element);\n",
              "        const docLink = document.createElement('div');\n",
              "        docLink.innerHTML = docLinkHtml;\n",
              "        element.appendChild(docLink);\n",
              "      }\n",
              "    </script>\n",
              "  </div>\n",
              "\n",
              "\n",
              "<div id=\"df-4d5c0935-19e2-4777-bc50-ec388d62ffa9\">\n",
              "  <button class=\"colab-df-quickchart\" onclick=\"quickchart('df-4d5c0935-19e2-4777-bc50-ec388d62ffa9')\"\n",
              "            title=\"Suggest charts\"\n",
              "            style=\"display:none;\">\n",
              "\n",
              "<svg xmlns=\"http://www.w3.org/2000/svg\" height=\"24px\"viewBox=\"0 0 24 24\"\n",
              "     width=\"24px\">\n",
              "    <g>\n",
              "        <path d=\"M19 3H5c-1.1 0-2 .9-2 2v14c0 1.1.9 2 2 2h14c1.1 0 2-.9 2-2V5c0-1.1-.9-2-2-2zM9 17H7v-7h2v7zm4 0h-2V7h2v10zm4 0h-2v-4h2v4z\"/>\n",
              "    </g>\n",
              "</svg>\n",
              "  </button>\n",
              "\n",
              "<style>\n",
              "  .colab-df-quickchart {\n",
              "      --bg-color: #E8F0FE;\n",
              "      --fill-color: #1967D2;\n",
              "      --hover-bg-color: #E2EBFA;\n",
              "      --hover-fill-color: #174EA6;\n",
              "      --disabled-fill-color: #AAA;\n",
              "      --disabled-bg-color: #DDD;\n",
              "  }\n",
              "\n",
              "  [theme=dark] .colab-df-quickchart {\n",
              "      --bg-color: #3B4455;\n",
              "      --fill-color: #D2E3FC;\n",
              "      --hover-bg-color: #434B5C;\n",
              "      --hover-fill-color: #FFFFFF;\n",
              "      --disabled-bg-color: #3B4455;\n",
              "      --disabled-fill-color: #666;\n",
              "  }\n",
              "\n",
              "  .colab-df-quickchart {\n",
              "    background-color: var(--bg-color);\n",
              "    border: none;\n",
              "    border-radius: 50%;\n",
              "    cursor: pointer;\n",
              "    display: none;\n",
              "    fill: var(--fill-color);\n",
              "    height: 32px;\n",
              "    padding: 0;\n",
              "    width: 32px;\n",
              "  }\n",
              "\n",
              "  .colab-df-quickchart:hover {\n",
              "    background-color: var(--hover-bg-color);\n",
              "    box-shadow: 0 1px 2px rgba(60, 64, 67, 0.3), 0 1px 3px 1px rgba(60, 64, 67, 0.15);\n",
              "    fill: var(--button-hover-fill-color);\n",
              "  }\n",
              "\n",
              "  .colab-df-quickchart-complete:disabled,\n",
              "  .colab-df-quickchart-complete:disabled:hover {\n",
              "    background-color: var(--disabled-bg-color);\n",
              "    fill: var(--disabled-fill-color);\n",
              "    box-shadow: none;\n",
              "  }\n",
              "\n",
              "  .colab-df-spinner {\n",
              "    border: 2px solid var(--fill-color);\n",
              "    border-color: transparent;\n",
              "    border-bottom-color: var(--fill-color);\n",
              "    animation:\n",
              "      spin 1s steps(1) infinite;\n",
              "  }\n",
              "\n",
              "  @keyframes spin {\n",
              "    0% {\n",
              "      border-color: transparent;\n",
              "      border-bottom-color: var(--fill-color);\n",
              "      border-left-color: var(--fill-color);\n",
              "    }\n",
              "    20% {\n",
              "      border-color: transparent;\n",
              "      border-left-color: var(--fill-color);\n",
              "      border-top-color: var(--fill-color);\n",
              "    }\n",
              "    30% {\n",
              "      border-color: transparent;\n",
              "      border-left-color: var(--fill-color);\n",
              "      border-top-color: var(--fill-color);\n",
              "      border-right-color: var(--fill-color);\n",
              "    }\n",
              "    40% {\n",
              "      border-color: transparent;\n",
              "      border-right-color: var(--fill-color);\n",
              "      border-top-color: var(--fill-color);\n",
              "    }\n",
              "    60% {\n",
              "      border-color: transparent;\n",
              "      border-right-color: var(--fill-color);\n",
              "    }\n",
              "    80% {\n",
              "      border-color: transparent;\n",
              "      border-right-color: var(--fill-color);\n",
              "      border-bottom-color: var(--fill-color);\n",
              "    }\n",
              "    90% {\n",
              "      border-color: transparent;\n",
              "      border-bottom-color: var(--fill-color);\n",
              "    }\n",
              "  }\n",
              "</style>\n",
              "\n",
              "  <script>\n",
              "    async function quickchart(key) {\n",
              "      const quickchartButtonEl =\n",
              "        document.querySelector('#' + key + ' button');\n",
              "      quickchartButtonEl.disabled = true;  // To prevent multiple clicks.\n",
              "      quickchartButtonEl.classList.add('colab-df-spinner');\n",
              "      try {\n",
              "        const charts = await google.colab.kernel.invokeFunction(\n",
              "            'suggestCharts', [key], {});\n",
              "      } catch (error) {\n",
              "        console.error('Error during call to suggestCharts:', error);\n",
              "      }\n",
              "      quickchartButtonEl.classList.remove('colab-df-spinner');\n",
              "      quickchartButtonEl.classList.add('colab-df-quickchart-complete');\n",
              "    }\n",
              "    (() => {\n",
              "      let quickchartButtonEl =\n",
              "        document.querySelector('#df-4d5c0935-19e2-4777-bc50-ec388d62ffa9 button');\n",
              "      quickchartButtonEl.style.display =\n",
              "        google.colab.kernel.accessAllowed ? 'block' : 'none';\n",
              "    })();\n",
              "  </script>\n",
              "</div>\n",
              "\n",
              "    </div>\n",
              "  </div>\n"
            ],
            "application/vnd.google.colaboratory.intrinsic+json": {
              "type": "dataframe",
              "variable_name": "obj",
              "summary": "{\n  \"name\": \"obj\",\n  \"rows\": 10000,\n  \"fields\": [\n    {\n      \"column\": \"default\",\n      \"properties\": {\n        \"dtype\": \"category\",\n        \"num_unique_values\": 2,\n        \"samples\": [\n          \"Yes\",\n          \"No\"\n        ],\n        \"semantic_type\": \"\",\n        \"description\": \"\"\n      }\n    },\n    {\n      \"column\": \"student\",\n      \"properties\": {\n        \"dtype\": \"category\",\n        \"num_unique_values\": 2,\n        \"samples\": [\n          \"Yes\",\n          \"No\"\n        ],\n        \"semantic_type\": \"\",\n        \"description\": \"\"\n      }\n    },\n    {\n      \"column\": \"balance\",\n      \"properties\": {\n        \"dtype\": \"number\",\n        \"std\": 483.7149852107759,\n        \"min\": 0.0,\n        \"max\": 2654.322576,\n        \"num_unique_values\": 9502,\n        \"samples\": [\n          245.3464925,\n          186.5235201\n        ],\n        \"semantic_type\": \"\",\n        \"description\": \"\"\n      }\n    },\n    {\n      \"column\": \"income\",\n      \"properties\": {\n        \"dtype\": \"number\",\n        \"std\": 13336.639562733584,\n        \"min\": 771.9677294,\n        \"max\": 73554.2335,\n        \"num_unique_values\": 10000,\n        \"samples\": [\n          31507.08928,\n          42139.07027\n        ],\n        \"semantic_type\": \"\",\n        \"description\": \"\"\n      }\n    }\n  ]\n}"
            }
          },
          "metadata": {},
          "execution_count": 3
        }
      ],
      "source": [
        "obj.head()"
      ]
    },
    {
      "cell_type": "code",
      "execution_count": 3,
      "id": "b09c3f99-5e86-422a-a363-64d334cf94c2",
      "metadata": {
        "id": "b09c3f99-5e86-422a-a363-64d334cf94c2"
      },
      "outputs": [],
      "source": []
    },
    {
      "cell_type": "code",
      "execution_count": 3,
      "id": "b9bf0fce-f20b-438c-aecd-6ce10bdbdf07",
      "metadata": {
        "id": "b9bf0fce-f20b-438c-aecd-6ce10bdbdf07"
      },
      "outputs": [],
      "source": []
    },
    {
      "cell_type": "markdown",
      "id": "15c04d29-f53e-4abc-be36-84fcd4ec5f0d",
      "metadata": {
        "id": "15c04d29-f53e-4abc-be36-84fcd4ec5f0d"
      },
      "source": [
        "El comando head arroja los primeras *n* líneas (por defecto 5) de los datos que están en el DataFrame.\n",
        "\n",
        "3. Utiliza el comando `obj.describe()`."
      ]
    },
    {
      "cell_type": "code",
      "execution_count": 4,
      "id": "d9500b33-6d04-4322-bebe-08fa02305429",
      "metadata": {
        "id": "d9500b33-6d04-4322-bebe-08fa02305429",
        "colab": {
          "base_uri": "https://localhost:8080/",
          "height": 300
        },
        "outputId": "89319228-5c6e-4162-cb11-3a085408357e"
      },
      "outputs": [
        {
          "output_type": "execute_result",
          "data": {
            "text/plain": [
              "            balance        income\n",
              "count  10000.000000  10000.000000\n",
              "mean     835.374886  33516.981876\n",
              "std      483.714985  13336.639563\n",
              "min        0.000000    771.967729\n",
              "25%      481.731105  21340.462903\n",
              "50%      823.636973  34552.644802\n",
              "75%     1166.308386  43807.729275\n",
              "max     2654.322576  73554.233500"
            ],
            "text/html": [
              "\n",
              "  <div id=\"df-2a4ff2d7-3588-4f93-961a-0cf7272e2e30\" class=\"colab-df-container\">\n",
              "    <div>\n",
              "<style scoped>\n",
              "    .dataframe tbody tr th:only-of-type {\n",
              "        vertical-align: middle;\n",
              "    }\n",
              "\n",
              "    .dataframe tbody tr th {\n",
              "        vertical-align: top;\n",
              "    }\n",
              "\n",
              "    .dataframe thead th {\n",
              "        text-align: right;\n",
              "    }\n",
              "</style>\n",
              "<table border=\"1\" class=\"dataframe\">\n",
              "  <thead>\n",
              "    <tr style=\"text-align: right;\">\n",
              "      <th></th>\n",
              "      <th>balance</th>\n",
              "      <th>income</th>\n",
              "    </tr>\n",
              "  </thead>\n",
              "  <tbody>\n",
              "    <tr>\n",
              "      <th>count</th>\n",
              "      <td>10000.000000</td>\n",
              "      <td>10000.000000</td>\n",
              "    </tr>\n",
              "    <tr>\n",
              "      <th>mean</th>\n",
              "      <td>835.374886</td>\n",
              "      <td>33516.981876</td>\n",
              "    </tr>\n",
              "    <tr>\n",
              "      <th>std</th>\n",
              "      <td>483.714985</td>\n",
              "      <td>13336.639563</td>\n",
              "    </tr>\n",
              "    <tr>\n",
              "      <th>min</th>\n",
              "      <td>0.000000</td>\n",
              "      <td>771.967729</td>\n",
              "    </tr>\n",
              "    <tr>\n",
              "      <th>25%</th>\n",
              "      <td>481.731105</td>\n",
              "      <td>21340.462903</td>\n",
              "    </tr>\n",
              "    <tr>\n",
              "      <th>50%</th>\n",
              "      <td>823.636973</td>\n",
              "      <td>34552.644802</td>\n",
              "    </tr>\n",
              "    <tr>\n",
              "      <th>75%</th>\n",
              "      <td>1166.308386</td>\n",
              "      <td>43807.729275</td>\n",
              "    </tr>\n",
              "    <tr>\n",
              "      <th>max</th>\n",
              "      <td>2654.322576</td>\n",
              "      <td>73554.233500</td>\n",
              "    </tr>\n",
              "  </tbody>\n",
              "</table>\n",
              "</div>\n",
              "    <div class=\"colab-df-buttons\">\n",
              "\n",
              "  <div class=\"colab-df-container\">\n",
              "    <button class=\"colab-df-convert\" onclick=\"convertToInteractive('df-2a4ff2d7-3588-4f93-961a-0cf7272e2e30')\"\n",
              "            title=\"Convert this dataframe to an interactive table.\"\n",
              "            style=\"display:none;\">\n",
              "\n",
              "  <svg xmlns=\"http://www.w3.org/2000/svg\" height=\"24px\" viewBox=\"0 -960 960 960\">\n",
              "    <path d=\"M120-120v-720h720v720H120Zm60-500h600v-160H180v160Zm220 220h160v-160H400v160Zm0 220h160v-160H400v160ZM180-400h160v-160H180v160Zm440 0h160v-160H620v160ZM180-180h160v-160H180v160Zm440 0h160v-160H620v160Z\"/>\n",
              "  </svg>\n",
              "    </button>\n",
              "\n",
              "  <style>\n",
              "    .colab-df-container {\n",
              "      display:flex;\n",
              "      gap: 12px;\n",
              "    }\n",
              "\n",
              "    .colab-df-convert {\n",
              "      background-color: #E8F0FE;\n",
              "      border: none;\n",
              "      border-radius: 50%;\n",
              "      cursor: pointer;\n",
              "      display: none;\n",
              "      fill: #1967D2;\n",
              "      height: 32px;\n",
              "      padding: 0 0 0 0;\n",
              "      width: 32px;\n",
              "    }\n",
              "\n",
              "    .colab-df-convert:hover {\n",
              "      background-color: #E2EBFA;\n",
              "      box-shadow: 0px 1px 2px rgba(60, 64, 67, 0.3), 0px 1px 3px 1px rgba(60, 64, 67, 0.15);\n",
              "      fill: #174EA6;\n",
              "    }\n",
              "\n",
              "    .colab-df-buttons div {\n",
              "      margin-bottom: 4px;\n",
              "    }\n",
              "\n",
              "    [theme=dark] .colab-df-convert {\n",
              "      background-color: #3B4455;\n",
              "      fill: #D2E3FC;\n",
              "    }\n",
              "\n",
              "    [theme=dark] .colab-df-convert:hover {\n",
              "      background-color: #434B5C;\n",
              "      box-shadow: 0px 1px 3px 1px rgba(0, 0, 0, 0.15);\n",
              "      filter: drop-shadow(0px 1px 2px rgba(0, 0, 0, 0.3));\n",
              "      fill: #FFFFFF;\n",
              "    }\n",
              "  </style>\n",
              "\n",
              "    <script>\n",
              "      const buttonEl =\n",
              "        document.querySelector('#df-2a4ff2d7-3588-4f93-961a-0cf7272e2e30 button.colab-df-convert');\n",
              "      buttonEl.style.display =\n",
              "        google.colab.kernel.accessAllowed ? 'block' : 'none';\n",
              "\n",
              "      async function convertToInteractive(key) {\n",
              "        const element = document.querySelector('#df-2a4ff2d7-3588-4f93-961a-0cf7272e2e30');\n",
              "        const dataTable =\n",
              "          await google.colab.kernel.invokeFunction('convertToInteractive',\n",
              "                                                    [key], {});\n",
              "        if (!dataTable) return;\n",
              "\n",
              "        const docLinkHtml = 'Like what you see? Visit the ' +\n",
              "          '<a target=\"_blank\" href=https://colab.research.google.com/notebooks/data_table.ipynb>data table notebook</a>'\n",
              "          + ' to learn more about interactive tables.';\n",
              "        element.innerHTML = '';\n",
              "        dataTable['output_type'] = 'display_data';\n",
              "        await google.colab.output.renderOutput(dataTable, element);\n",
              "        const docLink = document.createElement('div');\n",
              "        docLink.innerHTML = docLinkHtml;\n",
              "        element.appendChild(docLink);\n",
              "      }\n",
              "    </script>\n",
              "  </div>\n",
              "\n",
              "\n",
              "<div id=\"df-2cf7cdac-c064-4b01-8e7a-090c5a3bb1dd\">\n",
              "  <button class=\"colab-df-quickchart\" onclick=\"quickchart('df-2cf7cdac-c064-4b01-8e7a-090c5a3bb1dd')\"\n",
              "            title=\"Suggest charts\"\n",
              "            style=\"display:none;\">\n",
              "\n",
              "<svg xmlns=\"http://www.w3.org/2000/svg\" height=\"24px\"viewBox=\"0 0 24 24\"\n",
              "     width=\"24px\">\n",
              "    <g>\n",
              "        <path d=\"M19 3H5c-1.1 0-2 .9-2 2v14c0 1.1.9 2 2 2h14c1.1 0 2-.9 2-2V5c0-1.1-.9-2-2-2zM9 17H7v-7h2v7zm4 0h-2V7h2v10zm4 0h-2v-4h2v4z\"/>\n",
              "    </g>\n",
              "</svg>\n",
              "  </button>\n",
              "\n",
              "<style>\n",
              "  .colab-df-quickchart {\n",
              "      --bg-color: #E8F0FE;\n",
              "      --fill-color: #1967D2;\n",
              "      --hover-bg-color: #E2EBFA;\n",
              "      --hover-fill-color: #174EA6;\n",
              "      --disabled-fill-color: #AAA;\n",
              "      --disabled-bg-color: #DDD;\n",
              "  }\n",
              "\n",
              "  [theme=dark] .colab-df-quickchart {\n",
              "      --bg-color: #3B4455;\n",
              "      --fill-color: #D2E3FC;\n",
              "      --hover-bg-color: #434B5C;\n",
              "      --hover-fill-color: #FFFFFF;\n",
              "      --disabled-bg-color: #3B4455;\n",
              "      --disabled-fill-color: #666;\n",
              "  }\n",
              "\n",
              "  .colab-df-quickchart {\n",
              "    background-color: var(--bg-color);\n",
              "    border: none;\n",
              "    border-radius: 50%;\n",
              "    cursor: pointer;\n",
              "    display: none;\n",
              "    fill: var(--fill-color);\n",
              "    height: 32px;\n",
              "    padding: 0;\n",
              "    width: 32px;\n",
              "  }\n",
              "\n",
              "  .colab-df-quickchart:hover {\n",
              "    background-color: var(--hover-bg-color);\n",
              "    box-shadow: 0 1px 2px rgba(60, 64, 67, 0.3), 0 1px 3px 1px rgba(60, 64, 67, 0.15);\n",
              "    fill: var(--button-hover-fill-color);\n",
              "  }\n",
              "\n",
              "  .colab-df-quickchart-complete:disabled,\n",
              "  .colab-df-quickchart-complete:disabled:hover {\n",
              "    background-color: var(--disabled-bg-color);\n",
              "    fill: var(--disabled-fill-color);\n",
              "    box-shadow: none;\n",
              "  }\n",
              "\n",
              "  .colab-df-spinner {\n",
              "    border: 2px solid var(--fill-color);\n",
              "    border-color: transparent;\n",
              "    border-bottom-color: var(--fill-color);\n",
              "    animation:\n",
              "      spin 1s steps(1) infinite;\n",
              "  }\n",
              "\n",
              "  @keyframes spin {\n",
              "    0% {\n",
              "      border-color: transparent;\n",
              "      border-bottom-color: var(--fill-color);\n",
              "      border-left-color: var(--fill-color);\n",
              "    }\n",
              "    20% {\n",
              "      border-color: transparent;\n",
              "      border-left-color: var(--fill-color);\n",
              "      border-top-color: var(--fill-color);\n",
              "    }\n",
              "    30% {\n",
              "      border-color: transparent;\n",
              "      border-left-color: var(--fill-color);\n",
              "      border-top-color: var(--fill-color);\n",
              "      border-right-color: var(--fill-color);\n",
              "    }\n",
              "    40% {\n",
              "      border-color: transparent;\n",
              "      border-right-color: var(--fill-color);\n",
              "      border-top-color: var(--fill-color);\n",
              "    }\n",
              "    60% {\n",
              "      border-color: transparent;\n",
              "      border-right-color: var(--fill-color);\n",
              "    }\n",
              "    80% {\n",
              "      border-color: transparent;\n",
              "      border-right-color: var(--fill-color);\n",
              "      border-bottom-color: var(--fill-color);\n",
              "    }\n",
              "    90% {\n",
              "      border-color: transparent;\n",
              "      border-bottom-color: var(--fill-color);\n",
              "    }\n",
              "  }\n",
              "</style>\n",
              "\n",
              "  <script>\n",
              "    async function quickchart(key) {\n",
              "      const quickchartButtonEl =\n",
              "        document.querySelector('#' + key + ' button');\n",
              "      quickchartButtonEl.disabled = true;  // To prevent multiple clicks.\n",
              "      quickchartButtonEl.classList.add('colab-df-spinner');\n",
              "      try {\n",
              "        const charts = await google.colab.kernel.invokeFunction(\n",
              "            'suggestCharts', [key], {});\n",
              "      } catch (error) {\n",
              "        console.error('Error during call to suggestCharts:', error);\n",
              "      }\n",
              "      quickchartButtonEl.classList.remove('colab-df-spinner');\n",
              "      quickchartButtonEl.classList.add('colab-df-quickchart-complete');\n",
              "    }\n",
              "    (() => {\n",
              "      let quickchartButtonEl =\n",
              "        document.querySelector('#df-2cf7cdac-c064-4b01-8e7a-090c5a3bb1dd button');\n",
              "      quickchartButtonEl.style.display =\n",
              "        google.colab.kernel.accessAllowed ? 'block' : 'none';\n",
              "    })();\n",
              "  </script>\n",
              "</div>\n",
              "\n",
              "    </div>\n",
              "  </div>\n"
            ],
            "application/vnd.google.colaboratory.intrinsic+json": {
              "type": "dataframe",
              "summary": "{\n  \"name\": \"obj\",\n  \"rows\": 8,\n  \"fields\": [\n    {\n      \"column\": \"balance\",\n      \"properties\": {\n        \"dtype\": \"number\",\n        \"std\": 3304.6041266143916,\n        \"min\": 0.0,\n        \"max\": 10000.0,\n        \"num_unique_values\": 8,\n        \"samples\": [\n          835.37488561563,\n          823.6369726,\n          10000.0\n        ],\n        \"semantic_type\": \"\",\n        \"description\": \"\"\n      }\n    },\n    {\n      \"column\": \"income\",\n      \"properties\": {\n        \"dtype\": \"number\",\n        \"std\": 23044.237326939263,\n        \"min\": 771.9677294,\n        \"max\": 73554.2335,\n        \"num_unique_values\": 8,\n        \"samples\": [\n          33516.981875958874,\n          34552.644802009854,\n          10000.0\n        ],\n        \"semantic_type\": \"\",\n        \"description\": \"\"\n      }\n    }\n  ]\n}"
            }
          },
          "metadata": {},
          "execution_count": 4
        }
      ],
      "source": [
        "obj.describe()"
      ]
    },
    {
      "cell_type": "code",
      "execution_count": 4,
      "id": "643e5d7b-4a56-442b-9706-1732bf3e99a0",
      "metadata": {
        "id": "643e5d7b-4a56-442b-9706-1732bf3e99a0"
      },
      "outputs": [],
      "source": []
    },
    {
      "cell_type": "code",
      "execution_count": 4,
      "id": "060c28af-fec5-4cff-929a-8a9586aabf0d",
      "metadata": {
        "id": "060c28af-fec5-4cff-929a-8a9586aabf0d"
      },
      "outputs": [],
      "source": []
    },
    {
      "cell_type": "markdown",
      "id": "d0bddd85-1291-4b86-ac54-08579009eaad",
      "metadata": {
        "id": "d0bddd85-1291-4b86-ac54-08579009eaad"
      },
      "source": [
        "El comando describe toma las columnas que tienen datos numéricos y saca datos estadísticos comunes:\n",
        "- *n*\n",
        "- media\n",
        "- desviación estándar\n",
        "- valor mínimo\n",
        "- primer cuartil\n",
        "- mediana\n",
        "- tercer cuartil\n",
        "- valor máximo\n",
        "\n",
        "3. Vistos estos datos, ¿qué columnas existen en el DataFrame? ¿Qué tipo de datos contienen?"
      ]
    },
    {
      "cell_type": "markdown",
      "id": "be36451d-c633-4ff5-8973-5aabb455e467",
      "metadata": {
        "id": "be36451d-c633-4ff5-8973-5aabb455e467"
      },
      "source": []
    },
    {
      "cell_type": "markdown",
      "id": "815fb698-119d-4d30-b1a7-83a6f9a5c00a",
      "metadata": {
        "id": "815fb698-119d-4d30-b1a7-83a6f9a5c00a"
      },
      "source": []
    },
    {
      "cell_type": "markdown",
      "id": "250e1819-a2b8-4ae9-86c6-533ae4c2aa36",
      "metadata": {
        "id": "250e1819-a2b8-4ae9-86c6-533ae4c2aa36"
      },
      "source": []
    },
    {
      "cell_type": "markdown",
      "id": "d647ca4b-012f-4b9e-a062-6484f2fdb2c8",
      "metadata": {
        "id": "d647ca4b-012f-4b9e-a062-6484f2fdb2c8"
      },
      "source": [
        "4. Configura el tipo de dato de las columnas `default` y `student` para cambiarlos a variables categóricas.\n",
        "\n",
        "`data[columna] = data[columna].astype(\"category\")`"
      ]
    },
    {
      "cell_type": "code",
      "execution_count": 5,
      "id": "1ca68e38-8821-4a7b-96de-20f4209a2c84",
      "metadata": {
        "id": "1ca68e38-8821-4a7b-96de-20f4209a2c84"
      },
      "outputs": [],
      "source": [
        "obj[\"default\"] = obj[\"default\"].astype(\"category\")\n",
        "obj[\"student\"] = obj[\"student\"].astype(\"category\")\n",
        "\n",
        "\n"
      ]
    },
    {
      "cell_type": "code",
      "execution_count": 6,
      "id": "079e5d10-4a2a-470d-97b1-5b06f6b060ad",
      "metadata": {
        "id": "079e5d10-4a2a-470d-97b1-5b06f6b060ad",
        "colab": {
          "base_uri": "https://localhost:8080/",
          "height": 459
        },
        "outputId": "fd33f309-6f75-4b10-9889-b50c7e2a18bc"
      },
      "outputs": [
        {
          "output_type": "execute_result",
          "data": {
            "text/plain": [
              "0       No\n",
              "1       No\n",
              "2       No\n",
              "3       No\n",
              "4       No\n",
              "        ..\n",
              "9995    No\n",
              "9996    No\n",
              "9997    No\n",
              "9998    No\n",
              "9999    No\n",
              "Name: default, Length: 10000, dtype: category\n",
              "Categories (2, object): ['No', 'Yes']"
            ],
            "text/html": [
              "<div>\n",
              "<style scoped>\n",
              "    .dataframe tbody tr th:only-of-type {\n",
              "        vertical-align: middle;\n",
              "    }\n",
              "\n",
              "    .dataframe tbody tr th {\n",
              "        vertical-align: top;\n",
              "    }\n",
              "\n",
              "    .dataframe thead th {\n",
              "        text-align: right;\n",
              "    }\n",
              "</style>\n",
              "<table border=\"1\" class=\"dataframe\">\n",
              "  <thead>\n",
              "    <tr style=\"text-align: right;\">\n",
              "      <th></th>\n",
              "      <th>default</th>\n",
              "    </tr>\n",
              "  </thead>\n",
              "  <tbody>\n",
              "    <tr>\n",
              "      <th>0</th>\n",
              "      <td>No</td>\n",
              "    </tr>\n",
              "    <tr>\n",
              "      <th>1</th>\n",
              "      <td>No</td>\n",
              "    </tr>\n",
              "    <tr>\n",
              "      <th>2</th>\n",
              "      <td>No</td>\n",
              "    </tr>\n",
              "    <tr>\n",
              "      <th>3</th>\n",
              "      <td>No</td>\n",
              "    </tr>\n",
              "    <tr>\n",
              "      <th>4</th>\n",
              "      <td>No</td>\n",
              "    </tr>\n",
              "    <tr>\n",
              "      <th>...</th>\n",
              "      <td>...</td>\n",
              "    </tr>\n",
              "    <tr>\n",
              "      <th>9995</th>\n",
              "      <td>No</td>\n",
              "    </tr>\n",
              "    <tr>\n",
              "      <th>9996</th>\n",
              "      <td>No</td>\n",
              "    </tr>\n",
              "    <tr>\n",
              "      <th>9997</th>\n",
              "      <td>No</td>\n",
              "    </tr>\n",
              "    <tr>\n",
              "      <th>9998</th>\n",
              "      <td>No</td>\n",
              "    </tr>\n",
              "    <tr>\n",
              "      <th>9999</th>\n",
              "      <td>No</td>\n",
              "    </tr>\n",
              "  </tbody>\n",
              "</table>\n",
              "<p>10000 rows × 1 columns</p>\n",
              "</div><br><label><b>dtype:</b> category</label>"
            ]
          },
          "metadata": {},
          "execution_count": 6
        }
      ],
      "source": [
        "obj[\"default\"]"
      ]
    },
    {
      "cell_type": "code",
      "execution_count": 6,
      "id": "3f5c9895-5023-4379-9999-d2218a64ff56",
      "metadata": {
        "id": "3f5c9895-5023-4379-9999-d2218a64ff56"
      },
      "outputs": [],
      "source": []
    },
    {
      "cell_type": "markdown",
      "id": "ab653f15-e6c1-418f-8b78-4e4cb34c8380",
      "metadata": {
        "id": "ab653f15-e6c1-418f-8b78-4e4cb34c8380"
      },
      "source": [
        "Imagina que trabajas en un banco y que se te entregan estos datos. Tu objetivo es crear un modelo que ayude a predecir si una persona que solicita un crédito lo va a pagar. Exploremos los datos un poco más antes de crear un modelo.\n",
        "\n",
        "Veamos primero cómo es la distribución de los valores cuando una persona dejó de pagar y cuando siguió pagando. `Default` es el término utilizado para cuando una persona dejó de pagar.\n",
        "\n",
        "5. Crea una gráfica de caja para las columnas `income` y `balance`, con los datos agrupados con la columna `default`. Utiliza el comando `obj.boxplot(column=____, by=_____)`"
      ]
    },
    {
      "cell_type": "code",
      "execution_count": 7,
      "id": "546de528-d1b8-442b-9aec-e6be74bdbfbf",
      "metadata": {
        "id": "546de528-d1b8-442b-9aec-e6be74bdbfbf",
        "colab": {
          "base_uri": "https://localhost:8080/",
          "height": 496
        },
        "outputId": "fe708d58-f7d6-4e39-8344-d8c6545c767d"
      },
      "outputs": [
        {
          "output_type": "execute_result",
          "data": {
            "text/plain": [
              "<Axes: title={'center': 'income'}, xlabel='default'>"
            ]
          },
          "metadata": {},
          "execution_count": 7
        },
        {
          "output_type": "display_data",
          "data": {
            "text/plain": [
              "<Figure size 640x480 with 1 Axes>"
            ],
            "image/png": "[encoded data removed]"
          },
          "metadata": {}
        }
      ],
      "source": [
        "obj.boxplot(column=\"income\",by=\"default\")"
      ]
    },
    {
      "cell_type": "code",
      "execution_count": 8,
      "id": "4388e93e-be93-4db7-b0ce-1cd946432a07",
      "metadata": {
        "id": "4388e93e-be93-4db7-b0ce-1cd946432a07",
        "colab": {
          "base_uri": "https://localhost:8080/",
          "height": 496
        },
        "outputId": "2616f9a2-df1a-444c-d414-a66d089e0d41"
      },
      "outputs": [
        {
          "output_type": "execute_result",
          "data": {
            "text/plain": [
              "<Axes: title={'center': 'balance'}, xlabel='default'>"
            ]
          },
          "metadata": {},
          "execution_count": 8
        },
        {
          "output_type": "display_data",
          "data": {
            "text/plain": [
              "<Figure size 640x480 with 1 Axes>"
            ],
            "image/png": "[encoded data removed]"
          },
          "metadata": {}
        }
      ],
      "source": [
        "obj.boxplot(column=\"balance\",by=\"default\")"
      ]
    },
    {
      "cell_type": "code",
      "execution_count": 8,
      "id": "3149fb97-f0db-44c5-9927-971161dd3751",
      "metadata": {
        "id": "3149fb97-f0db-44c5-9927-971161dd3751"
      },
      "outputs": [],
      "source": []
    },
    {
      "cell_type": "markdown",
      "id": "ebb61978-5302-4b07-b20a-603b429f874b",
      "metadata": {
        "id": "ebb61978-5302-4b07-b20a-603b429f874b"
      },
      "source": [
        "6. Crea una gráfica de dispersión donde el eje *x* sea la columna `balance` y el eje *y* la columna `income`. Utiliza el comando `obj.plot.scatter(x, y, c=\"default\", colormap=\"PiYG_r\", alpha=0.5)`."
      ]
    },
    {
      "cell_type": "code",
      "execution_count": 9,
      "id": "1008ae54-6a73-442d-9598-2a2dfdb807a5",
      "metadata": {
        "id": "1008ae54-6a73-442d-9598-2a2dfdb807a5",
        "colab": {
          "base_uri": "https://localhost:8080/",
          "height": 467
        },
        "outputId": "3d82585d-4746-4079-cf6a-e6c46d381253"
      },
      "outputs": [
        {
          "output_type": "execute_result",
          "data": {
            "text/plain": [
              "<Axes: xlabel='balance', ylabel='income'>"
            ]
          },
          "metadata": {},
          "execution_count": 9
        },
        {
          "output_type": "display_data",
          "data": {
            "text/plain": [
              "<Figure size 640x480 with 2 Axes>"
            ],
            "image/png": "[encoded data removed]"
          },
          "metadata": {}
        }
      ],
      "source": [
        "\n",
        "\n",
        "obj.plot.scatter('balance', 'income', c=\"default\", colormap=\"PiYG_r\", alpha=0.5)"
      ]
    },
    {
      "cell_type": "code",
      "execution_count": 9,
      "id": "ea5d596a-5dea-46d3-aa10-fb3e47a34a28",
      "metadata": {
        "id": "ea5d596a-5dea-46d3-aa10-fb3e47a34a28"
      },
      "outputs": [],
      "source": []
    },
    {
      "cell_type": "code",
      "execution_count": 9,
      "id": "ca72041b-1f94-46e0-bea9-c6b3a571728b",
      "metadata": {
        "id": "ca72041b-1f94-46e0-bea9-c6b3a571728b"
      },
      "outputs": [],
      "source": []
    },
    {
      "cell_type": "markdown",
      "id": "49f3bb3e-5ba5-405f-9cfd-08a944f3a142",
      "metadata": {
        "id": "49f3bb3e-5ba5-405f-9cfd-08a944f3a142"
      },
      "source": [
        "La regresión (lineal o logística) se usa para encontrar una línea que ajuste los datos para tomar una decisión. La línea que buscamos en regresión logística es aquella que nos ayude a separar las diferentes categorías.\n",
        "\n",
        "<img style=\"float: left; \" src=\"https://www.baeldung.com/wp-content/uploads/sites/4/2023/10/decision_boundary_curve.jpg\" width=\"400px\" />\n"
      ]
    },
    {
      "cell_type": "markdown",
      "id": "d04c4af0-ccb8-4174-b388-6260f4f206ed",
      "metadata": {
        "id": "d04c4af0-ccb8-4174-b388-6260f4f206ed"
      },
      "source": [
        "## Regresión logística simple"
      ]
    },
    {
      "cell_type": "markdown",
      "id": "8479721f-877b-4c4f-abc1-1da69b8520eb",
      "metadata": {
        "id": "8479721f-877b-4c4f-abc1-1da69b8520eb"
      },
      "source": [
        "Creemos un modelo simple donde sólo utilizamos una de los factores para predecir una respuesta. Quiero conocer la probabilidad de que una persona deje de pagar su crédito dado el balance que tiene en su cuenta.\n",
        "\n",
        "$$ P(\\text{default}=\\text{Yes}|\\text{balance}) $$"
      ]
    },
    {
      "cell_type": "markdown",
      "id": "3cb24746-3fc3-444b-b7f4-0427a79eafc4",
      "metadata": {
        "id": "3cb24746-3fc3-444b-b7f4-0427a79eafc4"
      },
      "source": [
        "Por el momento la columna default no contiene valores numéricos, por lo que hay que transformar los datos. Como default es nuestra variable de respuesta (lo que queremos predecir) podemos nombrarla *y*.\n",
        "\n",
        "Ejecuta el código `y = obj[\"default\"] == \"Yes\"`. Extrae el factor `balance` en una variable *x*."
      ]
    },
    {
      "cell_type": "code",
      "execution_count": 10,
      "id": "c5f7d3df-a374-433a-bcf7-4c2e59cf2491",
      "metadata": {
        "id": "c5f7d3df-a374-433a-bcf7-4c2e59cf2491"
      },
      "outputs": [],
      "source": [
        "y = obj[\"default\"] == \"Yes\"\n",
        "\n",
        "x = obj[\"balance\"]\n"
      ]
    },
    {
      "cell_type": "code",
      "execution_count": 11,
      "id": "65959f38-4f3c-462a-a5c3-211306b3a035",
      "metadata": {
        "id": "65959f38-4f3c-462a-a5c3-211306b3a035",
        "colab": {
          "base_uri": "https://localhost:8080/",
          "height": 459
        },
        "outputId": "988ccac1-74ea-4362-a05c-a1ef6ecb399f"
      },
      "outputs": [
        {
          "output_type": "execute_result",
          "data": {
            "text/plain": [
              "0        729.526495\n",
              "1        817.180407\n",
              "2       1073.549164\n",
              "3        529.250605\n",
              "4        785.655883\n",
              "           ...     \n",
              "9995     711.555020\n",
              "9996     757.962918\n",
              "9997     845.411989\n",
              "9998    1569.009053\n",
              "9999     200.922183\n",
              "Name: balance, Length: 10000, dtype: float64"
            ],
            "text/html": [
              "<div>\n",
              "<style scoped>\n",
              "    .dataframe tbody tr th:only-of-type {\n",
              "        vertical-align: middle;\n",
              "    }\n",
              "\n",
              "    .dataframe tbody tr th {\n",
              "        vertical-align: top;\n",
              "    }\n",
              "\n",
              "    .dataframe thead th {\n",
              "        text-align: right;\n",
              "    }\n",
              "</style>\n",
              "<table border=\"1\" class=\"dataframe\">\n",
              "  <thead>\n",
              "    <tr style=\"text-align: right;\">\n",
              "      <th></th>\n",
              "      <th>balance</th>\n",
              "    </tr>\n",
              "  </thead>\n",
              "  <tbody>\n",
              "    <tr>\n",
              "      <th>0</th>\n",
              "      <td>729.526495</td>\n",
              "    </tr>\n",
              "    <tr>\n",
              "      <th>1</th>\n",
              "      <td>817.180407</td>\n",
              "    </tr>\n",
              "    <tr>\n",
              "      <th>2</th>\n",
              "      <td>1073.549164</td>\n",
              "    </tr>\n",
              "    <tr>\n",
              "      <th>3</th>\n",
              "      <td>529.250605</td>\n",
              "    </tr>\n",
              "    <tr>\n",
              "      <th>4</th>\n",
              "      <td>785.655883</td>\n",
              "    </tr>\n",
              "    <tr>\n",
              "      <th>...</th>\n",
              "      <td>...</td>\n",
              "    </tr>\n",
              "    <tr>\n",
              "      <th>9995</th>\n",
              "      <td>711.555020</td>\n",
              "    </tr>\n",
              "    <tr>\n",
              "      <th>9996</th>\n",
              "      <td>757.962918</td>\n",
              "    </tr>\n",
              "    <tr>\n",
              "      <th>9997</th>\n",
              "      <td>845.411989</td>\n",
              "    </tr>\n",
              "    <tr>\n",
              "      <th>9998</th>\n",
              "      <td>1569.009053</td>\n",
              "    </tr>\n",
              "    <tr>\n",
              "      <th>9999</th>\n",
              "      <td>200.922183</td>\n",
              "    </tr>\n",
              "  </tbody>\n",
              "</table>\n",
              "<p>10000 rows × 1 columns</p>\n",
              "</div><br><label><b>dtype:</b> float64</label>"
            ]
          },
          "metadata": {},
          "execution_count": 11
        }
      ],
      "source": [
        "x"
      ]
    },
    {
      "cell_type": "code",
      "execution_count": 12,
      "id": "0e99db8a-e858-4a03-b806-f411473209a4",
      "metadata": {
        "id": "0e99db8a-e858-4a03-b806-f411473209a4",
        "colab": {
          "base_uri": "https://localhost:8080/",
          "height": 459
        },
        "outputId": "66a81abf-a332-4363-c520-6e344b7c9e36"
      },
      "outputs": [
        {
          "output_type": "execute_result",
          "data": {
            "text/plain": [
              "0       False\n",
              "1       False\n",
              "2       False\n",
              "3       False\n",
              "4       False\n",
              "        ...  \n",
              "9995    False\n",
              "9996    False\n",
              "9997    False\n",
              "9998    False\n",
              "9999    False\n",
              "Name: default, Length: 10000, dtype: bool"
            ],
            "text/html": [
              "<div>\n",
              "<style scoped>\n",
              "    .dataframe tbody tr th:only-of-type {\n",
              "        vertical-align: middle;\n",
              "    }\n",
              "\n",
              "    .dataframe tbody tr th {\n",
              "        vertical-align: top;\n",
              "    }\n",
              "\n",
              "    .dataframe thead th {\n",
              "        text-align: right;\n",
              "    }\n",
              "</style>\n",
              "<table border=\"1\" class=\"dataframe\">\n",
              "  <thead>\n",
              "    <tr style=\"text-align: right;\">\n",
              "      <th></th>\n",
              "      <th>default</th>\n",
              "    </tr>\n",
              "  </thead>\n",
              "  <tbody>\n",
              "    <tr>\n",
              "      <th>0</th>\n",
              "      <td>False</td>\n",
              "    </tr>\n",
              "    <tr>\n",
              "      <th>1</th>\n",
              "      <td>False</td>\n",
              "    </tr>\n",
              "    <tr>\n",
              "      <th>2</th>\n",
              "      <td>False</td>\n",
              "    </tr>\n",
              "    <tr>\n",
              "      <th>3</th>\n",
              "      <td>False</td>\n",
              "    </tr>\n",
              "    <tr>\n",
              "      <th>4</th>\n",
              "      <td>False</td>\n",
              "    </tr>\n",
              "    <tr>\n",
              "      <th>...</th>\n",
              "      <td>...</td>\n",
              "    </tr>\n",
              "    <tr>\n",
              "      <th>9995</th>\n",
              "      <td>False</td>\n",
              "    </tr>\n",
              "    <tr>\n",
              "      <th>9996</th>\n",
              "      <td>False</td>\n",
              "    </tr>\n",
              "    <tr>\n",
              "      <th>9997</th>\n",
              "      <td>False</td>\n",
              "    </tr>\n",
              "    <tr>\n",
              "      <th>9998</th>\n",
              "      <td>False</td>\n",
              "    </tr>\n",
              "    <tr>\n",
              "      <th>9999</th>\n",
              "      <td>False</td>\n",
              "    </tr>\n",
              "  </tbody>\n",
              "</table>\n",
              "<p>10000 rows × 1 columns</p>\n",
              "</div><br><label><b>dtype:</b> bool</label>"
            ]
          },
          "metadata": {},
          "execution_count": 12
        }
      ],
      "source": [
        "y"
      ]
    },
    {
      "cell_type": "markdown",
      "id": "979a233e-fb64-4051-8a1f-aa9143c2ad1e",
      "metadata": {
        "id": "979a233e-fb64-4051-8a1f-aa9143c2ad1e"
      },
      "source": [
        "Crea un gráfico de dispersión donde el eje *x* sea `balance` y el eje *y* sea `default` transformado."
      ]
    },
    {
      "cell_type": "code",
      "execution_count": 13,
      "id": "38601930-985f-41b8-95c0-64e269fdd4fd",
      "metadata": {
        "id": "38601930-985f-41b8-95c0-64e269fdd4fd",
        "colab": {
          "base_uri": "https://localhost:8080/",
          "height": 430
        },
        "outputId": "0375aaa4-7181-4752-ae3e-a191b1300987"
      },
      "outputs": [
        {
          "output_type": "display_data",
          "data": {
            "text/plain": [
              "<Figure size 640x480 with 1 Axes>"
            ],
            "image/png": "[encoded data removed]"
          },
          "metadata": {}
        }
      ],
      "source": [
        "import matplotlib.pyplot as plt\n",
        "\n",
        "\n",
        "\n",
        "plt.scatter(x,y)\n",
        "plt.grid()"
      ]
    },
    {
      "cell_type": "code",
      "execution_count": 13,
      "id": "2ce5350c-96c8-499c-9d4e-0e48f34b3198",
      "metadata": {
        "id": "2ce5350c-96c8-499c-9d4e-0e48f34b3198"
      },
      "outputs": [],
      "source": []
    },
    {
      "cell_type": "code",
      "execution_count": 13,
      "id": "45d807f5-d835-4b87-a95d-0fe236df5116",
      "metadata": {
        "id": "45d807f5-d835-4b87-a95d-0fe236df5116"
      },
      "outputs": [],
      "source": []
    },
    {
      "cell_type": "markdown",
      "id": "4d2f52fe-f647-420a-bc8d-98854ce647eb",
      "metadata": {
        "id": "4d2f52fe-f647-420a-bc8d-98854ce647eb"
      },
      "source": [
        "La línea que utilizaremos para predecir la probabilidad es:\n",
        "\n",
        "$$ p(x) = \\frac{1}{1 + e^{-(\\beta_0 + \\beta_1 x)}} $$\n",
        "\n",
        "Para nuestro ejemplo de pagos y balance:\n",
        "\n",
        "$$ P(\\text{default}=1|\\text{balance}) = \\frac{1}{1 + e^{-(\\beta_0 + \\beta_1  \\text{balance})}} $$"
      ]
    },
    {
      "cell_type": "markdown",
      "id": "867bbcf8-3287-4f69-b396-1bc891e3d4b4",
      "metadata": {
        "id": "867bbcf8-3287-4f69-b396-1bc891e3d4b4"
      },
      "source": [
        "Buscamos maximizar la probabilidad de que el modelo tome decisiones correctas. Es decir, que cuando `default` fue verdadero, que la predicción sea 100%, y que cuando `default` fue falso que la predicción sea 0%.\n",
        "\n",
        "$$ \\Pi_{i:y_i=1} p(x_i) \\Pi_{i':y_{i'}} (1-p(x_{i'})) $$"
      ]
    },
    {
      "cell_type": "markdown",
      "id": "2548f26c-4608-45f6-974c-76dd9ff9ce10",
      "metadata": {
        "id": "2548f26c-4608-45f6-974c-76dd9ff9ce10"
      },
      "source": [
        "La función de costo ya simplificada es la siguiente:\n",
        "\n",
        "$$ J(\\vec{\\beta}) = -  \\sum_{i=1}^n{[y_i \\ln{(\\hat{p}(x_i))} + (1-y_i)\\ln{(1 - \\hat{p}(x_i))}]}$$"
      ]
    },
    {
      "cell_type": "markdown",
      "id": "cd13da5a-745c-42c9-b54d-eb0201038089",
      "metadata": {
        "id": "cd13da5a-745c-42c9-b54d-eb0201038089"
      },
      "source": [
        "Utiliza la función `minimize` del módulo `optimize` la librería `scipy` para estimar los parámetros del modelo. Utiliza $\\beta_0=-10$ y $\\beta_1=0.005$ como valores iniciales."
      ]
    },
    {
      "cell_type": "code",
      "execution_count": 14,
      "id": "1e27ce77-d143-40a8-8a85-7596ceb7ec07",
      "metadata": {
        "id": "1e27ce77-d143-40a8-8a85-7596ceb7ec07",
        "colab": {
          "base_uri": "https://localhost:8080/"
        },
        "outputId": "8fa1b1de-39a2-4c32-e8c2-00a000e53aee"
      },
      "outputs": [
        {
          "output_type": "stream",
          "name": "stderr",
          "text": [
            "<ipython-input-14-2ca277f2221a>:18: RuntimeWarning: overflow encountered in exp\n",
            "  return 1/(1 + np.exp(- X @ beta))\n"
          ]
        },
        {
          "output_type": "execute_result",
          "data": {
            "text/plain": [
              "array([[1.00000000e+00, 7.29526495e+02],\n",
              "       [1.00000000e+00, 8.17180407e+02],\n",
              "       [1.00000000e+00, 1.07354916e+03],\n",
              "       ...,\n",
              "       [1.00000000e+00, 8.45411989e+02],\n",
              "       [1.00000000e+00, 1.56900905e+03],\n",
              "       [1.00000000e+00, 2.00922183e+02]])"
            ]
          },
          "metadata": {},
          "execution_count": 14
        }
      ],
      "source": [
        "import numpy as np\n",
        "\n",
        "\n",
        "balance = obj[\"balance\"]\n",
        "X_0 = np.array(obj[\"balance\"])\n",
        "n = len(X_0)\n",
        "\n",
        "ones = np.ones([n,1])\n",
        "\n",
        "X_1 = np.reshape(X_0, [n,1])\n",
        "X = np.hstack((ones,X_1))\n",
        "\n",
        "y = np.array(obj[\"default\"] == \"Yes\")\n",
        "y_vector = np.reshape(y,[n,1])\n",
        "\n",
        "\n",
        "def pr(beta, X) :\n",
        "  return 1/(1 + np.exp(- X @ beta))\n",
        "\n",
        "def J(beta, X, y) :\n",
        "  epsilon = 1e-12\n",
        "  n, p = X.shape\n",
        "  beta = np.reshape(beta, [p, 1])\n",
        "  y_pred = pr(beta, X)\n",
        "  e = y*np.log(y_pred + epsilon) + (1-y)*np.log(1 - y_pred + epsilon)\n",
        "  return - (np.sum(e))\n",
        "\n",
        "import scipy.optimize as opt\n",
        "\n",
        "betalog = [0,0]\n",
        "\n",
        "log = opt.minimize(J, betalog, args=(X, y_vector))\n",
        "\n",
        "X"
      ]
    },
    {
      "cell_type": "code",
      "execution_count": 15,
      "id": "21c9b941-2563-474e-8944-0847ce7278fb",
      "metadata": {
        "id": "21c9b941-2563-474e-8944-0847ce7278fb",
        "colab": {
          "base_uri": "https://localhost:8080/",
          "height": 430
        },
        "outputId": "19be157b-6dcf-47fb-94a0-6611545568f2"
      },
      "outputs": [
        {
          "output_type": "display_data",
          "data": {
            "text/plain": [
              "<Figure size 640x480 with 1 Axes>"
            ],
            "image/png": "[encoded data removed]"
          },
          "metadata": {}
        }
      ],
      "source": [
        "def p(X,beta_r):\n",
        "  return 1/(1 + np.exp(- (X @ beta_r )))\n",
        "\n",
        "\n",
        "beta_r = np.reshape(log.x, [2,1])\n",
        "\n",
        "\n",
        "import matplotlib.pyplot as plt\n",
        "\n",
        "plt.figure()\n",
        "plt.plot(p(X, beta_r))\n",
        "plt.grid()\n",
        "\n"
      ]
    },
    {
      "cell_type": "code",
      "execution_count": 15,
      "id": "981dc02b-0c44-4981-b24d-82d9083e09d4",
      "metadata": {
        "id": "981dc02b-0c44-4981-b24d-82d9083e09d4"
      },
      "outputs": [],
      "source": []
    },
    {
      "cell_type": "markdown",
      "id": "1df9414b-2a8e-42bd-a84b-633ba221dc12",
      "metadata": {
        "id": "1df9414b-2a8e-42bd-a84b-633ba221dc12"
      },
      "source": [
        "Muchos aspectos de la regresión logística son similares a la regresión lineal. Podemos medir la precisión de nuestros estimados calculando sus errores estándar. El objetivo de calcular estos errores es asegurar que hay una relación estadísticamente significativa entre el factor y la variable de respuesta.\n",
        "\n",
        "Los errores estándar se obtienen con el siguiente procedimiento:\n",
        "\n",
        "1. Calcula las predicciones utilizando los $\\beta_0$ y $\\beta_1$ encontrados."
      ]
    },
    {
      "cell_type": "code",
      "execution_count": 16,
      "id": "3a41f402-bf4f-4dd9-9f41-b47aaa2ff7f7",
      "metadata": {
        "id": "3a41f402-bf4f-4dd9-9f41-b47aaa2ff7f7",
        "colab": {
          "base_uri": "https://localhost:8080/"
        },
        "outputId": "d4ea117f-b043-44ef-8a7a-70ab671cab01"
      },
      "outputs": [
        {
          "output_type": "execute_result",
          "data": {
            "text/plain": [
              "array([3.61164055e-01, 2.20373849e-04])"
            ]
          },
          "metadata": {},
          "execution_count": 16
        }
      ],
      "source": [
        "\n",
        "y_pred = p(X, beta_r)\n",
        "W = np.diag((y_pred * (1 - y_pred)).flatten())\n",
        "info = X.T @ W @ X\n",
        "cov_matrix = np.linalg.inv(info)\n",
        "\n",
        "\n",
        "standard_errors = np.sqrt(np.diag(cov_matrix))\n",
        "standard_errors\n"
      ]
    },
    {
      "cell_type": "code",
      "execution_count": 16,
      "id": "566c9c2e-4476-4ab7-a5c1-a72a27d46a6e",
      "metadata": {
        "id": "566c9c2e-4476-4ab7-a5c1-a72a27d46a6e"
      },
      "outputs": [],
      "source": []
    },
    {
      "cell_type": "code",
      "execution_count": 16,
      "id": "83ec9306-da93-4a39-aa54-da07f1a71db0",
      "metadata": {
        "id": "83ec9306-da93-4a39-aa54-da07f1a71db0"
      },
      "outputs": [],
      "source": []
    },
    {
      "cell_type": "markdown",
      "id": "7c9fd491-1e87-4b54-ad24-ae972ff499cb",
      "metadata": {
        "id": "7c9fd491-1e87-4b54-ad24-ae972ff499cb"
      },
      "source": [
        "2. Idealmente la probabilidad debería ser 100% o 0%. Si alguna predicción no fue absoluta significa que hay incertidumbre. Calcula $p(1-p)$ para todas tus predicciones."
      ]
    },
    {
      "cell_type": "code",
      "execution_count": 18,
      "id": "2ec63991-e6cd-48b9-afe1-0e6f2c25578b",
      "metadata": {
        "id": "2ec63991-e6cd-48b9-afe1-0e6f2c25578b",
        "colab": {
          "base_uri": "https://localhost:8080/"
        },
        "outputId": "2bbcbd4b-95c3-49ca-99c8-8743d3d13336"
      },
      "outputs": [
        {
          "output_type": "execute_result",
          "data": {
            "text/plain": [
              "array([[1.30403719e-03],\n",
              "       [2.10822656e-03],\n",
              "       [8.52118018e-03],\n",
              "       [4.34271650e-04],\n",
              "       [1.77388132e-03],\n",
              "       [3.69058535e-03],\n",
              "       [2.20663953e-03],\n",
              "       [2.01220046e-03],\n",
              "       [1.36420842e-02],\n",
              "       [2.36698912e-05]])"
            ]
          },
          "metadata": {},
          "execution_count": 18
        }
      ],
      "source": [
        "\n",
        "p_pred = y_pred\n",
        "variance_pred = p_pred * (1 - p_pred)\n",
        "\n",
        "\n",
        "variance_pred[:10]\n"
      ]
    },
    {
      "cell_type": "code",
      "execution_count": null,
      "id": "e897d7b6-97d2-4536-a46d-12e19d083b4f",
      "metadata": {
        "id": "e897d7b6-97d2-4536-a46d-12e19d083b4f"
      },
      "outputs": [],
      "source": []
    },
    {
      "cell_type": "code",
      "execution_count": null,
      "id": "ee34beed-72ae-440b-859e-bb376fda4b81",
      "metadata": {
        "id": "ee34beed-72ae-440b-859e-bb376fda4b81"
      },
      "outputs": [],
      "source": []
    },
    {
      "cell_type": "markdown",
      "id": "f3897eae-d856-4cc9-9224-4988784a2531",
      "metadata": {
        "id": "f3897eae-d856-4cc9-9224-4988784a2531"
      },
      "source": [
        "3. Crea una matriz vacía y llena la diagonal con las probabilidades encontradas.\n",
        "\n",
        "`V = np.diagflat(*p(1-p)*)`"
      ]
    },
    {
      "cell_type": "code",
      "execution_count": 19,
      "id": "b0414d6b-f881-4ee7-b406-9be9972aa4d5",
      "metadata": {
        "id": "b0414d6b-f881-4ee7-b406-9be9972aa4d5"
      },
      "outputs": [],
      "source": [
        "\n",
        "V = np.diagflat(variance_pred)\n",
        "\n",
        "\n"
      ]
    },
    {
      "cell_type": "code",
      "execution_count": null,
      "id": "e0ce76fe-4da1-49e0-83f3-aafadc4c9a66",
      "metadata": {
        "id": "e0ce76fe-4da1-49e0-83f3-aafadc4c9a66"
      },
      "outputs": [],
      "source": []
    },
    {
      "cell_type": "code",
      "execution_count": null,
      "id": "2154bbbf-3f09-4143-b854-9bac0c3009ca",
      "metadata": {
        "id": "2154bbbf-3f09-4143-b854-9bac0c3009ca"
      },
      "outputs": [],
      "source": []
    },
    {
      "cell_type": "markdown",
      "id": "f8e905e4-9d02-4077-aa3e-e8f2da17491c",
      "metadata": {
        "id": "f8e905e4-9d02-4077-aa3e-e8f2da17491c"
      },
      "source": [
        "4. Calcula la matriz de covarianza. (Dado que X es la matriz que contiene todos los factores)\n",
        "\n",
        "`cov = np.linalg.inv(X.T @ V @ X)`"
      ]
    },
    {
      "cell_type": "code",
      "execution_count": 20,
      "id": "6eb4d973-362b-470c-8f50-6ea4a5fb2c71",
      "metadata": {
        "id": "6eb4d973-362b-470c-8f50-6ea4a5fb2c71",
        "colab": {
          "base_uri": "https://localhost:8080/"
        },
        "outputId": "15d65e8c-f3bb-4a63-8835-ef7b01d09d48"
      },
      "outputs": [
        {
          "output_type": "execute_result",
          "data": {
            "text/plain": [
              "array([[ 1.30439475e-01, -7.81739040e-05],\n",
              "       [-7.81739040e-05,  4.85646333e-08]])"
            ]
          },
          "metadata": {},
          "execution_count": 20
        }
      ],
      "source": [
        "\n",
        "cov_mat = np.linalg.inv(X.T @ V @ X)\n",
        "\n",
        "\n",
        "cov_mat\n"
      ]
    },
    {
      "cell_type": "code",
      "execution_count": null,
      "id": "0779af66-573e-4340-88e7-521b8e15f765",
      "metadata": {
        "id": "0779af66-573e-4340-88e7-521b8e15f765"
      },
      "outputs": [],
      "source": []
    },
    {
      "cell_type": "code",
      "execution_count": null,
      "id": "f58130d4-d334-4034-81bc-2734910a658c",
      "metadata": {
        "id": "f58130d4-d334-4034-81bc-2734910a658c"
      },
      "outputs": [],
      "source": []
    },
    {
      "cell_type": "markdown",
      "id": "8a0ebe10-5f57-4f33-98d0-cc62259273ac",
      "metadata": {
        "id": "8a0ebe10-5f57-4f33-98d0-cc62259273ac"
      },
      "source": [
        "5. Los valores en la diagonal de la matriz de covarianza corresponden a la varianza de los factores. Utiliza los valores de la diagonal para calcular el error estándar.\n",
        "\n",
        "`se = np.sqrt(np.diag(cov))`"
      ]
    },
    {
      "cell_type": "code",
      "execution_count": 21,
      "id": "99119840-b3b2-4d99-8250-ff777b67cf19",
      "metadata": {
        "id": "99119840-b3b2-4d99-8250-ff777b67cf19",
        "colab": {
          "base_uri": "https://localhost:8080/"
        },
        "outputId": "7bc5a800-47de-4b62-aab1-492aeac0dfc1"
      },
      "outputs": [
        {
          "output_type": "execute_result",
          "data": {
            "text/plain": [
              "array([3.61164055e-01, 2.20373849e-04])"
            ]
          },
          "metadata": {},
          "execution_count": 21
        }
      ],
      "source": [
        "\n",
        "standard_errors = np.sqrt(np.diag(cov_mat))\n",
        "\n",
        "standard_errors\n"
      ]
    },
    {
      "cell_type": "code",
      "execution_count": null,
      "id": "160ee260-2e7d-4f47-a9d6-b37c285e39d8",
      "metadata": {
        "id": "160ee260-2e7d-4f47-a9d6-b37c285e39d8"
      },
      "outputs": [],
      "source": []
    },
    {
      "cell_type": "code",
      "execution_count": null,
      "id": "84d52f3d-dba8-4e77-8cbd-3b7dd7c4d920",
      "metadata": {
        "id": "84d52f3d-dba8-4e77-8cbd-3b7dd7c4d920"
      },
      "outputs": [],
      "source": []
    },
    {
      "cell_type": "markdown",
      "id": "850e3bf5-a888-4985-936c-6655f0109b02",
      "metadata": {
        "id": "850e3bf5-a888-4985-936c-6655f0109b02"
      },
      "source": [
        "Ahora, revisemos si los estimados de nuestros coeficientes demuestran que hay una relación significativa entre los factores y la respuesta.\n",
        "\n",
        "Calculamos el estadístico *z*\n",
        "\n",
        "$$ z_j = \\frac{\\hat{\\beta_j}}{\\text{SE}(\\hat{\\beta_j})} $$"
      ]
    },
    {
      "cell_type": "code",
      "execution_count": 23,
      "id": "a49cdb9a-6ad8-4ccf-a408-c13c024d4096",
      "metadata": {
        "id": "a49cdb9a-6ad8-4ccf-a408-c13c024d4096",
        "colab": {
          "base_uri": "https://localhost:8080/"
        },
        "outputId": "4d83e047-3291-4daa-b725-46e56d986547"
      },
      "outputs": [
        {
          "output_type": "execute_result",
          "data": {
            "text/plain": [
              "array([-29.49147134,  24.95252956])"
            ]
          },
          "metadata": {},
          "execution_count": 23
        }
      ],
      "source": [
        "\n",
        "beta_r = np.reshape(log.x, [2, 1])\n",
        "\n",
        "\n",
        "z_values = beta_r.flatten() / standard_errors\n",
        "\n",
        "z_values\n"
      ]
    },
    {
      "cell_type": "code",
      "execution_count": null,
      "id": "1779d07a-583b-4124-b920-7d5b2c0dc089",
      "metadata": {
        "id": "1779d07a-583b-4124-b920-7d5b2c0dc089"
      },
      "outputs": [],
      "source": []
    },
    {
      "cell_type": "code",
      "execution_count": null,
      "id": "1b545b22-e264-47ba-8846-107983ff7f23",
      "metadata": {
        "id": "1b545b22-e264-47ba-8846-107983ff7f23"
      },
      "outputs": [],
      "source": []
    },
    {
      "cell_type": "markdown",
      "id": "d4b57cc6-6a33-4554-ba5f-1d1570986f00",
      "metadata": {
        "id": "d4b57cc6-6a33-4554-ba5f-1d1570986f00"
      },
      "source": [
        "Utilizamos el estadístico *z* para encontrar el *p-value*.\n",
        "\n",
        "`from scipy.stats import norm`\n",
        "\n",
        "`p_value = 2 * (1 - norm.cdf(abs(z_statistic)))`"
      ]
    },
    {
      "cell_type": "code",
      "execution_count": 24,
      "id": "b95028ec-9c4b-48d3-95bb-7210202d9902",
      "metadata": {
        "id": "b95028ec-9c4b-48d3-95bb-7210202d9902",
        "colab": {
          "base_uri": "https://localhost:8080/"
        },
        "outputId": "0cf9d43f-932c-441f-b354-99f9f5ab3c7c"
      },
      "outputs": [
        {
          "output_type": "execute_result",
          "data": {
            "text/plain": [
              "array([0., 0.])"
            ]
          },
          "metadata": {},
          "execution_count": 24
        }
      ],
      "source": [
        "from scipy.stats import norm\n",
        "\n",
        "\n",
        "p_values = 2 * (1 - norm.cdf(np.abs(z_values)))\n",
        "\n",
        "p_values\n"
      ]
    },
    {
      "cell_type": "code",
      "execution_count": null,
      "id": "7a38b128-87a1-4ffd-b9f1-d35f72743cb2",
      "metadata": {
        "id": "7a38b128-87a1-4ffd-b9f1-d35f72743cb2"
      },
      "outputs": [],
      "source": []
    },
    {
      "cell_type": "code",
      "execution_count": null,
      "id": "660692fa-a954-4b49-8962-aaccc04b7d0d",
      "metadata": {
        "id": "660692fa-a954-4b49-8962-aaccc04b7d0d"
      },
      "outputs": [],
      "source": []
    },
    {
      "cell_type": "markdown",
      "id": "a465d7b1-1f78-4ae9-84a6-2b766c737e86",
      "metadata": {
        "id": "a465d7b1-1f78-4ae9-84a6-2b766c737e86"
      },
      "source": [
        "¿Es significativa la relación de los factores con la variable de respuesta?"
      ]
    },
    {
      "cell_type": "markdown",
      "id": "24252820-f896-4cda-9ff9-14b1c4e73cc1",
      "metadata": {
        "jp-MarkdownHeadingCollapsed": true,
        "id": "24252820-f896-4cda-9ff9-14b1c4e73cc1"
      },
      "source": []
    },
    {
      "cell_type": "markdown",
      "id": "a35fcf79-f150-4d91-a3ba-dd0c0005b379",
      "metadata": {
        "id": "a35fcf79-f150-4d91-a3ba-dd0c0005b379"
      },
      "source": []
    },
    {
      "cell_type": "markdown",
      "id": "255eee0a-7073-4595-ac4b-5e8275448eec",
      "metadata": {
        "id": "255eee0a-7073-4595-ac4b-5e8275448eec"
      },
      "source": []
    },
    {
      "cell_type": "markdown",
      "id": "d436f218-93ab-4319-98b7-f9b2ea222efd",
      "metadata": {
        "id": "d436f218-93ab-4319-98b7-f9b2ea222efd"
      },
      "source": [
        "Repite el procedimiento con el factor `student`.\n",
        "1. Transforma el factor de {\"Yes\", \"No\"} a {1, 0}.\n",
        "2. Utiliza `minimize` para estimar los coeficientes. Utiliza $\\beta_0 = -3.5$ y $\\beta_1 = 0.4$ como punto de partida.\n",
        "3. Calcula el error estándar de tus estimaciones.\n",
        "   1. Usa tu modelo para encontrar $\\hat{p}(X)$\n",
        "   2. Calcula el error $p(1-p)$\n",
        "   3. Calcula la matriz de covarianza\n",
        "   4. Extrae el error estándar\n",
        "5. Argumenta si los factores son significativos utilizando el *p-value*.\n",
        "   1. Utiliza el error estándar para calcular el estadístico *z*\n",
        "   2. Calcula el *p-value*\n",
        "   3. ¿Son significativos?\n"
      ]
    },
    {
      "cell_type": "code",
      "execution_count": null,
      "id": "73a2c768-6032-4c63-8d41-611c11e1fed5",
      "metadata": {
        "id": "73a2c768-6032-4c63-8d41-611c11e1fed5"
      },
      "outputs": [],
      "source": []
    },
    {
      "cell_type": "code",
      "execution_count": null,
      "id": "ef7cd598-ac3f-464b-91e3-f43d54040933",
      "metadata": {
        "id": "ef7cd598-ac3f-464b-91e3-f43d54040933"
      },
      "outputs": [],
      "source": []
    },
    {
      "cell_type": "code",
      "execution_count": null,
      "id": "22862547-7f77-4aaa-82a8-e2474f22461b",
      "metadata": {
        "id": "22862547-7f77-4aaa-82a8-e2474f22461b"
      },
      "outputs": [],
      "source": []
    },
    {
      "cell_type": "markdown",
      "id": "78e212e9-c505-4db4-8e7a-e533f11d1286",
      "metadata": {
        "id": "78e212e9-c505-4db4-8e7a-e533f11d1286"
      },
      "source": [
        "## Regresión logística múltiple"
      ]
    },
    {
      "cell_type": "markdown",
      "id": "9ac8c6c2-5e15-4684-9bd9-c31854d75fe1",
      "metadata": {
        "id": "9ac8c6c2-5e15-4684-9bd9-c31854d75fe1"
      },
      "source": [
        "Considera ahora el caso de múltiples factores. Intentemos predecir si la persona dejará de pagar su crédito utilizando toda la información que tenemos disponible. I.e.\n",
        "\n",
        "$$ P(\\text{default}=1|\\text{balance}, \\text{income}, \\text{student}) = \\frac{1}{1 + e^{-(\\beta_0 + \\beta_1  \\text{balance} + \\beta_2 \\text{income} + \\beta_3 \\text{student})}} $$"
      ]
    },
    {
      "cell_type": "markdown",
      "id": "9ae17c0f-e754-4287-bc34-f04396100460",
      "metadata": {
        "id": "9ae17c0f-e754-4287-bc34-f04396100460"
      },
      "source": [
        "1. Utiliza `minimize` para estimar los coeficientes. Utiliza los siguientes valores como punto de partida:\n",
        "   - $\\beta_0 = -10$\n",
        "   - $\\beta_1 = 0.005$\n",
        "   - $\\beta_2 = 0.003$\n",
        "   - $\\beta_3 = -0.65$\n",
        "2. Calcula el error estándar de tus estimaciones.\n",
        "3. Argumenta si los factores son significativos utilizando el *p-value*."
      ]
    },
    {
      "cell_type": "code",
      "execution_count": null,
      "id": "e7e36334-79c4-43c8-9006-da1ddf534dd6",
      "metadata": {
        "id": "e7e36334-79c4-43c8-9006-da1ddf534dd6"
      },
      "outputs": [],
      "source": []
    },
    {
      "cell_type": "code",
      "execution_count": null,
      "id": "f6a299ea-0986-4c6a-8522-86247552b77f",
      "metadata": {
        "id": "f6a299ea-0986-4c6a-8522-86247552b77f"
      },
      "outputs": [],
      "source": []
    },
    {
      "cell_type": "code",
      "execution_count": null,
      "id": "d49d4ed6-3732-4630-8445-8ae48f4135e1",
      "metadata": {
        "id": "d49d4ed6-3732-4630-8445-8ae48f4135e1"
      },
      "outputs": [],
      "source": []
    },
    {
      "cell_type": "markdown",
      "id": "c251eb97-5c7e-470b-b95b-c04a6f8831ff",
      "metadata": {
        "id": "c251eb97-5c7e-470b-b95b-c04a6f8831ff"
      },
      "source": [
        "¿Cómo sabemos qué tan bueno es el modelo? Hay cuatro posibles casos para un problema de clasificación simple:\n",
        "- Era sí y se predijo sí. (Verdadero positivo **TP**)\n",
        "- Era sí y se predijo no. (Falso negativo **FN**)\n",
        "- Era no y se predijo sí. (Falso positivo **FP**)\n",
        "- Era no y se predijo no. (Verdadero negativo **TN**)\n",
        "\n",
        "De esos cuatro casos hay dos donde el modelo es correcto y dos donde el modelo no es correcto."
      ]
    },
    {
      "cell_type": "markdown",
      "id": "c30ff1dd-5ed3-4ec2-8f21-1b11b34db645",
      "metadata": {
        "id": "c30ff1dd-5ed3-4ec2-8f21-1b11b34db645"
      },
      "source": [
        "![](https://miro.medium.com/v2/resize:fit:720/format:webp/1*IuymDnZpRlkat0qejE26Nw.png)"
      ]
    },
    {
      "cell_type": "markdown",
      "id": "6510780d-6b24-41dc-a755-41daf62396ac",
      "metadata": {
        "id": "6510780d-6b24-41dc-a755-41daf62396ac"
      },
      "source": [
        "1. Menciona dos ejemplos donde consideres que un falso positivo sea un peor resultado que un falso negativo."
      ]
    },
    {
      "cell_type": "markdown",
      "id": "db97be2c-cd7d-4c44-9459-28286d261904",
      "metadata": {
        "id": "db97be2c-cd7d-4c44-9459-28286d261904"
      },
      "source": []
    },
    {
      "cell_type": "markdown",
      "id": "9f870dc7-ae32-464f-a22d-d3b073c894ec",
      "metadata": {
        "id": "9f870dc7-ae32-464f-a22d-d3b073c894ec"
      },
      "source": []
    },
    {
      "cell_type": "markdown",
      "id": "a709cdbb-6de3-4117-ba06-59feaab58865",
      "metadata": {
        "id": "a709cdbb-6de3-4117-ba06-59feaab58865"
      },
      "source": []
    },
    {
      "cell_type": "markdown",
      "id": "994601c2-a7ff-4406-9235-d9b6bb5054bd",
      "metadata": {
        "id": "994601c2-a7ff-4406-9235-d9b6bb5054bd"
      },
      "source": [
        "2. Menciona dos ejemplos donde consideres que un falso negativo sea un peor resultado que un falso positivo."
      ]
    },
    {
      "cell_type": "markdown",
      "id": "91e4ec0d-9d8e-4aba-a590-14f02cf68a47",
      "metadata": {
        "id": "91e4ec0d-9d8e-4aba-a590-14f02cf68a47"
      },
      "source": []
    },
    {
      "cell_type": "markdown",
      "id": "15db3797-05d5-4cce-87d9-42c5ecbd3c3e",
      "metadata": {
        "id": "15db3797-05d5-4cce-87d9-42c5ecbd3c3e"
      },
      "source": []
    },
    {
      "cell_type": "markdown",
      "id": "3202b95e-cb0d-4891-b07e-5981e67eab3f",
      "metadata": {
        "id": "3202b95e-cb0d-4891-b07e-5981e67eab3f"
      },
      "source": []
    },
    {
      "cell_type": "markdown",
      "id": "ea6276ff-dad9-4caf-a6ed-a23a60ac7ada",
      "metadata": {
        "id": "ea6276ff-dad9-4caf-a6ed-a23a60ac7ada"
      },
      "source": [
        "## Referencia\n",
        "\n",
        "James, G., Witten, D., Hastie, T., Tibshirani, R.,, Taylor, J. (2023). An Introduction to Statistical Learning with Applications in Python. Cham: Springer. ISBN: 978-3-031-38746-3"
      ]
    }
  ],
  "metadata": {
    "kernelspec": {
      "display_name": "Python 3 (ipykernel)",
      "language": "python",
      "name": "python3"
    },
    "language_info": {
      "codemirror_mode": {
        "name": "ipython",
        "version": 3
      },
      "file_extension": ".py",
      "mimetype": "text/x-python",
      "name": "python",
      "nbconvert_exporter": "python",
      "pygments_lexer": "ipython3",
      "version": "3.12.4"
    },
    "colab": {
      "provenance": [],
      "include_colab_link": true
    }
  },
  "nbformat": 4,
  "nbformat_minor": 5
}